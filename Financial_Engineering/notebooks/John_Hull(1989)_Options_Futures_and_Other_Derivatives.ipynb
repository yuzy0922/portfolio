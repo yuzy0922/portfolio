{
 "cells": [
  {
   "cell_type": "code",
   "execution_count": 1,
   "metadata": {},
   "outputs": [],
   "source": [
    "# Import libraries\n",
    "import pandas as pd\n",
    "import numpy as np\n",
    "import matplotlib.pyplot as plt\n",
    "\n",
    "import sympy\n",
    "from sympy import symbols\n",
    "\n",
    "import warnings\n",
    "warnings.simplefilter('ignore')"
   ]
  },
  {
   "cell_type": "markdown",
   "metadata": {},
   "source": [
    "# Introduction/Basics of futures markets (OFOD CH01, 02)"
   ]
  },
  {
   "cell_type": "markdown",
   "metadata": {},
   "source": [
    "## Introduction"
   ]
  },
  {
   "cell_type": "markdown",
   "metadata": {},
   "source": [
    "### History"
   ]
  },
  {
   "cell_type": "markdown",
   "metadata": {},
   "source": [
    "- In 1848, the first derivatives exchange was created in Chicago, United\n",
    "States for commodity markets (The Chicago Board of Trade-CBOT)\n",
    "- The CME was created in 1874"
   ]
  },
  {
   "cell_type": "markdown",
   "metadata": {},
   "source": [
    "### Amount outstanding"
   ]
  },
  {
   "cell_type": "markdown",
   "metadata": {},
   "source": [
    "OTC is growing."
   ]
  },
  {
   "cell_type": "markdown",
   "metadata": {},
   "source": [
    "### Definition "
   ]
  },
  {
   "cell_type": "markdown",
   "metadata": {},
   "source": [
    "- A derivatives is a financial security with a value derived from an underlying asset\n",
    "- Different types of risks can be managed with derivatives, for example : stocks, currencies, interest rates, commodities, debt instruments, volatility, electricity, insurance payouts, default, weather, etc\n",
    "- Derivatives play a key role in transferring risks in the economy (hedging) but they could be also used for speculation\n"
   ]
  },
  {
   "cell_type": "markdown",
   "metadata": {},
   "source": [
    "### Main products"
   ]
  },
  {
   "cell_type": "markdown",
   "metadata": {},
   "source": [
    "- A futures/forward contract is an agreement to buy or sell an asset for a certain price at a certain time\n",
    "- A swap is an agreement to exchange cash-flows in the future\n",
    "- An option is a right to buy (call) or sell (put) a certain asset by (American style) or at (European style) a certain date for a certain price to the other"
   ]
  },
  {
   "cell_type": "markdown",
   "metadata": {},
   "source": [
    "### How it works"
   ]
  },
  {
   "cell_type": "markdown",
   "metadata": {},
   "source": [
    "Derivatives are\n",
    "- contracts between two parties with a defined lifetime: to every long position, there is an outstanding short position\n",
    "- a zero-sum game : at any time, the cash-flows received (paid) by the holder of a derivative are paid (received) by his counterpart"
   ]
  },
  {
   "cell_type": "markdown",
   "metadata": {},
   "source": [
    "### Markets"
   ]
  },
  {
   "cell_type": "markdown",
   "metadata": {},
   "source": [
    "- Exchange traded\n",
    "- OTC"
   ]
  },
  {
   "cell_type": "markdown",
   "metadata": {},
   "source": [
    "### Key players"
   ]
  },
  {
   "cell_type": "markdown",
   "metadata": {},
   "source": [
    "- Hedgers: seek to hedge or reduce their risks with derivatives (interest rate risk, exchange rate risk, market risk)\n",
    "- Speculators: use derivatives to take a position in the market, betting that the underlying value will increase or decrease\n",
    "- Arbitrageurs: take advantage of abnormal differences in the price of different assets\n",
    "and lock-in riskless profits at no cost"
   ]
  },
  {
   "cell_type": "markdown",
   "metadata": {},
   "source": [
    "## Basics of Futures and Forward markets"
   ]
  },
  {
   "cell_type": "markdown",
   "metadata": {},
   "source": [
    "### Forwards and Futures definition"
   ]
  },
  {
   "cell_type": "markdown",
   "metadata": {},
   "source": [
    "A forward contract is:\n",
    "\n",
    "- an OTC contract between two parties to buy or sell an asset for a certain price at a certain time in the future\n",
    "- all terms (forward price, underlying asset, size, delivery date, delivery place) can be negotiated (customised)\n",
    "- the price at which the trade will occur is locked in today but there are no intermediate cash-flows\n",
    "- at maturity\n",
    " - the buyer (holding a long position) has the obligation to pay the forward price against the delivery of the asset\n",
    " - the seller (holding a short position) has the obligation to deliver the asset and receive the forward price in exchange"
   ]
  },
  {
   "cell_type": "markdown",
   "metadata": {},
   "source": [
    "Example of Forward contract:\n",
    "- Two parties agree today to exchange 500 000 barrels of crude oil – quality WTI (West Texas Intermediate) - for USD 42.08 a barrel in three months from today, with a delivery in Cushing (Oklahoma-USA).\n",
    "- Terms : forward price (42,08), underlying asset (WTI), size (500000 barrels), delivery date (T+3M), delivery place (Cushing) "
   ]
  },
  {
   "cell_type": "markdown",
   "metadata": {},
   "source": [
    "A futures contract is:\n",
    "- an exchange traded contract to deliver (in a case of a short position) or to receive (in a case of a long position, counterpart) a given quantity of a given asset at a future date at a price fixed today (futures price)\n",
    "- standardized : all contracts are identical (they are fungible) in terms of underlying asset (commodities, financial assets), contract size, delivery arrangements, or maturity (delivery month)"
   ]
  },
  {
   "cell_type": "markdown",
   "metadata": {},
   "source": [
    "Example of Futures contract:\n",
    "\n",
    "- WTI futures listed on the CME (Chicago Mercantile Exchange)\n",
    "- Underlying : WTI crude oil\n",
    "- contract size : 1 000 barrels (42,000 US gallons)\n",
    "- delivery : at any pipeline or storage facility in Cushing\n",
    "- maturity : 72 consecutive months are listed\n",
    "- quotation: US dollars per barrel"
   ]
  },
  {
   "cell_type": "markdown",
   "metadata": {},
   "source": [
    "### Trading in futures contracts"
   ]
  },
  {
   "cell_type": "markdown",
   "metadata": {},
   "source": [
    "#### PL for long / short"
   ]
  },
  {
   "cell_type": "code",
   "execution_count": 2,
   "metadata": {},
   "outputs": [],
   "source": [
    "# Function of PL for long \n",
    "def PL_long(n_of_contracts, nominal_value_futures, long_entry_price, closed_out_price):\n",
    "    PL_long = (closed_out_price - long_entry_price) * nominal_value_futures * n_of_contracts\n",
    "    return PL_long\n",
    "## USD"
   ]
  },
  {
   "cell_type": "code",
   "execution_count": 3,
   "metadata": {},
   "outputs": [
    {
     "data": {
      "text/plain": [
       "100000"
      ]
     },
     "execution_count": 3,
     "metadata": {},
     "output_type": "execute_result"
    }
   ],
   "source": [
    "# Example with long position of crude oil WTI futures\n",
    "# Given by questions\n",
    "n_of_contracts = 10\n",
    "nominal_value_futures = 1000\n",
    "long_entry_price = 40\n",
    "closed_out_price = 50\n",
    "\n",
    "# Impute the given values and get the answer\n",
    "PL_long = PL_long(n_of_contracts, nominal_value_futures, long_entry_price, closed_out_price)\n",
    "PL_long"
   ]
  },
  {
   "cell_type": "code",
   "execution_count": 4,
   "metadata": {},
   "outputs": [],
   "source": [
    "# Function of PL for short\n",
    "def PL_short(n_of_contracts, nominal_value_futures, short_entry_price, closed_out_price):\n",
    "    PL_short = (short_entry_price - closed_out_price) * nominal_value_futures * n_of_contracts\n",
    "    return PL_short\n",
    "## USD"
   ]
  },
  {
   "cell_type": "code",
   "execution_count": 5,
   "metadata": {},
   "outputs": [
    {
     "data": {
      "text/plain": [
       "10000"
      ]
     },
     "execution_count": 5,
     "metadata": {},
     "output_type": "execute_result"
    }
   ],
   "source": [
    "# Example with long position of crude oil WTI futures\n",
    "# Given by questions\n",
    "n_of_contracts = 10\n",
    "nominal_value_futures = 1000\n",
    "short_entry_price = 45\n",
    "closed_out_price = 44\n",
    "\n",
    "# Impute the given values and get the answer\n",
    "PL_short = PL_short(n_of_contracts, nominal_value_futures, short_entry_price, closed_out_price)\n",
    "PL_short"
   ]
  },
  {
   "cell_type": "markdown",
   "metadata": {},
   "source": [
    "#### Margin call calculation"
   ]
  },
  {
   "cell_type": "code",
   "execution_count": 6,
   "metadata": {},
   "outputs": [],
   "source": [
    "# Function of margin call calculation\n",
    "def margin_call_3days(n_of_contracts, contract_size, futures_price, marginal_requirement, maintenance_margin, settlement_price_firstDay, settlement_price_secondDay, settlement_price_thirdDay):\n",
    "    # First day settlement\n",
    "    marginal_account = marginal_requirement - (futures_price - settlement_price_firstDay) * n_of_contracts * contract_size\n",
    "    if marginal_account < maintenance_margin:\n",
    "        marginal_account = marginal_requirement\n",
    "    else:\n",
    "        marginal_account = marginal_account\n",
    "    \n",
    "    # Second day settlement\n",
    "    marginal_account = marginal_account - (settlement_price_firstDay - settlement_price_secondDay) * n_of_contracts * contract_size\n",
    "    if marginal_account < maintenance_margin:\n",
    "        marginal_account = marginal_requirement\n",
    "    else:\n",
    "        marginal_account = marginal_account\n",
    "    \n",
    "    # Third day settlement\n",
    "    marginal_account = marginal_account - (settlement_price_secondDay - settlement_price_thirdDay) * n_of_contracts * contract_size\n",
    "    if marginal_account < maintenance_margin:\n",
    "        marginal_account = marginal_requirement\n",
    "    else:\n",
    "        marginal_account = marginal_account\n",
    "    \n",
    "    return marginal_account"
   ]
  },
  {
   "cell_type": "code",
   "execution_count": 7,
   "metadata": {},
   "outputs": [
    {
     "data": {
      "text/plain": [
       "16000"
      ]
     },
     "execution_count": 7,
     "metadata": {},
     "output_type": "execute_result"
    }
   ],
   "source": [
    "# Example of margin call calculation\n",
    "\n",
    "# Given by questions\n",
    "n_of_contracts = 2\n",
    "contract_size = 100 ## oz\n",
    "futures_price = 1250 ## USD per oz\n",
    "mr = 6000 ## USD\n",
    "marginal_requirement = mr * n_of_contracts\n",
    "mm = 4500 ## USD\n",
    "maintenance_margin = mm * n_of_contracts\n",
    "settlement_price_firstDay = 1241 ## USD\n",
    "settlement_price_secondDay = 1231 ## USD\n",
    "settlement_price_thirdDay = 1251 ## USD\n",
    "\n",
    "answer = margin_call_3days(n_of_contracts, contract_size, futures_price, marginal_requirement, maintenance_margin, settlement_price_firstDay, settlement_price_secondDay, settlement_price_thirdDay)\n",
    "answer ## USD"
   ]
  },
  {
   "cell_type": "markdown",
   "metadata": {},
   "source": [
    "### Forwards VS Futures"
   ]
  },
  {
   "cell_type": "markdown",
   "metadata": {},
   "source": [
    "Forwards:\n",
    "- Private contract between 2 parties\n",
    "- Fully negociable contract\n",
    "- Usually 1 specified delivery date\n",
    "- Settled at end of contract\n",
    "- Delivery or final cash settlement usually occurs\n",
    "- Some credit risk\n",
    "\n",
    "Futures:\n",
    "- Exhange traded\n",
    "- Standard contract\n",
    "- Range of delivery dates\n",
    "- Settled daily\n",
    "- Contract usually closed out prior to maturity\n",
    "- Virtally no credit risk"
   ]
  },
  {
   "cell_type": "markdown",
   "metadata": {},
   "source": [
    "# Option fundamentals (OFOD CH10)"
   ]
  },
  {
   "cell_type": "markdown",
   "metadata": {},
   "source": [
    "Outline:\n",
    "- Definition\n",
    "- Type of options\n",
    "- Positions, payoffs, P/L\n",
    "- Underlying assets and specifications\n",
    "- Trading"
   ]
  },
  {
   "cell_type": "markdown",
   "metadata": {},
   "source": [
    "## Definition\n",
    "- An option is a right to buy (call) or sell (put) an underlying asset at a specified price (strike price) within a specific timeframe.\n",
    "- The price of an option is called a premium\n",
    "- Total value of an option (premium) = the intrinsic value + the time value"
   ]
  },
  {
   "cell_type": "markdown",
   "metadata": {},
   "source": [
    "## Type of options\n",
    "\n",
    "Call options\n",
    "- a European call option gives its holder (who has a long position) the right to buy a certain asset at a certain date for a certain price (the strike price)\n",
    "\n",
    "Put options\n",
    "- a European put option gives its holder (who has a long position) the right to sell a certain asset at a certain date for a certain price (the strike price)\n",
    "\n",
    "American options vs. European options\n",
    "- an American option can be exercised at any time during its life\n",
    "- when the option is exercised before maturity, we speak of early exercise\n",
    "- even American options can only be exercised once"
   ]
  },
  {
   "cell_type": "markdown",
   "metadata": {},
   "source": [
    "## Positions, payoffs, P/L\n",
    "The 4 basic possible positions summarized\n",
    "\n",
    "long call\n",
    "- pay a premium today for the right to buy in the future\n",
    "- P/LT = max(ST – K; 0) – c = (ST – K) – c\n",
    "\n",
    "long put\n",
    "- pay a premium today for the right to sell in the future\n",
    "- P/LT = max(K – ST; 0) – p\n",
    "\n",
    "short call\n",
    "- receive a premium today against the possibility of having to sell in the future\n",
    "- P/LT = –max(ST – K; 0) + c\n",
    "\n",
    "short put\n",
    "- receive a premium today against the possibility of having to buy in the future\n",
    "- P/LT = –max(K – ST; 0) + p"
   ]
  },
  {
   "cell_type": "markdown",
   "metadata": {},
   "source": [
    "## Underlying assets and specifications\n",
    "\n",
    "Types of underlying\n",
    "- Stocks: premium are quoted for 1 stock, contract stands for a given quantity of stocks (100, for example)\n",
    "- currencies: premium given in cents per unit of foreign currency, contract on a certain amount of foreign currency (€125,000)\n",
    "- indices: exclusively cash-settled\n",
    "- interest rates: mostly short-terms maturities\n",
    "- futures\n",
    "\n",
    "Dividends, Stock split"
   ]
  },
  {
   "cell_type": "markdown",
   "metadata": {},
   "source": [
    "## Trading"
   ]
  },
  {
   "cell_type": "markdown",
   "metadata": {},
   "source": [
    "- Option class\n",
    "- Option series\n",
    "- At-the-money option/In-the-money option/Out-of-the money option\n",
    "- Moneyness\n",
    "- The intrinsic value is the maximum of zero and the value the option would have should it be exercised immediately\n",
    " - Call : VI_t = max(S_t – K ; 0 )\n",
    " - Put : VI_t = max(K – S_t; 0 )\n",
    "- The time value is the difference between the total value of an option (premium) and its intrinsic value\n",
    " - Call : VS_t = c_t – VI_t\n",
    " - Put : VS_t = p_t – VI_t"
   ]
  },
  {
   "cell_type": "markdown",
   "metadata": {},
   "source": [
    "## Exercise"
   ]
  },
  {
   "cell_type": "markdown",
   "metadata": {},
   "source": [
    "### Exercise 1 <br>\n",
    "\n",
    "An investor buys a stock at 14 USD per share.\n",
    "\n",
    "He assumes that the price will go up, but in the event that the stock value goes down, he buys a put option at a premium of 1 USD with a strike at 10 USD with a 6-month maturity.\n",
    "\n",
    "What happens at expiration if:\n",
    "- the value of the stock has increased to 16 USD ?\n",
    "- the value of the stock has decreased to 8 USD ?"
   ]
  },
  {
   "cell_type": "markdown",
   "metadata": {},
   "source": [
    "Answer\n",
    "\n",
    "If the value of the stock has increased to 16 USD, <br>\n",
    "He will not exercise the put option and will lost the premium (1 USD)\n",
    "\n",
    "If the value of the stock has decreased to 8 USD, <br>\n",
    "He can sell the stock he bought (at 14 USD per share) for 10 USD per share. With the put option, he limited his losses to 4 USD per share (without taking into account the premium of 1 USD paid). Without the put option, he would have lost 6 USD per share."
   ]
  },
  {
   "cell_type": "markdown",
   "metadata": {},
   "source": [
    "### Exercise 2\n",
    "A speculator purchased a call option on British pounds for USD 0.02 per unit. The\n",
    "strike price was USD 1.45 and the spot rate at the time the option was exercised\n",
    "was USD 1.46\n",
    "Assume there are 31,250 units in a British pound option. What was his net P/L\n",
    "on this option?"
   ]
  },
  {
   "cell_type": "markdown",
   "metadata": {},
   "source": [
    "Answer\n",
    "\n",
    "- P/L per unit on exercising the option = USD 0.01\n",
    "- Premium paid per unit = USD 0.02\n",
    "- Net P/L per unit = – USD 0.01\n",
    "- Net P/L per option = 31,250 units × (–USD 0.01) = –USD 312.50"
   ]
  },
  {
   "cell_type": "markdown",
   "metadata": {},
   "source": [
    "# Arbitrage relationships (OFOD CH11)"
   ]
  },
  {
   "cell_type": "markdown",
   "metadata": {},
   "source": [
    "## Arbitrage relationship"
   ]
  },
  {
   "cell_type": "markdown",
   "metadata": {},
   "source": [
    "- is a model-free restriction imposed on the value of options that prevents arbitrage opportunities\n",
    "- When such a condition is not met \n",
    " - it is possible to build a portfolio that generates arbitrage profits\n",
    "\n",
    "How can we demonstrate an arbitrage relationship?\n",
    "\n",
    " 1. we first assume the relationship does not hold\n",
    " 2. then we build the arbitrage portfolio\n",
    "  - with positive or zero initial payoffs\n",
    "  - with positive or zero future payoffs at all dates before expiration and at expiration (take care about possible early exercise of American options)\n",
    "\n",
    "The idea is simply that\n",
    " - if, for certain prices, an arbitrage exists, these prices are not compatible with an equilibrium"
   ]
  },
  {
   "cell_type": "markdown",
   "metadata": {},
   "source": [
    "## Minimum value"
   ]
  },
  {
   "cell_type": "markdown",
   "metadata": {},
   "source": [
    "- The option premium must be higher than the greater of zero and\n",
    " - the difference between the underlying value (S) and the present value of the strike price (K) for the European call (c)\n",
    " - the difference between the present value of the strike price (K) and the underlying price (S) for the European put (p)\n",
    "\n",
    "- Any option price below its minimum value should trigger immediate arbitrage trades\n",
    "\n",
    "c >= max(S_0 - D - K * e ** (-r * T) ; 0) <br>\n",
    "p >= max(K * e ** (-r * T) + D - S_0 ; 0)"
   ]
  },
  {
   "cell_type": "code",
   "execution_count": null,
   "metadata": {},
   "outputs": [],
   "source": [
    "# Function of theoretical call price\n",
    "def call_theoretical_price(S_0, K, r, T, D):\n",
    "    call_theoretical_price = np.maximum(S_0 - D - K * np.exp(-r*T), 0)\n",
    "    return call_theoretical_price"
   ]
  },
  {
   "cell_type": "code",
   "execution_count": null,
   "metadata": {},
   "outputs": [],
   "source": [
    "# Function of call arbitrage judgements\n",
    "def call_arbitrage(S_0, K, r, T, theoretical_c, c, S_t):\n",
    "    if c < theoretical_c:\n",
    "        print(\"Yes.\")\n",
    "        print(\"A trader can short the stock \" + str(S_0) + \" USD for \" + str(T) + \" and buy the call to provide a cash inflow of \" \n",
    "              + str(S_0 - c)\n",
    "              + \" USD. If he invests the proceeds during \" + str(T) + \" yrs at \" + str(r) + \" per year, \" \n",
    "              + str(S_0 - c) + \" USD becomes \" + str((S_0 - c) * np.exp(r * T)) + \" USD.\")\n",
    "        a = (S_0 - c) * np.exp(r * T)\n",
    "        if S_t > K:\n",
    "            print(\"A trader gets \" + str(a - K) + \" USD!\")\n",
    "        else:\n",
    "            print(\"A trader sells the stock and gets \" + str(a - S_t) + \" USD!\")\n",
    "    else:\n",
    "        print(\"No.\")"
   ]
  },
  {
   "cell_type": "code",
   "execution_count": null,
   "metadata": {},
   "outputs": [],
   "source": [
    "# Example for call\n",
    "# Given the questions\n",
    "S_0 = 20 ## USD\n",
    "K = 18 ## USD\n",
    "r = 0.1 ## % per year\n",
    "T = 1 ## yr\n",
    "D = 0 ## 0 when no divident\n",
    "\n",
    "# Call Theoretical Price \n",
    "theoretical_c = call_theoretical_price(S_0, K, r, T, D)\n",
    "theoretical_c\n",
    "\n",
    "# A trader can get a profit from arbitrage or not\n",
    "c = 3 ## USD\n",
    "S_t = 20\n",
    "\n",
    "call_arbitrage(S_0, K, r, T, theoretical_c, c, S_t)"
   ]
  },
  {
   "cell_type": "code",
   "execution_count": null,
   "metadata": {},
   "outputs": [],
   "source": [
    "# Function of theoretical put price\n",
    "def put_theoretical_price(S_0, K, r, T, D):\n",
    "    put_theoretical_price = np.maximum(K * np.exp(-r*T) + D - S_0, 0)\n",
    "    return put_theoretical_price"
   ]
  },
  {
   "cell_type": "code",
   "execution_count": null,
   "metadata": {},
   "outputs": [],
   "source": [
    "# Function of put arbitrage judgements\n",
    "def put_arbitrage(S_0, K, r, T, theoretical_p, p, S_t):\n",
    "    if p < theoretical_p:\n",
    "        print(\"Yes.\")\n",
    "        print(\"A trader can borrow the money \" + str(S_0 + p) + \" USD for \" + str(T) + \" years in order to buy the put \" + str(p)\n",
    "              + \" USD and the stock \" + str(S_0) + \" USD. At the end, the trader should pay \" + str((S_0 + p) * np.exp(r*T))\n",
    "              + \" USD.\")\n",
    "        a = (S_0 + p) * np.exp(r*T)\n",
    "        if S_t < K:\n",
    "            print(\"A trader exercise the option and gets \" + str(K - a) + \" USD!\")\n",
    "        else:\n",
    "            print(\"A trader sells the stock and gets \" + str(S_t - a) + \" USD!\")\n",
    "    else:\n",
    "        print(\"No.\")"
   ]
  },
  {
   "cell_type": "code",
   "execution_count": null,
   "metadata": {},
   "outputs": [],
   "source": [
    "# Example for put\n",
    "# Given the questions\n",
    "S_0 = 37 ## USD\n",
    "K = 40 ## USD\n",
    "r = 0.05 ## % per year\n",
    "T = 0.5 ## yr\n",
    "D = 0 ## 0 when no divident\n",
    "\n",
    "# put Theoretical Price \n",
    "theoretical_p = put_theoretical_price(S_0, K, r, T, D)\n",
    "theoretical_p\n",
    "\n",
    "# A trader can get a profit from arbitrage or not\n",
    "p = 1 ## USD\n",
    "S_t = 38\n",
    "\n",
    "put_arbitrage(S_0, K, r, T, theoretical_p, p, S_t)"
   ]
  },
  {
   "cell_type": "markdown",
   "metadata": {},
   "source": [
    "## Constraints on options prices related to strikes"
   ]
  },
  {
   "cell_type": "markdown",
   "metadata": {},
   "source": [
    "Conditions on put vertical spreads (K1 < K2)\n",
    "- the value of a put must always be greater than the value of an identical put with a lower strike price\n",
    "\n",
    "p(K2) > p(K1)\n",
    "\n",
    "- the difference in the value of two puts with different strike prices cannot be greater than the difference in strike prices\n",
    "\n",
    "p(K2) - p(K1) <= K2 - K1"
   ]
  },
  {
   "cell_type": "markdown",
   "metadata": {},
   "source": [
    "## Put call parity"
   ]
  },
  {
   "cell_type": "markdown",
   "metadata": {},
   "source": [
    "The two portfolios are equal in the final P/L;\n",
    "\n",
    "Portfolio 1:\n",
    "- Long 1 call (c)\n",
    "- Cash Investment (K * e**(-r * T)\n",
    "\n",
    "Porfolio 2:\n",
    "- Long 1 put (p)\n",
    "- Long 1 share (S_t)\n",
    "\n",
    "When S_t <= K,both have the same P/L: K. <br>\n",
    "When S_t > K, both have the same P/L: S_t\n",
    "\n",
    "So, the initial values of both portfolios should be the same as well. <br>\n",
    "PCP: <br>\n",
    "c + K * e**(-r * T) = p + S_0\n",
    "\n",
    "This can be rewritten as:\n",
    "c_PCP = p + S_0 - K * e**(-r * T)"
   ]
  },
  {
   "cell_type": "code",
   "execution_count": null,
   "metadata": {},
   "outputs": [],
   "source": [
    "# Function of PCP\n",
    "def PCP(S_0, r, c, K, T, D, p, S_t):\n",
    "    c_PCP = p + S_0 - D - K * np.exp(-r * T)\n",
    "    if c_PCP > c:\n",
    "        print(\"The call is undervalued.\")\n",
    "        print(\"Action now!\")\n",
    "        print(\"Buy the call \" + str(c) + \" USD and short the put \" + str(p) + \" USD, short the stock \" \n",
    "              + str(S_0) + \" USD and invest the proceeds \" + str(-c + p + S_0) + \" USD for 3 months.\")\n",
    "        print(\"Action at the expiry!\")\n",
    "        a = -c + p + S_0\n",
    "        if S_t > K:\n",
    "            print(\"Receive \" + str(a * np.exp(r * T)) + \" USD from investment, exercise the call to buy the stock for \" + str(K)\n",
    "                  + \" USD. Net profit is \" + str(a * np.exp(r * T) - K) + \" USD.\")\n",
    "        else:\n",
    "            print(\"Receive \" + str(a * np.exp(r * T)) + \" USD from investment, put is exercised and the stock is bought for \" + str(K)\n",
    "                  + \" USD. Net profit is \" + str(a * np.exp(r * T) - K) + \" USD.\")\n",
    "    else:\n",
    "        print(\"The call is overvalued.\")\n",
    "        print(\"Action now!\")\n",
    "        print(\"Short the call \" + str(c) + \" USD and buy the put \" + str(p) + \" USD, buy the stock \" \n",
    "              + str(S_0) + \" USD and borrow \" + str(-c + p + S_0) + \" USD for 3 months.\")\n",
    "        print(\"Action at the expiry!\")\n",
    "        a = -c + p + S_0\n",
    "        if S_t > K:\n",
    "            print(\"The call is exercised and the stock is sold for \" + str(K) + \" USD, use \" + str(a * np.exp(r * T)) \n",
    "                  + \" to repay loan. \" + \"Net profit is \" + str(K - a * np.exp(r * T)) + \" USD.\")\n",
    "        else:\n",
    "            print(\"Exercise the put to sell stock at \" + str(K) + \" USD and use \" + str(a * np.exp(r * T)) + \" to repay loan.\"\n",
    "                  + \" Net profit is \" + str(K - a * np.exp(r * T)) + \" USD.\")"
   ]
  },
  {
   "cell_type": "code",
   "execution_count": null,
   "metadata": {},
   "outputs": [],
   "source": [
    "# Example for p = 2.25\n",
    "# Given by questions\n",
    "S_0 = 31 ## USD\n",
    "r = 0.1 ## 10%\n",
    "c = 3 ## USD\n",
    "K = 30\n",
    "T = 3/12 ## 3 month\n",
    "D = 0 ## 0 when no divident\n",
    "\n",
    "p = 2.25\n",
    "S_t = 31\n",
    "\n",
    "# Calculation\n",
    "PCP(S_0, r, c, K, T, D, p, S_t)"
   ]
  },
  {
   "cell_type": "code",
   "execution_count": null,
   "metadata": {},
   "outputs": [],
   "source": [
    "# Example for p = 1\n",
    "# Given by questions\n",
    "S_0 = 31 ## USD\n",
    "r = 0.1 ## 10%\n",
    "c = 3 ## USD\n",
    "K = 30\n",
    "T = 3/12 ## 3 month\n",
    "D = 0 ## 0 when no divident\n",
    "\n",
    "p = 1\n",
    "S_t = 31\n",
    "\n",
    "# Calculation\n",
    "PCP(S_0, r, c, K, T, D, p, S_t)"
   ]
  },
  {
   "cell_type": "markdown",
   "metadata": {},
   "source": [
    "## Considering dividends"
   ]
  },
  {
   "cell_type": "markdown",
   "metadata": {},
   "source": [
    "c >= max(S_0 - D - K * e ** (-r * T ; 0) <br>\n",
    "p >= max(K * e ** (-r * T ; 0) <br>\n",
    "c + D + K * e ** (-r * T) = p + S <br>"
   ]
  },
  {
   "cell_type": "markdown",
   "metadata": {},
   "source": [
    "## Early exercise of American options"
   ]
  },
  {
   "cell_type": "markdown",
   "metadata": {},
   "source": [
    "Without divident, early exercise of call option is not optimal. \n",
    "- Insurance\n",
    "- Time value of cash\n",
    "\n",
    "Without divident, early exercise of put option is optimal when the put option is in the money.\n",
    "\n",
    "As to option with divident, more tricky."
   ]
  },
  {
   "cell_type": "markdown",
   "metadata": {},
   "source": [
    "# Binomial option pricing (OFOD CH13, 21)"
   ]
  },
  {
   "cell_type": "markdown",
   "metadata": {},
   "source": [
    "Cox-Ross-Rubinstein binomial model main assumptions:\n",
    "\n",
    "- one risky and one risk-free asset\n",
    "- trading is open at discrete times\n",
    "- the duration between two dates is of length δt\n",
    "- over one period, two outcomes are possible for the stock price\n",
    " - up move\n",
    " - down move"
   ]
  },
  {
   "cell_type": "markdown",
   "metadata": {},
   "source": [
    "## One-step binomial trees"
   ]
  },
  {
   "cell_type": "markdown",
   "metadata": {},
   "source": [
    "### The replication portfolio approach (No Arbitrage argument)"
   ]
  },
  {
   "cell_type": "markdown",
   "metadata": {},
   "source": [
    "- S_0: The initial stock price\n",
    "- f: Option price at t = 0\n",
    "- T: Time to maturity (オプション満期)\n",
    "- u: Upward ## u > 1\n",
    "- d: Downward ## d < 1\n",
    "- f_u: Option value at maturity when S_0 goes up to S_0 * u\n",
    "- f_d: Option value at maturity when S_0 goes down to S_0 * d\n",
    "- delta: portfolio is risk free\n",
    "\n",
    "From S_0 * u * delta - f_u = S_0 * d * delta - f_d, <br>\n",
    "delta = (f_u - f_d) / S_0 * (u - d) ...A\n",
    "\n",
    "Because the initial cost for creating the portfolio should be equal to the current value of portfolio, <br>\n",
    "S_0 * delta - f = (S_0 * u * delta - f_u) * np.exp(-r * T) ...B\n",
    "\n",
    "By imputing A into B and rearranging B,<br>\n",
    "f = np.exp(-r * T) * (p * f_u + (1-p) * f_d), where p = (np.exp(r * T) - d) / (u - d)"
   ]
  },
  {
   "cell_type": "code",
   "execution_count": 29,
   "metadata": {},
   "outputs": [],
   "source": [
    "# Function of one step binamial tree call given by NA argument\n",
    "def one_step_binomial_tree_NA(S_0, T, u, d, r, K, call=True):\n",
    "    if call:\n",
    "        f_u = np.maximum(S_0 * u - K, 0)\n",
    "        f_d = np.maximum(S_0 * d - K, 0)\n",
    "    else:\n",
    "        f_u = np.maximum(K - S_0 * u, 0)\n",
    "        f_d = np.maximum(K - S_0 * d, 0)\n",
    "    delta = (f_u - f_d) / S_0 * (u - d)\n",
    "    p = (np.exp(r * T) - d) / (u - d)\n",
    "    f = np.exp(-r * T) * (p * f_u + (1-p) * f_d)\n",
    "    return f"
   ]
  },
  {
   "cell_type": "code",
   "execution_count": 32,
   "metadata": {},
   "outputs": [
    {
     "data": {
      "text/plain": [
       "0.6329950990317132"
      ]
     },
     "execution_count": 32,
     "metadata": {},
     "output_type": "execute_result"
    }
   ],
   "source": [
    "# Example for one step binomial tree call\n",
    "# Given by questions\n",
    "S_0 = 20 ## USD\n",
    "T = 3/12 ## months\n",
    "u = 1.1 ## up\n",
    "d = 0.9 ## down\n",
    "r = 0.12 ## risk free rate\n",
    "K = 21\n",
    "\n",
    "# Answer\n",
    "one_step_binomial_tree_NA(S_0, T, u, d, r, K, call=True)"
   ]
  },
  {
   "cell_type": "markdown",
   "metadata": {},
   "source": [
    "### The probabilistic approach (Risk Neutralized argument)"
   ]
  },
  {
   "cell_type": "markdown",
   "metadata": {},
   "source": [
    "From the perspective of probability, <br>\n",
    "f = (p * f_u + (1-p) * f_d) * np.exp(-r * T)"
   ]
  },
  {
   "cell_type": "code",
   "execution_count": 24,
   "metadata": {},
   "outputs": [],
   "source": [
    "# Function of one step binamial tree given by RN argument\n",
    "def one_step_binomial_tree_RN(S_0, T, u, d, r, K, call=True):\n",
    "    if call:\n",
    "        f_u = np.maximum(S_0 * u - K, 0)\n",
    "        f_d = np.maximum(S_0 * d - K, 0)\n",
    "    else:\n",
    "        f_u = np.maximum(K - S_0 * u, 0)\n",
    "        f_d = np.maximum(K - S_0 * d, 0)\n",
    "    p = (np.exp(r * T) - d) / (u - d)\n",
    "    f = (p * f_u + (1-p) * f_d) * np.exp(-r * T)\n",
    "    return f"
   ]
  },
  {
   "cell_type": "code",
   "execution_count": 28,
   "metadata": {},
   "outputs": [
    {
     "data": {
      "text/plain": [
       "0.6329950990317132"
      ]
     },
     "execution_count": 28,
     "metadata": {},
     "output_type": "execute_result"
    }
   ],
   "source": [
    "# Example for one step binomial tree\n",
    "# Given by questions\n",
    "S_0 = 20 ## USD\n",
    "T = 3/12 ## months\n",
    "u = 1.1 ## up\n",
    "d = 0.9 ## down\n",
    "r = 0.12 ## risk free rate\n",
    "K = 21\n",
    "\n",
    "# Answer\n",
    "one_step_binomial_tree_RN(S_0, T, u, d, r, K, call=True)"
   ]
  },
  {
   "cell_type": "markdown",
   "metadata": {},
   "source": [
    "## Multi-period binomial trees"
   ]
  },
  {
   "cell_type": "markdown",
   "metadata": {},
   "source": [
    "### 2 steps"
   ]
  },
  {
   "cell_type": "code",
   "execution_count": 48,
   "metadata": {},
   "outputs": [],
   "source": [
    "# Function of two step binomial tree\n",
    "def two_step_binomial_tree(S0, T, u, d, r, K, call=True):\n",
    "    # Going up or going down at node 1\n",
    "    p = (np.exp(r*T) - d) / (u-d)\n",
    "    S0_u = S0 * u\n",
    "    S0_d = S0 * d\n",
    "    print(\"Node 1  S0_u: \" + str(S0_u))\n",
    "    print(\"Node 1  S0_d: \" + str(S0_d))\n",
    "    \n",
    "    # Going up or going down at node 2\n",
    "    S0_uu = S0_u * u\n",
    "    S0_ud = S0_u * d\n",
    "    S0_dd = S0_d * d\n",
    "    print(\"Node 2  S0_uu: \" + str(S0_uu))\n",
    "    print(\"Node 2  S0_ud: \" + str(S0_ud))\n",
    "    print(\"Node 2  S0_dd: \" + str(S0_dd))\n",
    "    \n",
    "    if call:\n",
    "        # Call option value at Node 2\n",
    "        f_uu = np.maximum(S0_uu - K, 0)\n",
    "        f_ud = np.maximum(S0_ud - K, 0)\n",
    "        f_dd = np.maximum(S0_dd - K, 0)\n",
    "        print(\"Node 2  f_uu: \" + str(f_uu))\n",
    "        print(\"Node 2  f_ud: \" + str(f_ud))\n",
    "        print(\"Node 2  f_dd: \" + str(f_dd))\n",
    "        \n",
    "        # Call option value at Node 1\n",
    "        f_u = (p * f_uu + (1-p) * f_ud) * np.exp(-r * T)\n",
    "        f_d = (p * f_ud + (1-p) * f_dd) * np.exp(-r * T)\n",
    "        print(\"Node 1  f_u: \" + str(f_u))\n",
    "        print(\"Node 1  f_d: \" + str(f_d))\n",
    "        \n",
    "        # Call option value at Node 0\n",
    "        f = (p * f_u + (1-p) * f_d) * np.exp(-r * T)\n",
    "        print(\"Node 0  f: \" + str(f))\n",
    "        \n",
    "    else:\n",
    "        # Put option value at Node 2\n",
    "        f_uu = np.maximum(K - S0_uu, 0)\n",
    "        f_ud = np.maximum(K - S0_ud, 0)\n",
    "        f_dd = np.maximum(K - S0_dd, 0)\n",
    "        print(\"Node 2  f_uu: \" + str(f_uu))\n",
    "        print(\"Node 2  f_ud: \" + str(f_ud))\n",
    "        print(\"Node 2  f_dd: \" + str(f_dd))\n",
    "        \n",
    "        # Call option value at Node 1\n",
    "        f_u = (p * f_uu + (1-p) * f_ud) * np.exp(-r * T)\n",
    "        f_d = (p * f_ud + (1-p) + f_dd) * np.exp(-r * T)\n",
    "        print(\"Node 1  f_u: \" + str(f_u))\n",
    "        print(\"Node 1  f_d: \" + str(f_d))\n",
    "        \n",
    "        # Call option value at Node 0\n",
    "        f = (p * f_u + (1-p) * f_d) * np.exp(-r * T)\n",
    "        print(\"Node 0  f: \" + str(f))\n",
    "        \n",
    "    return f"
   ]
  },
  {
   "cell_type": "code",
   "execution_count": 51,
   "metadata": {},
   "outputs": [
    {
     "name": "stdout",
     "output_type": "stream",
     "text": [
      "Node 1  S0_u: 22.0\n",
      "Node 1  S0_d: 18.0\n",
      "Node 2  S0_uu: 24.200000000000003\n",
      "Node 2  S0_ud: 19.8\n",
      "Node 2  S0_dd: 16.2\n",
      "Node 2  f_uu: 3.200000000000003\n",
      "Node 2  f_ud: 0.0\n",
      "Node 2  f_dd: 0.0\n",
      "Node 1  f_u: 2.0255843169014844\n",
      "Node 1  f_d: 0.0\n",
      "Node 0  f: 1.2821849452741405\n"
     ]
    },
    {
     "data": {
      "text/plain": [
       "1.2821849452741405"
      ]
     },
     "execution_count": 51,
     "metadata": {},
     "output_type": "execute_result"
    }
   ],
   "source": [
    "# Example\n",
    "# given variables\n",
    "S0 = 20\n",
    "T = 1/4\n",
    "u = 1.1\n",
    "d = 0.9\n",
    "r = 0.12\n",
    "K = 21\n",
    "\n",
    "# Answer\n",
    "two_step_binomial_tree(S0, T, u, d, r, K, call=True)"
   ]
  },
  {
   "cell_type": "markdown",
   "metadata": {},
   "source": [
    "### 4 step"
   ]
  },
  {
   "cell_type": "code",
   "execution_count": 70,
   "metadata": {},
   "outputs": [],
   "source": [
    "# Function of two step binomial tree\n",
    "def four_step_binomial_tree(S0, T, u, d, r, K, call=True):\n",
    "    # Going up or going down at node 1\n",
    "    p = (np.exp(r*T) - d) / (u-d)\n",
    "    S0_u = S0 * u\n",
    "    S0_d = S0 * d\n",
    "    print(\"Node 1  S0_u: \" + str(S0_u))\n",
    "    print(\"Node 1  S0_d: \" + str(S0_d))\n",
    "    \n",
    "    # Going up or going down at node 2\n",
    "    S0_u2d0 = S0_u * u\n",
    "    S0_u1d1 = S0_u * d\n",
    "    S0_u0d2 = S0_d * d\n",
    "    print(\"Node 2  S0_u2d0: \" + str(S0_u2d0))\n",
    "    print(\"Node 2  S0_u1d1: \" + str(S0_u1d1))\n",
    "    print(\"Node 2  S0_u0d2: \" + str(S0_u0d2))\n",
    "    \n",
    "    # Going up or going down at node 3\n",
    "    S0_u3d0 = S0_u2d0 * u\n",
    "    S0_u2d1 = S0_u2d0 * d\n",
    "    S0_u1d2 = S0_u1d1 * d\n",
    "    S0_u0d3 = S0_u0d2 * d\n",
    "    print(\"Node 3  S0_u3d0: \" + str(S0_u3d0))\n",
    "    print(\"Node 3  S0_u2d1: \" + str(S0_u2d1))\n",
    "    print(\"Node 3  S0_u1d2: \" + str(S0_u1d2))\n",
    "    print(\"Node 3  S0_u0d3: \" + str(S0_u0d3))\n",
    "    \n",
    "    # Going up or going dowm at Node 4\n",
    "    S0_u4d0 = S0_u3d0 * u\n",
    "    S0_u3d1 = S0_u3d0 * d\n",
    "    S0_u2d2 = S0_u2d1 * d\n",
    "    S0_u1d3 = S0_u1d2 * d\n",
    "    S0_u0d4 = S0_u0d3 * d\n",
    "    \n",
    "    print(\"Node 3  S0_u4d0: \" + str(S0_u4d0))\n",
    "    print(\"Node 3  S0_u3d1: \" + str(S0_u3d1))\n",
    "    print(\"Node 3  S0_u2d2: \" + str(S0_u2d2))\n",
    "    print(\"Node 3  S0_u1d3: \" + str(S0_u1d3))\n",
    "    print(\"Node 3  S0_u0d4: \" + str(S0_u0d4))\n",
    "    \n",
    "    if call:\n",
    "        \n",
    "        # Call option value at Node 4\n",
    "        f_u4d0 = np.maximum(S0_u4d0 - K, 0)\n",
    "        f_u3d1 = np.maximum(S0_u3d1 - K, 0)\n",
    "        f_u2d2 = np.maximum(S0_u2d2 - K, 0)\n",
    "        f_u1d3 = np.maximum(S0_u1d3 - K, 0)\n",
    "        f_u0d4 = np.maximum(S0_u0d4 - K, 0)\n",
    "        print(\"Node 4  f_u4d0: \" + str(f_u4d0))\n",
    "        print(\"Node 4  f_u3d1: \" + str(f_u3d1))\n",
    "        print(\"Node 4  f_u2d2: \" + str(f_u2d2))\n",
    "        print(\"Node 4  f_u1d3: \" + str(f_u1d3))\n",
    "        print(\"Node 4  f_u0d4: \" + str(f_u0d4))\n",
    "        \n",
    "        # Call option value at Node 3\n",
    "        f_u3d0 = (p * f_u4d0 + (1-p) * f_u3d1) * np.exp(-r * T)\n",
    "        f_u2d1 = (p * f_u3d1 + (1-p) * f_u2d2) * np.exp(-r * T)\n",
    "        f_u1d2 = (p * f_u2d2 + (1-p) * f_u1d3) * np.exp(-r * T)\n",
    "        f_u0d3 = (p * f_u1d3 + (1-p) * f_u0d4) * np.exp(-r * T)\n",
    "        print(\"Node 3  f_u3d0: \" + str(f_u3d0))\n",
    "        print(\"Node 3  f_u2d1: \" + str(f_u2d1))\n",
    "        print(\"Node 3  f_u1d2: \" + str(f_u1d2))\n",
    "        print(\"Node 3  f_u0d3: \" + str(f_u0d3))\n",
    "        \n",
    "        # Call option value at Node 2\n",
    "        f_u2d0 = (p * f_u3d0 + (1-p) * f_u2d1) * np.exp(-r * T)\n",
    "        f_u1d1 = (p * f_u2d1 + (1-p) * f_u1d2) * np.exp(-r * T)\n",
    "        f_u0d2 = (p * f_u1d2 + (1-p) * f_u0d3) * np.exp(-r * T)\n",
    "        print(\"Node 2  f_u2d0: \" + str(f_u2d0))\n",
    "        print(\"Node 2  f_u1d1: \" + str(f_u1d1))\n",
    "        print(\"Node 2  f_u0d2: \" + str(f_u0d2))\n",
    "        \n",
    "        # Call option value at Node 1\n",
    "        f_u = (p * f_u2d0 + (1-p) * f_u1d1) * np.exp(-r * T)\n",
    "        f_d = (p * f_u1d1 + (1-p) * f_u0d2) * np.exp(-r * T)\n",
    "        print(\"Node 1  f_u: \" + str(f_u))\n",
    "        print(\"Node 1  f_d: \" + str(f_d))\n",
    "        \n",
    "        # Call option value at Node 0\n",
    "        f = (p * f_u + (1-p) * f_d) * np.exp(-r * T)\n",
    "        print(\"Node 0  f: \" + str(f))\n",
    "        \n",
    "    else:\n",
    "        # Put option value at Node 4\n",
    "        f_u4d0 = np.maximum(K - S0_u4d0, 0)\n",
    "        f_u3d1 = np.maximum(K - S0_u3d1, 0)\n",
    "        f_u2d2 = np.maximum(K - S0_u2d2, 0)\n",
    "        f_u1d3 = np.maximum(K - S0_u1d3, 0)\n",
    "        f_u0d4 = np.maximum(K - S0_u0d4, 0)\n",
    "        print(\"Node 4  f_u4d0: \" + str(f_u4d0))\n",
    "        print(\"Node 4  f_u3d1: \" + str(f_u3d1))\n",
    "        print(\"Node 4  f_u2d2: \" + str(f_u2d2))\n",
    "        print(\"Node 4  f_u1d3: \" + str(f_u1d3))\n",
    "        print(\"Node 4  f_u0d4: \" + str(f_u0d4))\n",
    "        \n",
    "        # Put option value at Node 3\n",
    "        f_u3d0 = (p * f_u4d0 + (1-p) * f_u3d1) * np.exp(-r * T)\n",
    "        f_u2d1 = (p * f_u3d1 + (1-p) * f_u2d2) * np.exp(-r * T)\n",
    "        f_u1d2 = (p * f_u2d2 + (1-p) * f_u1d3) * np.exp(-r * T)\n",
    "        f_u0d3 = (p * f_u1d3 + (1-p) * f_u0d4) * np.exp(-r * T)\n",
    "        print(\"Node 3  f_u3d0: \" + str(f_u3d0))\n",
    "        print(\"Node 3  f_u2d1: \" + str(f_u2d1))\n",
    "        print(\"Node 3  f_u1d2: \" + str(f_u1d2))\n",
    "        print(\"Node 3  f_u0d3: \" + str(f_u0d3))\n",
    "        \n",
    "        # Put option value at Node 2\n",
    "        f_u2d0 = (p * f_u3d0 + (1-p) * f_u2d1) * np.exp(-r * T)\n",
    "        f_u1d1 = (p * f_u2d1 + (1-p) * f_u1d2) * np.exp(-r * T)\n",
    "        f_u0d2 = (p * f_u1d2 + (1-p) * f_u0d3) * np.exp(-r * T)\n",
    "        print(\"Node 2  f_u2d0: \" + str(f_u2d0))\n",
    "        print(\"Node 2  f_u1d1: \" + str(f_u1d1))\n",
    "        print(\"Node 2  f_u0d2: \" + str(f_u0d2))\n",
    "        \n",
    "        # Put option value at Node 1\n",
    "        f_u = (p * f_u2d0 + (1-p) * f_u1d1) * np.exp(-r * T)\n",
    "        f_d = (p * f_u1d1 + (1-p) + f_u0d2) * np.exp(-r * T)\n",
    "        print(\"Node 1  f_u: \" + str(f_u))\n",
    "        print(\"Node 1  f_d: \" + str(f_d))\n",
    "        \n",
    "        # Put option value at Node 0\n",
    "        f = (p * f_u + (1-p) * f_d) * np.exp(-r * T)\n",
    "        print(\"Node 0  f: \" + str(f))"
   ]
  },
  {
   "cell_type": "code",
   "execution_count": 71,
   "metadata": {},
   "outputs": [
    {
     "name": "stdout",
     "output_type": "stream",
     "text": [
      "Node 1  S0_u: 22.0\n",
      "Node 1  S0_d: 18.0\n",
      "Node 2  S0_u2d0: 24.200000000000003\n",
      "Node 2  S0_u1d1: 19.8\n",
      "Node 2  S0_u0d2: 16.2\n",
      "Node 3  S0_u3d0: 26.620000000000005\n",
      "Node 3  S0_u2d1: 21.780000000000005\n",
      "Node 3  S0_u1d2: 17.82\n",
      "Node 3  S0_u0d3: 14.58\n",
      "Node 3  S0_u4d0: 29.282000000000007\n",
      "Node 3  S0_u3d1: 23.958000000000006\n",
      "Node 3  S0_u2d2: 19.602000000000004\n",
      "Node 3  S0_u1d3: 16.038\n",
      "Node 3  S0_u0d4: 13.122\n",
      "Node 4  f_u4d0: 8.282000000000007\n",
      "Node 4  f_u3d1: 2.9580000000000055\n",
      "Node 4  f_u2d2: 0.0\n",
      "Node 4  f_u1d3: 0.0\n",
      "Node 4  f_u0d4: 0.0\n",
      "Node 3  f_u3d0: 6.2406437954813345\n",
      "Node 3  f_u2d1: 1.8723995029358114\n",
      "Node 3  f_u1d2: 0.0\n",
      "Node 3  f_u0d3: 0.0\n",
      "Node 2  f_u2d0: 4.582138963197075\n",
      "Node 2  f_u1d1: 1.1852197087877845\n",
      "Node 2  f_u0d2: 0.0\n",
      "Node 1  f_u: 3.3004244125143116\n",
      "Node 1  f_d: 0.7502382669384621\n",
      "Node 0  f: 2.342320707015692\n"
     ]
    }
   ],
   "source": [
    "# Example\n",
    "# given variables\n",
    "S0 = 20\n",
    "T = 1/4\n",
    "u = 1.1\n",
    "d = 0.9\n",
    "r = 0.12\n",
    "K = 21\n",
    "\n",
    "# Answer\n",
    "four_step_binomial_tree(S0, T, u, d, r, K, call=True)"
   ]
  },
  {
   "cell_type": "markdown",
   "metadata": {},
   "source": [
    "As to n steps, automation by iterating codes is better. We can employ the above code to apply for multi steps version."
   ]
  },
  {
   "cell_type": "markdown",
   "metadata": {},
   "source": [
    "## Early exercise of American options"
   ]
  },
  {
   "cell_type": "markdown",
   "metadata": {},
   "source": [
    "Early exercise should be considered in the calculation for the value of options in each step."
   ]
  },
  {
   "cell_type": "markdown",
   "metadata": {},
   "source": [
    "## Calibration of binomial trees (video to come)"
   ]
  },
  {
   "cell_type": "markdown",
   "metadata": {},
   "source": [
    "### 2 steps"
   ]
  },
  {
   "cell_type": "code",
   "execution_count": 92,
   "metadata": {},
   "outputs": [],
   "source": [
    "# Function of two step binomial tree calibration\n",
    "def two_step_binomial_tree_calib(S0, T, sigma, r, K, call=True):\n",
    "    # Going up or going down at node 1\n",
    "    dt = T / 2 ## 2 steps\n",
    "    u = np.exp(sigma * np.sqrt(dt))\n",
    "    d = 1 / u\n",
    "    p = (np.exp(r*dt) - d) / (u-d)\n",
    "    S0_u = S0 * u\n",
    "    S0_d = S0 * d\n",
    "    print(\"Node 1  S0_u: \" + str(S0_u))\n",
    "    print(\"Node 1  S0_d: \" + str(S0_d))\n",
    "    \n",
    "    # Going up or going down at node 2\n",
    "    S0_uu = S0_u * u\n",
    "    S0_ud = S0_u * d\n",
    "    S0_dd = S0_d * d\n",
    "    print(\"Node 2  S0_uu: \" + str(S0_uu))\n",
    "    print(\"Node 2  S0_ud: \" + str(S0_ud))\n",
    "    print(\"Node 2  S0_dd: \" + str(S0_dd))\n",
    "    \n",
    "    if call:\n",
    "        # Call option value at Node 2\n",
    "        f_uu = np.maximum(S0_uu - K, 0)\n",
    "        f_ud = np.maximum(S0_ud - K, 0)\n",
    "        f_dd = np.maximum(S0_dd - K, 0)\n",
    "        print(\"Node 2  f_uu: \" + str(f_uu))\n",
    "        print(\"Node 2  f_ud: \" + str(f_ud))\n",
    "        print(\"Node 2  f_dd: \" + str(f_dd))\n",
    "        \n",
    "        # Call option value at Node 1\n",
    "        f_u = (p * f_uu + (1-p) * f_ud) * np.exp(-r * dt)\n",
    "        f_d = (p * f_ud + (1-p) * f_dd) * np.exp(-r * dt)\n",
    "        print(\"Node 1  f_u: \" + str(f_u))\n",
    "        print(\"Node 1  f_d: \" + str(f_d))\n",
    "        \n",
    "        # Call option value at Node 0\n",
    "        f = (p * f_u + (1-p) * f_d) * np.exp(-r * dt)\n",
    "        print(\"Node 0  f: \" + str(f))\n",
    "        \n",
    "    else:\n",
    "        # Put option value at Node 2\n",
    "        f_uu = np.maximum(K - S0_uu, 0)\n",
    "        f_ud = np.maximum(K - S0_ud, 0)\n",
    "        f_dd = np.maximum(K - S0_dd, 0)\n",
    "        print(\"Node 2  f_uu: \" + str(f_uu))\n",
    "        print(\"Node 2  f_ud: \" + str(f_ud))\n",
    "        print(\"Node 2  f_dd: \" + str(f_dd))\n",
    "        \n",
    "        # Call option value at Node 1\n",
    "        f_u = (p * f_uu + (1-p) * f_ud) * np.exp(-r * dt)\n",
    "        f_d = (p * f_ud + (1-p) + f_dd) * np.exp(-r * dt)\n",
    "        print(\"Node 1  f_u: \" + str(f_u))\n",
    "        print(\"Node 1  f_d: \" + str(f_d))\n",
    "        \n",
    "        # Call option value at Node 0\n",
    "        f = (p * f_u + (1-p) * f_d) * np.exp(-r * T)\n",
    "        print(\"Node 0  f: \" + str(f))\n",
    "    return p, u, d"
   ]
  },
  {
   "cell_type": "code",
   "execution_count": 93,
   "metadata": {
    "scrolled": true
   },
   "outputs": [
    {
     "name": "stdout",
     "output_type": "stream",
     "text": [
      "Node 1  S0_u: 46.47336970913132\n",
      "Node 1  S0_d: 34.42831905700231\n",
      "Node 2  S0_uu: 53.99435230304012\n",
      "Node 2  S0_ud: 39.99999999999999\n",
      "Node 2  S0_dd: 29.632728827268714\n",
      "Node 2  f_uu: 13.994352303040117\n",
      "Node 2  f_ud: 0.0\n",
      "Node 2  f_dd: 0.0\n",
      "Node 1  f_u: 6.8713763591645955\n",
      "Node 1  f_d: 0.0\n",
      "Node 0  f: 3.3739191387249114\n"
     ]
    },
    {
     "data": {
      "text/plain": [
       "(0.49594541350546606, 1.161834242728283, 0.8607079764250578)"
      ]
     },
     "execution_count": 93,
     "metadata": {},
     "output_type": "execute_result"
    }
   ],
   "source": [
    "# Example\n",
    "# given variables\n",
    "S0 = 40\n",
    "T = 1/2\n",
    "sigma = 0.3\n",
    "r = 0.04\n",
    "K = 40\n",
    "\n",
    "# Answer\n",
    "two_step_binomial_tree_calib(S0, T, sigma, r, K, call=True)"
   ]
  },
  {
   "cell_type": "markdown",
   "metadata": {},
   "source": [
    "### 4 step"
   ]
  },
  {
   "cell_type": "code",
   "execution_count": null,
   "metadata": {},
   "outputs": [],
   "source": [
    "# Function of four steps binomial tree calib\n",
    "def four_step_binomial_tree_calib(S0, T, sigma, r, K, call=True):\n",
    "    # Going up or going down at node 1\n",
    "    dt = T / 4 ## 4 steps\n",
    "    u = np.exp(sigma * np.sqrt(dt))\n",
    "    d = 1 / u\n",
    "    p = (np.exp(r*dt) - d) / (u-d)\n",
    "    S0_u = S0 * u\n",
    "    S0_d = S0 * d\n",
    "    print(\"Node 1  S0_u: \" + str(S0_u))\n",
    "    print(\"Node 1  S0_d: \" + str(S0_d))\n",
    "    \n",
    "    # Going up or going down at node 2\n",
    "    S0_u2d0 = S0_u * u\n",
    "    S0_u1d1 = S0_u * d\n",
    "    S0_u0d2 = S0_d * d\n",
    "    print(\"Node 2  S0_u2d0: \" + str(S0_u2d0))\n",
    "    print(\"Node 2  S0_u1d1: \" + str(S0_u1d1))\n",
    "    print(\"Node 2  S0_u0d2: \" + str(S0_u0d2))\n",
    "    \n",
    "    # Going up or going down at node 3\n",
    "    S0_u3d0 = S0_u2d0 * u\n",
    "    S0_u2d1 = S0_u2d0 * d\n",
    "    S0_u1d2 = S0_u1d1 * d\n",
    "    S0_u0d3 = S0_u0d2 * d\n",
    "    print(\"Node 3  S0_u3d0: \" + str(S0_u3d0))\n",
    "    print(\"Node 3  S0_u2d1: \" + str(S0_u2d1))\n",
    "    print(\"Node 3  S0_u1d2: \" + str(S0_u1d2))\n",
    "    print(\"Node 3  S0_u0d3: \" + str(S0_u0d3))\n",
    "    \n",
    "    # Going up or going dowm at Node 4\n",
    "    S0_u4d0 = S0_u3d0 * u\n",
    "    S0_u3d1 = S0_u3d0 * d\n",
    "    S0_u2d2 = S0_u2d1 * d\n",
    "    S0_u1d3 = S0_u1d2 * d\n",
    "    S0_u0d4 = S0_u0d3 * d\n",
    "    \n",
    "    print(\"Node 3  S0_u4d0: \" + str(S0_u4d0))\n",
    "    print(\"Node 3  S0_u3d1: \" + str(S0_u3d1))\n",
    "    print(\"Node 3  S0_u2d2: \" + str(S0_u2d2))\n",
    "    print(\"Node 3  S0_u1d3: \" + str(S0_u1d3))\n",
    "    print(\"Node 3  S0_u0d4: \" + str(S0_u0d4))\n",
    "    \n",
    "    if call:\n",
    "        \n",
    "        # Call option value at Node 4\n",
    "        f_u4d0 = np.maximum(S0_u4d0 - K, 0)\n",
    "        f_u3d1 = np.maximum(S0_u3d1 - K, 0)\n",
    "        f_u2d2 = np.maximum(S0_u2d2 - K, 0)\n",
    "        f_u1d3 = np.maximum(S0_u1d3 - K, 0)\n",
    "        f_u0d4 = np.maximum(S0_u0d4 - K, 0)\n",
    "        print(\"Node 4  f_u4d0: \" + str(f_u4d0))\n",
    "        print(\"Node 4  f_u3d1: \" + str(f_u3d1))\n",
    "        print(\"Node 4  f_u2d2: \" + str(f_u2d2))\n",
    "        print(\"Node 4  f_u1d3: \" + str(f_u1d3))\n",
    "        print(\"Node 4  f_u0d4: \" + str(f_u0d4))\n",
    "        \n",
    "        # Call option value at Node 3\n",
    "        f_u3d0 = (p * f_u4d0 + (1-p) * f_u3d1) * np.exp(-r * dt)\n",
    "        f_u2d1 = (p * f_u3d1 + (1-p) * f_u2d2) * np.exp(-r * dt)\n",
    "        f_u1d2 = (p * f_u2d2 + (1-p) * f_u1d3) * np.exp(-r * dt)\n",
    "        f_u0d3 = (p * f_u1d3 + (1-p) * f_u0d4) * np.exp(-r * dt)\n",
    "        print(\"Node 3  f_u3d0: \" + str(f_u3d0))\n",
    "        print(\"Node 3  f_u2d1: \" + str(f_u2d1))\n",
    "        print(\"Node 3  f_u1d2: \" + str(f_u1d2))\n",
    "        print(\"Node 3  f_u0d3: \" + str(f_u0d3))\n",
    "        \n",
    "        # Call option value at Node 2\n",
    "        f_u2d0 = (p * f_u3d0 + (1-p) * f_u2d1) * np.exp(-r * dt)\n",
    "        f_u1d1 = (p * f_u2d1 + (1-p) * f_u1d2) * np.exp(-r * dt)\n",
    "        f_u0d2 = (p * f_u1d2 + (1-p) * f_u0d3) * np.exp(-r * dt)\n",
    "        print(\"Node 2  f_u2d0: \" + str(f_u2d0))\n",
    "        print(\"Node 2  f_u1d1: \" + str(f_u1d1))\n",
    "        print(\"Node 2  f_u0d2: \" + str(f_u0d2))\n",
    "        \n",
    "        # Call option value at Node 1\n",
    "        f_u = (p * f_u2d0 + (1-p) * f_u1d1) * np.exp(-r * dt)\n",
    "        f_d = (p * f_u1d1 + (1-p) * f_u0d2) * np.exp(-r * dt)\n",
    "        print(\"Node 1  f_u: \" + str(f_u))\n",
    "        print(\"Node 1  f_d: \" + str(f_d))\n",
    "        \n",
    "        # Call option value at Node 0\n",
    "        f = (p * f_u + (1-p) * f_d) * np.exp(-r * dt)\n",
    "        print(\"Node 0  f: \" + str(f))\n",
    "        \n",
    "    else:\n",
    "        # Put option value at Node 4\n",
    "        f_u4d0 = np.maximum(K - S0_u4d0, 0)\n",
    "        f_u3d1 = np.maximum(K - S0_u3d1, 0)\n",
    "        f_u2d2 = np.maximum(K - S0_u2d2, 0)\n",
    "        f_u1d3 = np.maximum(K - S0_u1d3, 0)\n",
    "        f_u0d4 = np.maximum(K - S0_u0d4, 0)\n",
    "        print(\"Node 4  f_u4d0: \" + str(f_u4d0))\n",
    "        print(\"Node 4  f_u3d1: \" + str(f_u3d1))\n",
    "        print(\"Node 4  f_u2d2: \" + str(f_u2d2))\n",
    "        print(\"Node 4  f_u1d3: \" + str(f_u1d3))\n",
    "        print(\"Node 4  f_u0d4: \" + str(f_u0d4))\n",
    "        \n",
    "        # Put option value at Node 3\n",
    "        f_u3d0 = (p * f_u4d0 + (1-p) * f_u3d1) * np.exp(-r * dt)\n",
    "        f_u2d1 = (p * f_u3d1 + (1-p) * f_u2d2) * np.exp(-r * dt)\n",
    "        f_u1d2 = (p * f_u2d2 + (1-p) * f_u1d3) * np.exp(-r * dt)\n",
    "        f_u0d3 = (p * f_u1d3 + (1-p) * f_u0d4) * np.exp(-r * dt)\n",
    "        print(\"Node 3  f_u3d0: \" + str(f_u3d0))\n",
    "        print(\"Node 3  f_u2d1: \" + str(f_u2d1))\n",
    "        print(\"Node 3  f_u1d2: \" + str(f_u1d2))\n",
    "        print(\"Node 3  f_u0d3: \" + str(f_u0d3))\n",
    "        \n",
    "        # Put option value at Node 2\n",
    "        f_u2d0 = (p * f_u3d0 + (1-p) * f_u2d1) * np.exp(-r * dt)\n",
    "        f_u1d1 = (p * f_u2d1 + (1-p) * f_u1d2) * np.exp(-r * dt)\n",
    "        f_u0d2 = (p * f_u1d2 + (1-p) * f_u0d3) * np.exp(-r * dt)\n",
    "        print(\"Node 2  f_u2d0: \" + str(f_u2d0))\n",
    "        print(\"Node 2  f_u1d1: \" + str(f_u1d1))\n",
    "        print(\"Node 2  f_u0d2: \" + str(f_u0d2))\n",
    "        \n",
    "        # Put option value at Node 1\n",
    "        f_u = (p * f_u2d0 + (1-p) * f_u1d1) * np.exp(-r * dt)\n",
    "        f_d = (p * f_u1d1 + (1-p) + f_u0d2) * np.exp(-r * dt)\n",
    "        print(\"Node 1  f_u: \" + str(f_u))\n",
    "        print(\"Node 1  f_d: \" + str(f_d))\n",
    "        \n",
    "        # Put option value at Node 0\n",
    "        f = (p * f_u + (1-p) * f_d) * np.exp(-r * dt)\n",
    "        print(\"Node 0  f: \" + str(f))\n",
    "        \n",
    "    return p, u, d"
   ]
  },
  {
   "cell_type": "code",
   "execution_count": 91,
   "metadata": {},
   "outputs": [
    {
     "name": "stdout",
     "output_type": "stream",
     "text": [
      "Node 1  S0_u: 43.115366035385264\n",
      "Node 1  S0_d: 37.10973945314211\n",
      "Node 2  S0_u2d0: 46.473369709131326\n",
      "Node 2  S0_u1d1: 40.0\n",
      "Node 2  S0_u0d2: 34.428319057002305\n",
      "Node 3  S0_u3d0: 50.09290864767458\n",
      "Node 3  S0_u2d1: 43.115366035385264\n",
      "Node 3  S0_u1d2: 37.10973945314211\n",
      "Node 3  S0_u0d3: 31.940648750375075\n",
      "Node 3  S0_u4d0: 53.994352303040124\n",
      "Node 3  S0_u3d1: 46.473369709131326\n",
      "Node 3  S0_u2d2: 40.0\n",
      "Node 3  S0_u1d3: 34.428319057002305\n",
      "Node 3  S0_u0d4: 29.632728827268707\n",
      "Node 4  f_u4d0: 13.994352303040124\n",
      "Node 4  f_u3d1: 6.473369709131326\n",
      "Node 4  f_u2d2: 0.0\n",
      "Node 4  f_u1d3: 0.0\n",
      "Node 4  f_u0d4: 0.0\n",
      "Node 3  f_u3d0: 10.192783751776176\n",
      "Node 3  f_u2d1: 3.2152411394868623\n",
      "Node 3  f_u1d2: 0.0\n",
      "Node 3  f_u0d3: 0.0\n",
      "Node 2  f_u2d0: 6.672870541424045\n",
      "Node 2  f_u1d1: 1.5969697467559012\n",
      "Node 2  f_u0d2: 0.0\n",
      "Node 1  f_u: 4.1141182531462865\n",
      "Node 1  f_d: 0.793194743850729\n",
      "Node 0  f: 2.4406750814031306\n"
     ]
    },
    {
     "data": {
      "text/plain": [
       "(0.4979306672065451, 1.0778841508846315, 0.9277434863285529)"
      ]
     },
     "execution_count": 91,
     "metadata": {},
     "output_type": "execute_result"
    }
   ],
   "source": [
    "# Example\n",
    "# given variables\n",
    "S0 = 40\n",
    "T = 1/4\n",
    "sigma = 0.3\n",
    "r = 0.04\n",
    "K = 40\n",
    "\n",
    "# Answer\n",
    "four_step_binomial_tree_calib(S0, T, sigma, r, K, call=True)"
   ]
  },
  {
   "cell_type": "markdown",
   "metadata": {},
   "source": [
    "As to n steps, automation by iterating codes is better. We can employ the above code to apply for multi steps version."
   ]
  },
  {
   "cell_type": "markdown",
   "metadata": {},
   "source": [
    "### n steps"
   ]
  },
  {
   "cell_type": "code",
   "execution_count": 103,
   "metadata": {},
   "outputs": [],
   "source": [
    "# Generalize to n steps binomial tree\n",
    "def binomial_tree_call_put(steps, S_0, T, sigma, r, K, call=True, array_out=False):\n",
    "    # Init\n",
    "    dt = T / steps\n",
    "    u = np.exp(sigma*np.sqrt(dt))\n",
    "    d = 1 / u\n",
    "    p = (np.exp(r * dt) - d) / (u - d)\n",
    "    \n",
    "    # Price tree\n",
    "    price_tree = np.zeros([steps+1, steps+1])\n",
    "    \n",
    "    for i in range(steps+1):\n",
    "        for j in range(i+1):\n",
    "            price_tree[j, i] = S_0 * (d**j)*(u**(i-j))\n",
    "            \n",
    "    # Option value\n",
    "    option = np.zeros([steps+1, steps+1])\n",
    "    if call:\n",
    "        option[:, steps] = np.maximum(np.zeros(steps+1), price_tree[:, steps] - K)\n",
    "    else:\n",
    "        option[:, steps] = np.maximum(np.zeros(steps+1), K - price_tree[:, steps])\n",
    "    \n",
    "    # Calculate option price at t = 0\n",
    "    for i in np.arange(steps-1, -1, -1):\n",
    "        for j in np.arange(0, i+1):\n",
    "            option[j, i] = np.exp(-r * dt)*(p*option[j, i+1]+(1-p)*option[j+1, i+1])\n",
    "            \n",
    "    # Return \n",
    "    if array_out:\n",
    "        return [option[0,0], price_tree, option]\n",
    "    else:\n",
    "        return option[0,0]"
   ]
  },
  {
   "cell_type": "code",
   "execution_count": 1,
   "metadata": {},
   "outputs": [
    {
     "ename": "NameError",
     "evalue": "name 'binomial_tree_call_put' is not defined",
     "output_type": "error",
     "traceback": [
      "\u001b[1;31m---------------------------------------------------------------------------\u001b[0m",
      "\u001b[1;31mNameError\u001b[0m                                 Traceback (most recent call last)",
      "\u001b[1;32m<ipython-input-1-914023eed12e>\u001b[0m in \u001b[0;36m<module>\u001b[1;34m\u001b[0m\n\u001b[1;32m----> 1\u001b[1;33m \u001b[0mbinomial_tree_call_put\u001b[0m\u001b[1;33m(\u001b[0m\u001b[0msteps\u001b[0m\u001b[1;33m=\u001b[0m\u001b[1;36m2\u001b[0m\u001b[1;33m,\u001b[0m \u001b[0mS_0\u001b[0m\u001b[1;33m=\u001b[0m\u001b[1;36m50\u001b[0m\u001b[1;33m,\u001b[0m \u001b[0mT\u001b[0m\u001b[1;33m=\u001b[0m\u001b[1;36m2\u001b[0m\u001b[1;33m,\u001b[0m \u001b[0msigma\u001b[0m\u001b[1;33m=\u001b[0m \u001b[1;36m0.1\u001b[0m\u001b[1;33m,\u001b[0m \u001b[0mr\u001b[0m\u001b[1;33m=\u001b[0m\u001b[1;36m0.05\u001b[0m\u001b[1;33m,\u001b[0m \u001b[0mK\u001b[0m\u001b[1;33m=\u001b[0m\u001b[1;36m52\u001b[0m\u001b[1;33m,\u001b[0m \u001b[0mcall\u001b[0m\u001b[1;33m=\u001b[0m\u001b[1;32mFalse\u001b[0m\u001b[1;33m,\u001b[0m \u001b[0marray_out\u001b[0m\u001b[1;33m=\u001b[0m\u001b[1;32mTrue\u001b[0m\u001b[1;33m)\u001b[0m\u001b[1;33m\u001b[0m\u001b[1;33m\u001b[0m\u001b[0m\n\u001b[0m",
      "\u001b[1;31mNameError\u001b[0m: name 'binomial_tree_call_put' is not defined"
     ]
    }
   ],
   "source": [
    "binomial_tree_call_put(steps=2, S_0=50, T=2, sigma= 0.1, r=0.05, K=52, call=False, array_out=True)"
   ]
  },
  {
   "cell_type": "code",
   "execution_count": 13,
   "metadata": {},
   "outputs": [
    {
     "data": {
      "text/plain": [
       "228.57195116928222"
      ]
     },
     "execution_count": 13,
     "metadata": {},
     "output_type": "execute_result"
    }
   ],
   "source": [
    "# Another simplified implementation\n",
    "def binomial(steps, S_0, T, sigma, r, K, call=True):\n",
    "    \"\"\"\n",
    "    Implements the binomial option pricing model to price a European call option on a stock\n",
    "    S_0 - stock price today\n",
    "    K - strike price of the option\n",
    "    T - time until expiry of the option\n",
    "    r - risk-free interest rate\n",
    "    sigma - the volatility of the stock\n",
    "    steps - number of steps in the model\n",
    "    \"\"\"\n",
    "    dt = T / steps\n",
    "    u =  np.exp(sigma * np.sqrt(dt))\n",
    "    d = 1 / u\n",
    "    p = (np.exp(r * dt) - d)/(u - d)\n",
    "    C = {}\n",
    "    \n",
    "    if call:\n",
    "        for m in range(0, steps+1):\n",
    "            C[(steps, m)] = max(S_0 * (u ** (2*m - steps)) - K, 0)\n",
    "        for k in range(steps-1, -1, -1):\n",
    "            for m in range(0,k+1):\n",
    "                C[(k, m)] = np.exp(-r * dt) * (p * C[(k+1, m+1)] + (1-p) * C[(k+1, m)])\n",
    "    else:\n",
    "        for m in range(0, steps+1):\n",
    "            C[(steps, m)] = max(K - S_0 * (u ** (2*m - steps)), 0)\n",
    "        for k in range(steps-1, -1, -1):\n",
    "            for m in range(0,k+1):\n",
    "                C[(k, m)] = np.exp(-r * dt) * (p * C[(k+1, m+1)] + (1-p) * C[(k+1, m)])\n",
    "                \n",
    "    return C[(0,0)]\n",
    "\n",
    "binomial(steps=5000, S_0=1418.15, T=5/12, sigma=0.42, r=0.012, K=1280, call=True)"
   ]
  }
 ],
 "metadata": {
  "kernelspec": {
   "display_name": "Python 3",
   "language": "python",
   "name": "python3"
  },
  "language_info": {
   "codemirror_mode": {
    "name": "ipython",
    "version": 3
   },
   "file_extension": ".py",
   "mimetype": "text/x-python",
   "name": "python",
   "nbconvert_exporter": "python",
   "pygments_lexer": "ipython3",
   "version": "3.7.6"
  },
  "latex_envs": {
   "LaTeX_envs_menu_present": true,
   "autoclose": false,
   "autocomplete": true,
   "bibliofile": "biblio.bib",
   "cite_by": "apalike",
   "current_citInitial": 1,
   "eqLabelWithNumbers": true,
   "eqNumInitial": 1,
   "hotkeys": {
    "equation": "Ctrl-E",
    "itemize": "Ctrl-I"
   },
   "labels_anchors": false,
   "latex_user_defs": false,
   "report_style_numbering": false,
   "user_envs_cfg": false
  },
  "toc": {
   "base_numbering": 1,
   "nav_menu": {},
   "number_sections": true,
   "sideBar": true,
   "skip_h1_title": false,
   "title_cell": "Table of Contents",
   "title_sidebar": "Contents",
   "toc_cell": false,
   "toc_position": {},
   "toc_section_display": true,
   "toc_window_display": false
  }
 },
 "nbformat": 4,
 "nbformat_minor": 4
}
