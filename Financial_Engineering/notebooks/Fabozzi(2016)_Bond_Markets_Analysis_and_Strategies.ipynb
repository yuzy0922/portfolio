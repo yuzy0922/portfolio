{
 "cells": [
  {
   "cell_type": "code",
   "execution_count": 1,
   "metadata": {
    "ExecuteTime": {
     "end_time": "2020-08-01T07:22:26.579931Z",
     "start_time": "2020-08-01T07:22:23.426527Z"
    },
    "scrolled": false
   },
   "outputs": [],
   "source": [
    "# Import libraries\n",
    "import pandas as pd\n",
    "import numpy as np\n",
    "import matplotlib.pyplot as plt\n",
    "\n",
    "import sympy\n",
    "from sympy import symbols"
   ]
  },
  {
   "cell_type": "markdown",
   "metadata": {},
   "source": [
    "# Lecture 1\n",
    "Skip due to the easiness."
   ]
  },
  {
   "cell_type": "markdown",
   "metadata": {},
   "source": [
    "# Lecture 2"
   ]
  },
  {
   "cell_type": "markdown",
   "metadata": {},
   "source": [
    "## Bond price"
   ]
  },
  {
   "cell_type": "markdown",
   "metadata": {},
   "source": [
    "m = Number of payments per period (e.g., m=2 for semiannually payments) <br>\n",
    "t = Number of years to maturity <br>\n",
    "coupon_rate = Coupon rate (in decimals terms)<br>\n",
    "ytm = Yield to maturity (in decimals terms) <br>\n",
    "fv = The Bond’s Face Value <br>\n",
    "\n",
    "C = (coupon_rate * fv) / m <br>\n",
    "n = t * m <br>\n",
    "r = ytm / m <br>"
   ]
  },
  {
   "cell_type": "markdown",
   "metadata": {},
   "source": [
    "The formula of bond price: <br>\n",
    "𝑃 = 𝐶 * (1−(𝑟+1)^(−𝑛)) / 𝑟 + 𝑓𝑣 * (𝑟 + 1)^(−𝑛)"
   ]
  },
  {
   "cell_type": "code",
   "execution_count": 2,
   "metadata": {
    "ExecuteTime": {
     "end_time": "2020-08-01T07:22:36.473951Z",
     "start_time": "2020-08-01T07:22:35.959203Z"
    }
   },
   "outputs": [
    {
     "data": {
      "text/latex": [
       "$\\displaystyle P = \\frac{C \\left(1 - \\left(r + 1\\right)^{- n}\\right)}{r} + fv \\left(r + 1\\right)^{- n}$"
      ],
      "text/plain": [
       "Eq(P, C*(1 - (r + 1)**(-n))/r + fv*(r + 1)**(-n))"
      ]
     },
     "execution_count": 2,
     "metadata": {},
     "output_type": "execute_result"
    }
   ],
   "source": [
    "P, C, r, n, fv = sympy.symbols('P C r n fv')\n",
    "eq = sympy.Eq(P, C * ((1-1/(1+r)**n))/r + fv/(1+r)**n)\n",
    "eq"
   ]
  },
  {
   "cell_type": "code",
   "execution_count": 3,
   "metadata": {
    "ExecuteTime": {
     "end_time": "2020-08-01T07:23:06.145140Z",
     "start_time": "2020-08-01T07:23:06.135167Z"
    },
    "scrolled": true
   },
   "outputs": [
    {
     "name": "stdout",
     "output_type": "stream",
     "text": [
      "116.93554212201639\n"
     ]
    }
   ],
   "source": [
    "# Given by questions\n",
    "m = 2\n",
    "t = 12\n",
    "coupon_rate = 0.08\n",
    "ytm = 0.06\n",
    "fv = 100\n",
    "\n",
    "# Calculate C, n, r\n",
    "C = (coupon_rate*fv) / m\n",
    "n = t*m\n",
    "r = ytm/m\n",
    "\n",
    "# Formula of bond price\n",
    "P = C * ((1-(1+r)**(-n)))/r + fv*(1+r)**(-n)\n",
    "\n",
    "# The price is; \n",
    "print (P)"
   ]
  },
  {
   "cell_type": "code",
   "execution_count": 4,
   "metadata": {
    "ExecuteTime": {
     "end_time": "2020-08-01T07:23:07.432217Z",
     "start_time": "2020-08-01T07:23:07.424764Z"
    }
   },
   "outputs": [],
   "source": [
    "# Function of bond price\n",
    "def bond_price(m,t,coupon_rate,ytm,fv):\n",
    "    C = coupon_rate * fv / m\n",
    "    n = t * m\n",
    "    r = ytm / m\n",
    "    P = C * ((1-(1+r)**(-n)))/r + fv*(1+r)**(-n)\n",
    "    return P"
   ]
  },
  {
   "cell_type": "code",
   "execution_count": 5,
   "metadata": {
    "ExecuteTime": {
     "end_time": "2020-08-01T07:23:07.846740Z",
     "start_time": "2020-08-01T07:23:07.837768Z"
    }
   },
   "outputs": [
    {
     "data": {
      "text/plain": [
       "116.93554212201639"
      ]
     },
     "execution_count": 5,
     "metadata": {},
     "output_type": "execute_result"
    }
   ],
   "source": [
    "# Example of bond price\n",
    "m, t, coupon_rate, ytm, fv = 2, 12, 0.08, 0.06, 100\n",
    "bond_price(m, t, coupon_rate, ytm, fv)"
   ]
  },
  {
   "cell_type": "markdown",
   "metadata": {},
   "source": [
    "## Partial period method"
   ]
  },
  {
   "cell_type": "markdown",
   "metadata": {},
   "source": [
    "m = 2 <br>\n",
    "t = 1 <br>\n",
    "coupon_rate = 0.05 <br>\n",
    "ytm = 0.06 <br>\n",
    "fv = 1000 <br>\n",
    "\n",
    "C = (coupon_rate * fv) / m <br>\n",
    "n = t * m <br>\n",
    "r = ytm/m <br>\n",
    "\n",
    "v = 78/183 <br>\n",
    "\n",
    "The formula of partial period method: <br>\n",
    "𝑃 = (𝑟 + 1)^(−𝑣) * {𝐶 * (1 − (𝑟 + 1)^(1−𝑛)) * 𝑟^(-1) + 𝑓𝑣 * (𝑟 + 1)^(1−𝑛))"
   ]
  },
  {
   "cell_type": "code",
   "execution_count": 6,
   "metadata": {
    "ExecuteTime": {
     "end_time": "2020-08-01T07:23:11.112888Z",
     "start_time": "2020-08-01T07:23:11.046015Z"
    }
   },
   "outputs": [
    {
     "data": {
      "text/latex": [
       "$\\displaystyle P = \\left(r + 1\\right)^{- v} \\left(\\frac{C \\left(1 - \\left(r + 1\\right)^{1 - n}\\right)}{r} + fv \\left(r + 1\\right)^{1 - n}\\right)$"
      ],
      "text/plain": [
       "Eq(P, (r + 1)**(-v)*(C*(1 - (r + 1)**(1 - n))/r + fv*(r + 1)**(1 - n)))"
      ]
     },
     "execution_count": 6,
     "metadata": {},
     "output_type": "execute_result"
    }
   ],
   "source": [
    "import sympy\n",
    "from sympy import symbols\n",
    "P, C, r, n, fv, v = sympy.symbols('P C r n fv, v')\n",
    "eq = sympy.Eq(P, (1+r)**(-v) * (C * (1-(1+r)**(-(n-1)))/r + fv*(1+r)**(-(n-1))))\n",
    "eq"
   ]
  },
  {
   "cell_type": "code",
   "execution_count": 7,
   "metadata": {
    "ExecuteTime": {
     "end_time": "2020-08-01T07:23:13.669589Z",
     "start_time": "2020-08-01T07:23:13.657621Z"
    }
   },
   "outputs": [
    {
     "name": "stdout",
     "output_type": "stream",
     "text": [
      "982.6866061067525\n"
     ]
    }
   ],
   "source": [
    "# Given by questions\n",
    "m = 2\n",
    "t = 1\n",
    "coupon_rate = 0.05\n",
    "ytm = 0.06\n",
    "fv = 1000\n",
    "\n",
    "# Calculate C, n, r\n",
    "C = (coupon_rate*fv) / m\n",
    "n = t*m\n",
    "r = ytm/m\n",
    "\n",
    "# Impute the remained days\n",
    "remainder_months = 3\n",
    "v = remainder_months * 26/183\n",
    "\n",
    "# Formula of partial period method\n",
    "partial_P = (1+r)**(-v) * (C * (1-(1+r)**(-(n-1)))/r + fv*(1+r)**(-(n-1)))\n",
    "    \n",
    "print (partial_P)"
   ]
  },
  {
   "cell_type": "code",
   "execution_count": 8,
   "metadata": {
    "ExecuteTime": {
     "end_time": "2020-08-01T07:23:14.649604Z",
     "start_time": "2020-08-01T07:23:14.640331Z"
    }
   },
   "outputs": [],
   "source": [
    "# Function of partial period method\n",
    "def partial_period_method(m,t,coupon_rate,ytm,fv, remainder_months):\n",
    "    v = remainder_months *  26/183\n",
    "    C = (coupon_rate*fv) / m\n",
    "    n = t*m\n",
    "    r = ytm/m\n",
    "    partial_price = (1+r)**(-v) * (C * (1-(1+r)**(-(n-1)))/r + fv*(1+r)**(-(n-1)))\n",
    "    return partial_price"
   ]
  },
  {
   "cell_type": "code",
   "execution_count": 9,
   "metadata": {
    "ExecuteTime": {
     "end_time": "2020-08-01T07:23:15.765626Z",
     "start_time": "2020-08-01T07:23:15.755638Z"
    }
   },
   "outputs": [
    {
     "data": {
      "text/plain": [
       "982.6866061067525"
      ]
     },
     "execution_count": 9,
     "metadata": {},
     "output_type": "execute_result"
    }
   ],
   "source": [
    "# Example of partial period method\n",
    "m,t,coupon_rate,ytm,fv, remainder_months = 2,1,0.05,0.06,1000,3\n",
    "partial_period_method(m,t,coupon_rate,ytm,fv, remainder_months)"
   ]
  },
  {
   "cell_type": "markdown",
   "metadata": {},
   "source": [
    "## YTM"
   ]
  },
  {
   "cell_type": "markdown",
   "metadata": {},
   "source": [
    "https://www.wolframalpha.com/input/ <br>\n",
    "Too comlicated to solve on Python. Find out the r which meets the below equation! <br>\n",
    "P = C * ((1-(1+r)^(-n)))/r + fv * (1+r)^(-n) <br>\n",
    "\n",
    "Finally, ytm is solved like this. <br>\n",
    "ytm = 2 * r"
   ]
  },
  {
   "cell_type": "markdown",
   "metadata": {},
   "source": [
    "# Lecture 3"
   ]
  },
  {
   "cell_type": "markdown",
   "metadata": {},
   "source": [
    "## Price value of a basis point"
   ]
  },
  {
   "cell_type": "code",
   "execution_count": 10,
   "metadata": {
    "ExecuteTime": {
     "end_time": "2020-08-01T07:23:23.466712Z",
     "start_time": "2020-08-01T07:23:23.458222Z"
    }
   },
   "outputs": [
    {
     "name": "stdout",
     "output_type": "stream",
     "text": [
      "116.93554212201639\n"
     ]
    }
   ],
   "source": [
    "# Current price\n",
    "# Given by questions\n",
    "m = 2\n",
    "t = 12\n",
    "coupon_rate = 0.08\n",
    "ytm = 0.06\n",
    "fv = 100\n",
    "\n",
    "# Calculate C, n, r\n",
    "C = (coupon_rate*fv) / m\n",
    "n = t*m\n",
    "r = ytm/m\n",
    "\n",
    "# Formula of bond price\n",
    "P_0 = bond_price(m,t,coupon_rate,ytm,fv)\n",
    "\n",
    "# The price is; \n",
    "print (P_0)"
   ]
  },
  {
   "cell_type": "code",
   "execution_count": 11,
   "metadata": {
    "ExecuteTime": {
     "end_time": "2020-08-01T07:23:24.348043Z",
     "start_time": "2020-08-01T07:23:24.340063Z"
    }
   },
   "outputs": [
    {
     "data": {
      "text/plain": [
       "116.84179193029044"
      ]
     },
     "execution_count": 11,
     "metadata": {},
     "output_type": "execute_result"
    }
   ],
   "source": [
    "# ytm + 1 basis point(0.01%)\n",
    "P_1bp = bond_price(m,t,coupon_rate,ytm+0.0001,100)\n",
    "P_1bp"
   ]
  },
  {
   "cell_type": "code",
   "execution_count": 12,
   "metadata": {
    "ExecuteTime": {
     "end_time": "2020-08-01T07:23:25.073127Z",
     "start_time": "2020-08-01T07:23:25.064151Z"
    }
   },
   "outputs": [
    {
     "data": {
      "text/plain": [
       "0.08017253781414184"
      ]
     },
     "execution_count": 12,
     "metadata": {},
     "output_type": "execute_result"
    }
   ],
   "source": [
    "# % change of one basis point\n",
    "import numpy as np\n",
    "\n",
    "np.abs(((P_1bp - P_0) / P_0) * 100)\n",
    "# 0.08%"
   ]
  },
  {
   "cell_type": "markdown",
   "metadata": {},
   "source": [
    "## Yield value of a price change"
   ]
  },
  {
   "cell_type": "code",
   "execution_count": 13,
   "metadata": {
    "ExecuteTime": {
     "end_time": "2020-08-01T07:23:26.653270Z",
     "start_time": "2020-08-01T07:23:26.643298Z"
    },
    "scrolled": true
   },
   "outputs": [
    {
     "name": "stdout",
     "output_type": "stream",
     "text": [
      "97.39630529495435\n"
     ]
    }
   ],
   "source": [
    "# Current price\n",
    "# Given by questions\n",
    "m = 2\n",
    "t = 6\n",
    "coupon_rate = 0.04\n",
    "ytm = 0.045\n",
    "fv = 100\n",
    "\n",
    "# Calculate C, n, r\n",
    "C = (coupon_rate*fv) / m\n",
    "n = t*m\n",
    "r = ytm/m\n",
    "\n",
    "# Formula of bond price\n",
    "P_0 = bond_price(m,t,coupon_rate,ytm,fv)\n",
    "\n",
    "# The price is; \n",
    "print (P_0)"
   ]
  },
  {
   "cell_type": "markdown",
   "metadata": {},
   "source": [
    "https://www.wolframalpha.com/input/ <br>\n",
    "P = C * ((1-(1+r)^(-n)))/r + fv * (1+r)^(-n) <br>\n",
    "ytm = 2 * r"
   ]
  },
  {
   "cell_type": "markdown",
   "metadata": {},
   "source": [
    "## Duration"
   ]
  },
  {
   "cell_type": "code",
   "execution_count": 14,
   "metadata": {
    "ExecuteTime": {
     "end_time": "2020-08-01T07:23:28.514601Z",
     "start_time": "2020-08-01T07:23:28.503632Z"
    }
   },
   "outputs": [
    {
     "name": "stdout",
     "output_type": "stream",
     "text": [
      "Duration: 1.8588644842651056\n",
      "Modified_duration: 1.7536457398727412\n"
     ]
    }
   ],
   "source": [
    "# Given by the questions\n",
    "m = 2\n",
    "t = 2\n",
    "coupon_rate = 0.1\n",
    "ytm = 0.12\n",
    "fv = 100\n",
    "\n",
    "# Calculate C, n, r\n",
    "C = (coupon_rate*fv) / m\n",
    "n = t*m\n",
    "r = ytm/m\n",
    "\n",
    "# Formula of bond price\n",
    "P = bond_price(m, t, coupon_rate, ytm, fv)\n",
    "\n",
    "# Basic function\n",
    "def f(i):\n",
    "    return (i * C) / (1+r)**i / P\n",
    "\n",
    "# Iterate the above calculations\n",
    "def macaulay_duration(func):\n",
    "    coupon_sum = 0;\n",
    "    for t in range(1, n+1):\n",
    "        coupon_sum += func(t)\n",
    "    sum = coupon_sum + (n * fv * (1+r)**(-n) / P)\n",
    "    result = sum / m\n",
    "    print('Duration:', result)\n",
    "    print('Modified_duration:', result / (1+r))\n",
    "\n",
    "# Run the function\n",
    "macaulay_duration(f)"
   ]
  },
  {
   "cell_type": "markdown",
   "metadata": {},
   "source": [
    "Modified duration:\n",
    "`% △price = -Modified_duration *  △YTM`"
   ]
  },
  {
   "cell_type": "code",
   "execution_count": 15,
   "metadata": {
    "ExecuteTime": {
     "end_time": "2020-08-01T07:23:30.068950Z",
     "start_time": "2020-08-01T07:23:30.057465Z"
    },
    "scrolled": true
   },
   "outputs": [
    {
     "data": {
      "text/plain": [
       "94.8420143243868"
      ]
     },
     "execution_count": 15,
     "metadata": {},
     "output_type": "execute_result"
    }
   ],
   "source": [
    "# Example\n",
    "# In the case YTM goes up to 13% --> △YTM = 0.01\n",
    "per_change_price =  1.7536457398727412 * 0.01\n",
    "new_price = P * (1 - per_change_price)\n",
    "new_price"
   ]
  },
  {
   "cell_type": "markdown",
   "metadata": {},
   "source": [
    "## Convexity"
   ]
  },
  {
   "cell_type": "code",
   "execution_count": 16,
   "metadata": {
    "ExecuteTime": {
     "end_time": "2020-08-01T07:23:31.526442Z",
     "start_time": "2020-08-01T07:23:31.509487Z"
    },
    "scrolled": true
   },
   "outputs": [
    {
     "name": "stdout",
     "output_type": "stream",
     "text": [
      "The price of the bond: 96.53489438730034\n",
      "convexity_half_yrs: 16.13314685749149\n",
      "convexity_measures: 4.033286714372872\n"
     ]
    }
   ],
   "source": [
    "# Given by the questions\n",
    "m = 2\n",
    "t = 2\n",
    "coupon_rate = 0.1\n",
    "ytm = 0.12\n",
    "fv = 100\n",
    "\n",
    "# Calculate C, n, r\n",
    "C = (coupon_rate*fv) / m\n",
    "n = t*m\n",
    "r = ytm/m\n",
    "\n",
    "# Formula of bond price\n",
    "P = bond_price(m,t,coupon_rate,ytm,fv)\n",
    "print(\"The price of the bond:\", P)\n",
    "\n",
    "# Basic function\n",
    "def f(t):\n",
    "    return C * t*(t + 1) / (1 + r)**(t + 2)\n",
    "\n",
    "# Iterate the above calculations\n",
    "def convexity_measures(func):\n",
    "    coupon_sum = 0;\n",
    "    for i in range(1, n+1):\n",
    "        coupon_sum += func(i)\n",
    "    # Total CF\n",
    "    total_CF = coupon_sum + (fv * n * (n + 1) * (1 + r)**(-n-2))\n",
    "    convexity_half_yrs = total_CF / P\n",
    "    print('convexity_half_yrs:', convexity_half_yrs)\n",
    "    print('convexity_measures:', convexity_half_yrs / t**2)\n",
    "\n",
    "# Run the function\n",
    "convexity_measures(f)"
   ]
  },
  {
   "cell_type": "markdown",
   "metadata": {},
   "source": [
    "`% △ price = 1/2 * (convexity_measure) * (△ YTM)**2`"
   ]
  },
  {
   "cell_type": "code",
   "execution_count": 17,
   "metadata": {
    "ExecuteTime": {
     "end_time": "2020-08-01T07:23:33.448475Z",
     "start_time": "2020-08-01T07:23:33.439500Z"
    },
    "scrolled": true
   },
   "outputs": [
    {
     "data": {
      "text/plain": [
       "94.82215537936497"
      ]
     },
     "execution_count": 17,
     "metadata": {},
     "output_type": "execute_result"
    }
   ],
   "source": [
    "# Example\n",
    "# Percent price change due to convexity when △YTM = 0.01\n",
    "per_change_price_convexity = 1/2 * 4.033286714372872 * 0.101 **2\n",
    "per_change_price_convexity\n",
    "\n",
    "# percent change in price from modified duration                  \n",
    "per_change_price = 1.7536457398727412 * 0.01\n",
    "\n",
    "# In the case YTM goes up to 13% --> △YTM = 0.01\n",
    "price_change = per_change_price * 100 + per_change_price_convexity\n",
    "price_change\n",
    "\n",
    "# New price\n",
    "new_price = P * (1 - price_change * 1/100)\n",
    "new_price"
   ]
  },
  {
   "cell_type": "markdown",
   "metadata": {},
   "source": [
    "## Approximation of Bond's duration and convexity Measure"
   ]
  },
  {
   "cell_type": "markdown",
   "metadata": {},
   "source": [
    "Effective Modified Duration = (𝑃_down - 𝑃_up) / (2 * 𝑃_0 * (𝑑𝑌) <br>\n",
    "Effective Convexity = (𝑃_down + 𝑃_up − 2 * 𝑃_0) / (𝑃_0 * (𝑑𝑌)^2)\n",
    "\n",
    "Where P0 is the initial price, P- is the new price if Y (annualized yield) goes down by (dy), and P+ is the new price if Y (annualized yield) goes up by (dy)"
   ]
  },
  {
   "cell_type": "code",
   "execution_count": 18,
   "metadata": {
    "ExecuteTime": {
     "end_time": "2020-08-01T07:23:35.841251Z",
     "start_time": "2020-08-01T07:23:35.833402Z"
    },
    "scrolled": true
   },
   "outputs": [
    {
     "name": "stdout",
     "output_type": "stream",
     "text": [
      "Effective Modified Duration: 10.617991102520026\n",
      "Effective Convexity 183.350626092669\n"
     ]
    }
   ],
   "source": [
    "# Example\n",
    "P_0 = 70.357\n",
    "dY = 0.001  ## 10 basis point * 0.01% = 0.1% = 0.001\n",
    "P_down = 71.1105\n",
    "P_up = 69.6164\n",
    "\n",
    "# Effective Modified Duration\n",
    "effective_modified_duration = (P_down - P_up) / (2 * P_0 * (dY))\n",
    "print(\"Effective Modified Duration:\", effective_modified_duration)\n",
    "\n",
    "# Effective Convexity\n",
    "effective_convexity = (P_down + P_up - 2 * P_0) / (P_0 * (dY)**2)\n",
    "print(\"Effective Convexity\", effective_convexity)"
   ]
  },
  {
   "cell_type": "markdown",
   "metadata": {},
   "source": [
    "## Practice Problems"
   ]
  },
  {
   "cell_type": "markdown",
   "metadata": {},
   "source": [
    "### Q1 Price-Yield Relationship\n",
    "You own a semi-annual coupon paying bond with $1,000 face value, \n",
    "4％ coupon rate, 1.5 years to maturity, and the current YTM is 5％.\n",
    "\n",
    "What is the price value of a basis point? <br>\n",
    "What is the yield value of a $1 price change? <br>"
   ]
  },
  {
   "cell_type": "code",
   "execution_count": 19,
   "metadata": {
    "ExecuteTime": {
     "end_time": "2020-08-01T07:25:31.051967Z",
     "start_time": "2020-08-01T07:25:31.042990Z"
    }
   },
   "outputs": [
    {
     "name": "stdout",
     "output_type": "stream",
     "text": [
      "985.7198821839497\n"
     ]
    }
   ],
   "source": [
    "# Current price\n",
    "# Given by questions\n",
    "m = 2\n",
    "t = 1.5\n",
    "coupon_rate = 0.04\n",
    "ytm = 0.05\n",
    "fv = 1000\n",
    "\n",
    "# Calculate C, n, r\n",
    "C = (coupon_rate*fv) / m\n",
    "n = t*m\n",
    "r = ytm/m\n",
    "\n",
    "# Formula of bond price\n",
    "P_0 = bond_price(m,t,coupon_rate,ytm,fv)\n",
    "\n",
    "# The price is; \n",
    "print (P_0)"
   ]
  },
  {
   "cell_type": "markdown",
   "metadata": {},
   "source": [
    "### Q2 A: Duration"
   ]
  },
  {
   "cell_type": "markdown",
   "metadata": {},
   "source": [
    "Find the duration of a semi-annual bond with $1,000 face value, a coupon rate of 4％, 1.5 years to maturity, and a current YTM of 5％."
   ]
  },
  {
   "cell_type": "code",
   "execution_count": null,
   "metadata": {},
   "outputs": [],
   "source": []
  },
  {
   "cell_type": "markdown",
   "metadata": {},
   "source": [
    "### Q2 B: Modified Duration"
   ]
  },
  {
   "cell_type": "markdown",
   "metadata": {},
   "source": [
    "For the bond in the previous question, find the modified duration and implied price change caused by a 0.01％ increase in interest rates."
   ]
  },
  {
   "cell_type": "code",
   "execution_count": null,
   "metadata": {},
   "outputs": [],
   "source": []
  },
  {
   "cell_type": "markdown",
   "metadata": {},
   "source": [
    "### Q3 Working with Duration"
   ]
  },
  {
   "cell_type": "markdown",
   "metadata": {},
   "source": [
    "Consider the bond used for the previous questions (semi-annual bond with $1,000 face value, a coupon rate of 4％, 1.5 years to maturity, and a current YTM of 5％).  Suppose you have a 1.5 year investment horizon and you intend to reinvest all coupons.  Would you rather own this bond instead of a zero-coupon bond with 1.5 years to maturity and a YTM of 5％ if: <br>\n",
    "\n",
    "A: You expect interest rates to rise and you intend to hold the bond until maturity <br>\n",
    "B: You expect interest rates to rise and you intend to sell the bond in one year <br>\n",
    "C: You expect interest rates to fall and you intend to hold the bond for one year <br>\n",
    "D: You expect interest rates to remain the same and you intend to hold the bond until maturity <br>\n",
    "E: You expect interest rates to remain the same and you intend to sell the bond in one year <br>\n"
   ]
  },
  {
   "cell_type": "code",
   "execution_count": null,
   "metadata": {},
   "outputs": [],
   "source": []
  },
  {
   "cell_type": "markdown",
   "metadata": {},
   "source": [
    "### Q4 Convexity"
   ]
  },
  {
   "cell_type": "markdown",
   "metadata": {},
   "source": [
    "Find the convexity of a semi-annual bond with $1,000 face value, a coupon rate of 4％, 1.5 years to maturity, and a current YTM of 5％. <br>\n",
    "\n",
    "For a 1％ change in interest rates, what is the percentage change in price due to convexity?"
   ]
  },
  {
   "cell_type": "code",
   "execution_count": null,
   "metadata": {},
   "outputs": [],
   "source": []
  },
  {
   "cell_type": "markdown",
   "metadata": {},
   "source": [
    "# Lecture 4"
   ]
  },
  {
   "cell_type": "markdown",
   "metadata": {},
   "source": [
    "## Investment Management Process"
   ]
  },
  {
   "cell_type": "markdown",
   "metadata": {},
   "source": [
    "1. Set the Investment Objectives\n",
    " - The liability structure\n",
    " - Big picture goals\n",
    "\n",
    "2. Establish an Investment Policy\n",
    " - Constraints and Objectives\n",
    " - Determine allocations\n",
    " - Specify rebalancing rules , Set guidelines to review the portfolio\n",
    "\n",
    "3. Select a Portfolio Strategy\n",
    " - Active strategies\n",
    " - Passive strategies\n",
    " - In-Between\n",
    " - Structured porffolio strategies\n",
    " - Determined by Beliefs about Market efficiency / The nature of the liability / Purpose of the funds\n",
    "\n",
    "4. Select Specific Assets\n",
    " - Individual securities, synergy with the existing porffolio\n",
    "\n",
    "5. Measure and Evaluate Performance\n",
    " - Over time\n",
    " - Progress to the objectives\n",
    " - Make changes if necessary"
   ]
  },
  {
   "cell_type": "markdown",
   "metadata": {},
   "source": [
    "## Active Bond Strategies"
   ]
  },
  {
   "cell_type": "markdown",
   "metadata": {},
   "source": [
    "### Yield Curve Strategies"
   ]
  },
  {
   "cell_type": "code",
   "execution_count": null,
   "metadata": {},
   "outputs": [],
   "source": []
  },
  {
   "cell_type": "markdown",
   "metadata": {},
   "source": [
    "### Other Strategies"
   ]
  },
  {
   "cell_type": "markdown",
   "metadata": {},
   "source": [
    "## Asset-Liability Management"
   ]
  },
  {
   "cell_type": "markdown",
   "metadata": {},
   "source": [
    "### Immunization"
   ]
  },
  {
   "cell_type": "markdown",
   "metadata": {},
   "source": [
    "### Immunization with multiple liabilities"
   ]
  },
  {
   "cell_type": "markdown",
   "metadata": {},
   "source": [
    "# Lecture 5\n",
    "The Term Structure of Interest Rates and the Spot Curve"
   ]
  },
  {
   "cell_type": "markdown",
   "metadata": {},
   "source": [
    "## Term Structure of Interest Rates"
   ]
  },
  {
   "cell_type": "markdown",
   "metadata": {},
   "source": [
    "The relationship between the yields on otherwise comparable securities with different maturities is called the term structure of interest rates　"
   ]
  },
  {
   "cell_type": "markdown",
   "metadata": {},
   "source": [
    "## Spot Rate and Bootstrapping"
   ]
  },
  {
   "cell_type": "markdown",
   "metadata": {},
   "source": [
    "### Bootstrapping"
   ]
  },
  {
   "cell_type": "markdown",
   "metadata": {},
   "source": [
    "- A method to impute the yield curve for zero coupon bonds from the yields on coupon paying bonds\n",
    "- Based on present value relationship and no-arbitrage assumption"
   ]
  },
  {
   "cell_type": "markdown",
   "metadata": {},
   "source": [
    "#### Example"
   ]
  },
  {
   "cell_type": "code",
   "execution_count": 26,
   "metadata": {},
   "outputs": [],
   "source": [
    "fv = 100\n",
    "bs_example = pd.DataFrame({\"Maturity\": [0.50, 1.00, 1.50, 2.00], \"Coupon_Rate\": [0, 0, 0.08, 0.12], \"Bond_Price\": [94.9, 90.0, 96.0, 101.6],\n",
    "                        \"YTM\": [0.1075, 0.1082, 0.1096, 0.1109]})"
   ]
  },
  {
   "cell_type": "code",
   "execution_count": 27,
   "metadata": {
    "scrolled": true
   },
   "outputs": [
    {
     "data": {
      "text/html": [
       "<div>\n",
       "<style scoped>\n",
       "    .dataframe tbody tr th:only-of-type {\n",
       "        vertical-align: middle;\n",
       "    }\n",
       "\n",
       "    .dataframe tbody tr th {\n",
       "        vertical-align: top;\n",
       "    }\n",
       "\n",
       "    .dataframe thead th {\n",
       "        text-align: right;\n",
       "    }\n",
       "</style>\n",
       "<table border=\"1\" class=\"dataframe\">\n",
       "  <thead>\n",
       "    <tr style=\"text-align: right;\">\n",
       "      <th></th>\n",
       "      <th>Maturity</th>\n",
       "      <th>Coupon_Rate</th>\n",
       "      <th>Bond_Price</th>\n",
       "      <th>YTM</th>\n",
       "    </tr>\n",
       "  </thead>\n",
       "  <tbody>\n",
       "    <tr>\n",
       "      <th>0</th>\n",
       "      <td>0.5</td>\n",
       "      <td>0.00</td>\n",
       "      <td>94.9</td>\n",
       "      <td>0.1075</td>\n",
       "    </tr>\n",
       "    <tr>\n",
       "      <th>1</th>\n",
       "      <td>1.0</td>\n",
       "      <td>0.00</td>\n",
       "      <td>90.0</td>\n",
       "      <td>0.1082</td>\n",
       "    </tr>\n",
       "    <tr>\n",
       "      <th>2</th>\n",
       "      <td>1.5</td>\n",
       "      <td>0.08</td>\n",
       "      <td>96.0</td>\n",
       "      <td>0.1096</td>\n",
       "    </tr>\n",
       "    <tr>\n",
       "      <th>3</th>\n",
       "      <td>2.0</td>\n",
       "      <td>0.12</td>\n",
       "      <td>101.6</td>\n",
       "      <td>0.1109</td>\n",
       "    </tr>\n",
       "  </tbody>\n",
       "</table>\n",
       "</div>"
      ],
      "text/plain": [
       "   Maturity  Coupon_Rate  Bond_Price     YTM\n",
       "0       0.5         0.00        94.9  0.1075\n",
       "1       1.0         0.00        90.0  0.1082\n",
       "2       1.5         0.08        96.0  0.1096\n",
       "3       2.0         0.12       101.6  0.1109"
      ]
     },
     "execution_count": 27,
     "metadata": {},
     "output_type": "execute_result"
    }
   ],
   "source": [
    "bs_example"
   ]
  },
  {
   "cell_type": "code",
   "execution_count": 58,
   "metadata": {},
   "outputs": [
    {
     "data": {
      "text/plain": [
       "0.10971210741016435"
      ]
     },
     "execution_count": 58,
     "metadata": {},
     "output_type": "execute_result"
    }
   ],
   "source": [
    "# Find the zero rate for 1.5 years\n",
    "m = 2\n",
    "bond_price_15 = 96\n",
    "coupon_rate_15 = 0.08\n",
    "ytm_05= 0.1075\n",
    "ytm_10= 0.1082\n",
    "fv = 100\n",
    "\n",
    "# Calculate each factor\n",
    "C_15 = (coupon_rate_15*fv) / m\n",
    "r_05 = ytm_05 / m\n",
    "r_10 = ytm_10 / m\n",
    "\n",
    "first = C_15 / (1+r_05)\n",
    "second = C_15 / (1+r_10)**2\n",
    "\n",
    "# \n",
    "def bs_15(fv, C_15, bond_price_15, first, second):\n",
    "    r_15 = 2 * (((fv+C_15)/(bond_price_15-first-second))**(1/3) - 1)\n",
    "    return r_15\n",
    "\n",
    "r_15 = bs_15(fv, C_15, bond_price_15, first, second)\n",
    "r_15"
   ]
  },
  {
   "cell_type": "code",
   "execution_count": 60,
   "metadata": {},
   "outputs": [
    {
     "data": {
      "text/plain": [
       "0.11105822298878643"
      ]
     },
     "execution_count": 60,
     "metadata": {},
     "output_type": "execute_result"
    }
   ],
   "source": [
    "# Find the zero rate for 2 years\n",
    "m = 2\n",
    "bond_price_20 = 101.6\n",
    "coupon_rate_20 = 0.12\n",
    "ytm_05= 0.1075\n",
    "ytm_10= 0.1082\n",
    "ytm_15= 0.1096\n",
    "fv = 100\n",
    "\n",
    "# Calculate each factor\n",
    "C_20 = (coupon_rate_20*fv) / m\n",
    "r_05 = ytm_05 / m\n",
    "r_10 = ytm_10 / m\n",
    "r_15 = ytm_15 / m\n",
    "\n",
    "first = C_20 / (1+r_05)\n",
    "second = C_20 / (1+r_10)**2\n",
    "third = C_20 / (1+r_15)**3\n",
    "\n",
    "# \n",
    "def bs_20(fv, C_20, bond_price_20, first, second, third):\n",
    "    r_20 = 2 * (((fv+C_20)/(bond_price_20-first-second-third))**(1/4) - 1)\n",
    "    return r_20\n",
    "\n",
    "r_20 = bs_20(fv, C_20, bond_price_20, first, second, third)\n",
    "r_20"
   ]
  },
  {
   "cell_type": "markdown",
   "metadata": {},
   "source": [
    "### Interpolation"
   ]
  },
  {
   "cell_type": "markdown",
   "metadata": {},
   "source": [
    "Suppose you want to find the interpolated rate for time n (tn), where time n occurs part way between time 1 (t1) and time 2 (t2).  Define:\n",
    "- r_1 as rate occurring earlier\n",
    "- r_2 as rate occurring further in time\n",
    "- t_1 as time of first rate\n",
    "- t_2 as time of second rate\n",
    "- t_n as the time whose rate we which to find\n",
    "\n",
    "𝑟_𝑛 = 𝑟_1 + (𝑟_2 − 𝑟_1) / (𝑡_2 − 𝑡_1)×(𝑡_𝑛 − 𝑡_1)"
   ]
  },
  {
   "cell_type": "code",
   "execution_count": 62,
   "metadata": {},
   "outputs": [
    {
     "data": {
      "text/latex": [
       "$\\displaystyle r_{n} = r_{1} + \\frac{\\left(- r_{1} + r_{2}\\right) \\left(- t_{1} + t_{n}\\right)}{- t_{1} + t_{2}}$"
      ],
      "text/plain": [
       "Eq(r_n, r_1 + (-r_1 + r_2)*(-t_1 + t_n)/(-t_1 + t_2))"
      ]
     },
     "execution_count": 62,
     "metadata": {},
     "output_type": "execute_result"
    }
   ],
   "source": [
    "t_n, t_1, t_2, r_n, r_1, r_2,  = sympy.symbols('t_n t_1 t_2 r_n r_1 r_2')\n",
    "eq = sympy.Eq(r_n, r_1 + (r_2 - r_1) / (t_2 - t_1) * (t_n - t_1))\n",
    "eq"
   ]
  },
  {
   "cell_type": "code",
   "execution_count": 63,
   "metadata": {},
   "outputs": [],
   "source": [
    "def interpolation(t_n, t_1, t_2, r_1, r_2):\n",
    "    r_n = r_1 + (r_2 - r_1) / (t_2 - t_1) * (t_n - t_1)\n",
    "    return r_n"
   ]
  },
  {
   "cell_type": "code",
   "execution_count": 64,
   "metadata": {},
   "outputs": [
    {
     "data": {
      "text/plain": [
       "0.107738"
      ]
     },
     "execution_count": 64,
     "metadata": {},
     "output_type": "execute_result"
    }
   ],
   "source": [
    "# Example\n",
    "t_n = 0.67\n",
    "t_1 = 0.5\n",
    "t_2  = 1\n",
    "r_1 = 0.1075\n",
    "r_2 = 0.1082\n",
    "\n",
    "interpolation(t_n, t_1, t_2, r_1, r_2)"
   ]
  },
  {
   "cell_type": "markdown",
   "metadata": {},
   "source": [
    "## Forward Rate"
   ]
  },
  {
   "cell_type": "markdown",
   "metadata": {},
   "source": [
    "### Forward Rate"
   ]
  },
  {
   "cell_type": "markdown",
   "metadata": {},
   "source": [
    "In general, the relation between a t-period spot rate (z_t) and the current six-month spot rate (z_1), and the six month forward rates is\n",
    "\n",
    "z_t = [(1 + z_1) (1 + f_1) (1 + f_2) ··· (1 + f_t)]1/t – 1\n",
    "\n",
    "where f_t is the six-month forward rate beginning t six-month periods from now."
   ]
  },
  {
   "cell_type": "markdown",
   "metadata": {},
   "source": [
    "Example\n",
    "\n",
    "You could buy a three-year zero bond and earn 9.1%. <br>\n",
    "Alternatively, you could buy a two year bond, and buy an FRA for a one year zero coupon bond purchased in two years' time."
   ]
  },
  {
   "cell_type": "code",
   "execution_count": 68,
   "metadata": {},
   "outputs": [
    {
     "data": {
      "text/plain": [
       "[-4.10305184824803, 0.103051848248025]"
      ]
     },
     "execution_count": 68,
     "metadata": {},
     "output_type": "execute_result"
    }
   ],
   "source": [
    "# Example\n",
    "# Solve for 2-3 years spot rate\n",
    "m = 2\n",
    "t = 3\n",
    "yr3_spot = 0.091\n",
    "first_yrs2_spot = 0.085\n",
    "\n",
    "n = m*t\n",
    "\n",
    "f_23 = sympy.symbols('f_23')\n",
    "eq = sympy.Eq((1 + yr3_spot / 2)**n, (1 + 0.085 / 2)**4 * (1 + f_23 / 2)**(n-4))\n",
    "sympy.solve(eq, f_23)"
   ]
  },
  {
   "cell_type": "markdown",
   "metadata": {},
   "source": [
    "Example2\n",
    "\n",
    "We could have bought the three year bond, or bought a one year bond, taken out a forward contract for year 2, and another forward contract for year 3."
   ]
  },
  {
   "cell_type": "code",
   "execution_count": 70,
   "metadata": {},
   "outputs": [
    {
     "data": {
      "text/plain": [
       "[-4.10306394253773, 0.103063942537728]"
      ]
     },
     "execution_count": 70,
     "metadata": {},
     "output_type": "execute_result"
    }
   ],
   "source": [
    "# Example2\n",
    "m = 2\n",
    "t = 3\n",
    "yr3_spot = 0.091\n",
    "first_1yr_spot = 0.08\n",
    "second_1yr_spot = 0.09\n",
    "\n",
    "n = m*t\n",
    "\n",
    "f_23 = f_23 = sympy.symbols('f_23')\n",
    "eq = sympy.Eq((1 + yr3_spot / 2)**n, (1 + 0.08 / 2)**2 * (1 + 0.09 / 2)**2 * (1 + f_23 / 2)**2)\n",
    "sympy.solve(eq, f_23)"
   ]
  },
  {
   "cell_type": "markdown",
   "metadata": {},
   "source": [
    "### Arbitrage"
   ]
  },
  {
   "cell_type": "markdown",
   "metadata": {},
   "source": [
    "Suppose the spot rates for 1-year and 2-year bonds are as shown before (8.0% and 8.5%, respectively).  Suppose a forward rate agreement between 1-year and 2-year is at 10%.  Is there an arbitrage opportunity?  Forward rate is too high (should be 9%). \n",
    "\n",
    "Yes. Arbitrager can get net gain from borrowing money, investing, reinvesting. \n",
    "- Earn 10% between year 1 and 2\n",
    "- Pay 8.5% between year 0 and 2\n",
    "- And earn 8% between year 0 and 1."
   ]
  },
  {
   "cell_type": "markdown",
   "metadata": {},
   "source": [
    "Suppose the spot rates for 1-year and 2-year bonds are as shown before.  But now suppose a forward rate agreement between 1-year and 2-year is at 6%.  Is there an arbitrage opportunity?  Forward rate is too low.\n",
    "\n",
    "Yes. Arbitrager can get net gain.\n",
    "- Borrow cheap at 6% between year 1 and 2 with FRA agreement. \n",
    "- Borrow between year 0 and 1 at 8%.  \n",
    "- Earn 8.5% between year 0 and 2. \n"
   ]
  },
  {
   "cell_type": "markdown",
   "metadata": {},
   "source": [
    "## Practice Problem"
   ]
  },
  {
   "cell_type": "markdown",
   "metadata": {},
   "source": [
    "### Q1 Find the Spot Curve"
   ]
  },
  {
   "cell_type": "markdown",
   "metadata": {},
   "source": [
    "Suppose you observe information for three actively traded government bonds that pay semi-annual coupons."
   ]
  },
  {
   "cell_type": "code",
   "execution_count": 71,
   "metadata": {},
   "outputs": [],
   "source": [
    "Q1 = pd.DataFrame({\"Bond\":[\"A\", \"B\", \"C\"], \"Maturity\": [0.5, 1.0, 1.5], \"Coupon\": [0.02, 0.025, 0.03], \n",
    "                   \"Price\": [99.02, 97.59, 95.76], \"YTM\": [0.04, 0.05, 0.06]})\n",
    "Q1"
   ]
  },
  {
   "cell_type": "markdown",
   "metadata": {},
   "source": [
    "Find the zero spot rates for each of the next three periods."
   ]
  },
  {
   "cell_type": "code",
   "execution_count": null,
   "metadata": {},
   "outputs": [],
   "source": []
  },
  {
   "cell_type": "markdown",
   "metadata": {},
   "source": [
    "### Q2 The Spot Curve and Arbitrage"
   ]
  },
  {
   "cell_type": "markdown",
   "metadata": {},
   "source": [
    "Use the spot curve you found for the previous problem. Suppose there is a one-year government bond, Bond D, that pays an 8% coupon and is currently trading for $102.50.  Is this the correct, no-arbitrage price of this bond?  If not, what is the arbitrage strategy?"
   ]
  },
  {
   "cell_type": "code",
   "execution_count": null,
   "metadata": {},
   "outputs": [],
   "source": []
  },
  {
   "cell_type": "markdown",
   "metadata": {},
   "source": [
    "### Q3 Forward Rates and Arbitrage"
   ]
  },
  {
   "cell_type": "markdown",
   "metadata": {},
   "source": [
    "Suppose you are given the following information about spot rates and forward rates.  Suppose the current yield-to-maturity for an 3 year zero coupon bond is 5%.  The current yield-to-maturity for a 1 year zero coupon bond is 3.5%.  The forward rate for the 1 year period beginning in 1 year time is 5%.  The forward rate for the 1 year period beginning in 2 years is 5.5%.  Is there an arbitrage opportunity?  If so, what is the arbitrage strategy?"
   ]
  },
  {
   "cell_type": "code",
   "execution_count": null,
   "metadata": {},
   "outputs": [],
   "source": []
  },
  {
   "cell_type": "markdown",
   "metadata": {},
   "source": [
    "# Lecture 6\n",
    "Convertible Bonds and Coco's"
   ]
  },
  {
   "cell_type": "markdown",
   "metadata": {},
   "source": [
    "## Definition"
   ]
  },
  {
   "cell_type": "markdown",
   "metadata": {},
   "source": [
    "A convertible bond: a corporate bond with a provision that allows the bondholder to convert the bond into a specified number of shares of the company. <br>\n",
    "Exchangeable bonds: granting the bondholder the right to exchange the bonds for the common stock of a firm other than the issuer of the bond"
   ]
  },
  {
   "cell_type": "markdown",
   "metadata": {},
   "source": [
    "## Features of convertible bonds"
   ]
  },
  {
   "cell_type": "markdown",
   "metadata": {},
   "source": [
    "Conversion Ratio: The number of shares that the bondholder will receive from exercising the call option of a convertible bond "
   ]
  },
  {
   "cell_type": "markdown",
   "metadata": {},
   "source": [
    "Callable: Many convertible bonds are callable; meaning the company can force the bondholder to sell the bond back to the company <br>\n",
    "Puttable:  Less common; allows the bondholder to force the issuer to redeem the bond"
   ]
  },
  {
   "cell_type": "markdown",
   "metadata": {},
   "source": [
    "Settlement:\n",
    "- Physical settle: The company issues new shares when the bond is converted\n",
    "- Cash settle: The company pays (or has the option to pay) the cash value of the underlying shares instead of issuing new shares\n",
    "\n",
    "Contingent convertible\n",
    "- Can be converted only when the price of the stock exceeds a certain level for a specified period of time\n",
    "- In recent years, “contingent convertible (CoCo):” is used to refer to a specific type of bank debt. \n",
    "\n",
    "Mandatory convertible:\n",
    "- Principal is repaid in shares if not converted before maturity\n"
   ]
  },
  {
   "cell_type": "markdown",
   "metadata": {},
   "source": [
    "Coupons\n",
    "- Most convertible bonds pay a coupon similar to an ordinary bond\n",
    "- The coupon rate is lower than a straight bond would pay, because the bondholder gives up some coupon for the conversion feature\n",
    "- Zero coupon convertible bonds are like zero bonds, but with a conversion feature"
   ]
  },
  {
   "cell_type": "markdown",
   "metadata": {},
   "source": [
    "## Issuers and corporate finance implications of convertibles"
   ]
  },
  {
   "cell_type": "markdown",
   "metadata": {},
   "source": [
    "Market:\n",
    "- Relatively small part of the bond market\n",
    "- Common for convertible bonds to be issued as private placements\n",
    "- Very often issued to hedge funds as part of convertible bond arbitrage strategies\n",
    "- Because often issued as private placements, companies can raise cash with convertible bonds relatively quickly"
   ]
  },
  {
   "cell_type": "markdown",
   "metadata": {},
   "source": [
    "Issuers:<br>\n",
    "Relative to non-convertible bonds, issuers of convertible bonds tend to be:\n",
    "- Smaller companies\n",
    "- Have worse credit ratings (or no credit rating)\n",
    "- Riskier: highly volatile stock prices\n",
    "- Have less collateral or tangible assets"
   ]
  },
  {
   "cell_type": "markdown",
   "metadata": {},
   "source": [
    "Debt-Equity Conflicts:\n",
    "- Convertible bonds can help to solve conflicts of interest between shareholders and bondholders\n",
    "- After debt issue, shareholders could increase risk or issue senior debt.  Convertible bonds help to align the interests of shareholders and bondholders."
   ]
  },
  {
   "cell_type": "markdown",
   "metadata": {},
   "source": [
    "## Traditional analysis of convertible bonds"
   ]
  },
  {
   "cell_type": "markdown",
   "metadata": {},
   "source": [
    "### Conversion price\n",
    "the effective price (in par value) that the bondholder pays when converting the bond\n",
    "\n",
    "𝐶𝑜𝑛𝑣𝑒𝑟𝑠𝑖𝑜𝑛 𝑃𝑟𝑖𝑐𝑒 (USD) = (𝑃𝑎𝑟 𝑉𝑎𝑙𝑢𝑒) / (𝐶𝑜𝑛𝑣𝑒𝑟𝑠𝑖𝑜𝑛 𝑅𝑎𝑡𝑖𝑜)"
   ]
  },
  {
   "cell_type": "code",
   "execution_count": 1,
   "metadata": {},
   "outputs": [],
   "source": [
    "# Function of conversion price\n",
    "def conversion_price(par_value, conversion_ratio):\n",
    "    conversion_price = par_value / conversion_ratio\n",
    "    return conversion_price"
   ]
  },
  {
   "cell_type": "code",
   "execution_count": 16,
   "metadata": {},
   "outputs": [
    {
     "data": {
      "text/plain": [
       "10.0"
      ]
     },
     "execution_count": 16,
     "metadata": {},
     "output_type": "execute_result"
    }
   ],
   "source": [
    "# Example\n",
    "# given by questions\n",
    "per_share_divident = 0.5\n",
    "market_price_stock = 8\n",
    "market_price_bond = 900\n",
    "par_value = 1000\n",
    "conversion_ratio = 100\n",
    "coupon_rate = 0.06\n",
    "maturity = 10\n",
    "\n",
    "# Conversion price:\n",
    "conversion_price = conversion_price(par_value, conversion_ratio)\n",
    "conversion_price"
   ]
  },
  {
   "cell_type": "markdown",
   "metadata": {},
   "source": [
    "If the stock price is greater than $10, then potentially attractive to convert the bond.  Especially if the dividends received from converting would be large relative to the coupon payments being received."
   ]
  },
  {
   "cell_type": "markdown",
   "metadata": {},
   "source": [
    "### Conversion value\n",
    "the value of the bond if it is converted immediately\n",
    "\n",
    "conversion value (USD) =  market price of common stock × conversion ratio"
   ]
  },
  {
   "cell_type": "code",
   "execution_count": 10,
   "metadata": {},
   "outputs": [],
   "source": [
    "# Function of convertible value\n",
    "def conversion_value(market_price_stock, conversion_ratio):\n",
    "    conversion_value = market_price_stock * conversion_ratio\n",
    "    return conversion_value"
   ]
  },
  {
   "cell_type": "code",
   "execution_count": 17,
   "metadata": {},
   "outputs": [
    {
     "data": {
      "text/plain": [
       "800"
      ]
     },
     "execution_count": 17,
     "metadata": {},
     "output_type": "execute_result"
    }
   ],
   "source": [
    "# Example\n",
    "# given by questions\n",
    "per_share_divident = 0.5\n",
    "market_price_stock = 8\n",
    "market_price_bond = 900\n",
    "par_value = 1000\n",
    "conversion_ratio = 100\n",
    "coupon_rate = 0.06\n",
    "maturity = 10\n",
    "\n",
    "# Conversion value:\n",
    "conversion_value = conversion_value(market_price_stock, conversion_ratio)\n",
    "conversion_value"
   ]
  },
  {
   "cell_type": "markdown",
   "metadata": {},
   "source": [
    "### Straight bond price"
   ]
  },
  {
   "cell_type": "markdown",
   "metadata": {},
   "source": [
    "The same as bond price above (USD)"
   ]
  },
  {
   "cell_type": "code",
   "execution_count": 13,
   "metadata": {},
   "outputs": [],
   "source": [
    "# Function of straight bond price\n",
    "def straight_bond_price(coupon_rate,maturity,ytm,par_value):\n",
    "    C = coupon_rate * par_value / 2\n",
    "    n = maturity * 2\n",
    "    r = ytm / 2\n",
    "    straight_bond_price = C * ((1-(1+r)**(-n)))/r + par_value*(1+r)**(-n)\n",
    "    return straight_bond_price"
   ]
  },
  {
   "cell_type": "code",
   "execution_count": 18,
   "metadata": {},
   "outputs": [
    {
     "data": {
      "text/plain": [
       "750.7557931492001"
      ]
     },
     "execution_count": 18,
     "metadata": {},
     "output_type": "execute_result"
    }
   ],
   "source": [
    "# Example\n",
    "# given by questions\n",
    "per_share_divident = 0.5\n",
    "market_price_stock = 8\n",
    "market_price_bond = 900\n",
    "par_value = 1000\n",
    "conversion_ratio = 100\n",
    "coupon_rate = 0.06\n",
    "maturity = 10\n",
    "ytm = 0.1\n",
    "\n",
    "# Conversion value:\n",
    "straight_bond_price = straight_bond_price(coupon_rate,maturity,ytm,par_value)\n",
    "straight_bond_price"
   ]
  },
  {
   "cell_type": "markdown",
   "metadata": {},
   "source": [
    "### Market conversion price\n",
    "The price that an investor effectively pays for the common stock if the convertible bond is purchased and then converted into the common stock\n",
    "\n",
    "𝒎𝒂𝒓𝒌𝒆𝒕 𝒄𝒐𝒏𝒗𝒆𝒓𝒔𝒊𝒐𝒏 𝒑𝒓𝒊𝒄𝒆 (USD) = (𝒎𝒂𝒓𝒌𝒆𝒕 𝒑𝒓𝒊𝒄𝒆 𝒐𝒇 𝒄𝒐𝒏𝒗𝒆𝒓𝒕𝒊𝒃𝒍𝒆 𝒃𝒐𝒏𝒅) / (𝒄𝒐𝒏𝒗𝒆𝒓𝒔𝒊𝒐𝒏 𝒓𝒂𝒕𝒊𝒐)"
   ]
  },
  {
   "cell_type": "code",
   "execution_count": 19,
   "metadata": {},
   "outputs": [],
   "source": [
    "# Function of market conversion price\n",
    "def market_conversion_price(market_price_bond, conversion_ratio):\n",
    "    market_conversion_price = market_price_bond / conversion_ratio\n",
    "    return market_conversion_price"
   ]
  },
  {
   "cell_type": "code",
   "execution_count": 20,
   "metadata": {},
   "outputs": [
    {
     "data": {
      "text/plain": [
       "9.0"
      ]
     },
     "execution_count": 20,
     "metadata": {},
     "output_type": "execute_result"
    }
   ],
   "source": [
    "# Example\n",
    "# Given by questions\n",
    "market_price_bond = 900\n",
    "market_price_stock = 8\n",
    "conversion_ratio = 100\n",
    "\n",
    "market_conversion_price = market_conversion_price(market_price_bond, conversion_ratio)\n",
    "market_conversion_price"
   ]
  },
  {
   "cell_type": "markdown",
   "metadata": {},
   "source": [
    "### Market conversion premium per share\n",
    "An investor who purchases a convertible bond rather than the underlying stock typically pays a premium over the stock’s current market price.This premium per share is equal to the difference between the market conversion price and the current market price of the common stock.\n",
    "\n",
    "Market Conversion Premium per Share (USD) = 𝑴𝒂𝒓𝒌𝒆𝒕 𝑪𝒐𝒏𝒗𝒆𝒓𝒔𝒊𝒐𝒏 𝑷𝒓𝒊𝒄𝒆 − 𝑪𝒖𝒓𝒓𝒆𝒏𝒕 𝑴𝒂𝒓𝒌𝒆𝒕 𝑷𝒓𝒊𝒄𝒆"
   ]
  },
  {
   "cell_type": "code",
   "execution_count": 21,
   "metadata": {},
   "outputs": [],
   "source": [
    "# Function of market_conversion_premium_per_share\n",
    "def market_conversion_premium_per_share(market_conversion_price, market_price_stock):\n",
    "    market_conversion_premium_per_share = market_conversion_price- market_price_stock\n",
    "    return market_conversion_premium_per_share"
   ]
  },
  {
   "cell_type": "code",
   "execution_count": 22,
   "metadata": {},
   "outputs": [
    {
     "data": {
      "text/plain": [
       "1.0"
      ]
     },
     "execution_count": 22,
     "metadata": {},
     "output_type": "execute_result"
    }
   ],
   "source": [
    "# Example\n",
    "# Given by questions\n",
    "market_price_bond = 900\n",
    "market_price_stock = 8\n",
    "conversion_ratio = 100\n",
    "\n",
    "market_conversion_premium_per_share = market_conversion_premium_per_share(market_conversion_price, market_price_stock)\n",
    "market_conversion_premium_per_share"
   ]
  },
  {
   "cell_type": "markdown",
   "metadata": {},
   "source": [
    "### Favorable income differential per share\n",
    "As an offset to the market conversion premium per share, the coupon payments from the convertible bond are usually larger than the dividends paid on the number of shares equal to the conversion ratio\n",
    "\n",
    "Certain convertible bond strategies depend on a favorable income differential per share (USD), computed as:\n",
    "\n",
    "{(coupon_rate * par value) - (conversion ratio * dividend per share)} / conversion ratio"
   ]
  },
  {
   "cell_type": "code",
   "execution_count": 29,
   "metadata": {},
   "outputs": [],
   "source": [
    "# Function of favorable income differential per share\n",
    "def favorable_income_differential_per_share(coupon_rate, par_value, conversion_ratio, divident_per_share):\n",
    "    favorable_income_differential_per_share = ((coupon_rate * par_value) - (conversion_ratio * divident_per_share)) / conversion_ratio\n",
    "    return favorable_income_differential_per_share"
   ]
  },
  {
   "cell_type": "code",
   "execution_count": 30,
   "metadata": {},
   "outputs": [
    {
     "data": {
      "text/plain": [
       "0.1"
      ]
     },
     "execution_count": 30,
     "metadata": {},
     "output_type": "execute_result"
    }
   ],
   "source": [
    "# Example\n",
    "# Given by questions\n",
    "\n",
    "coupon_rate = 0.06\n",
    "par_value = 1000\n",
    "conversion_ratio = 100\n",
    "divident_per_share = 0.5\n",
    "\n",
    "favorable_income_differential_per_share = favorable_income_differential_per_share(coupon_rate, par_value, conversion_ratio, divident_per_share)\n",
    "favorable_income_differential_per_share"
   ]
  },
  {
   "cell_type": "markdown",
   "metadata": {},
   "source": [
    "### Downside Risk of a Convertible Bond\n",
    "The downside risk is measured as a percentage of the straight value:\n",
    "\n",
    "𝒑𝒓𝒆𝒎𝒊𝒖𝒎 𝒐𝒗𝒆𝒓 𝒔𝒕𝒓𝒂𝒊𝒈𝒉𝒕 𝒗𝒂𝒍𝒖𝒆(%) = ((𝒄𝒐𝒏𝒗𝒆𝒓𝒕𝒊𝒃𝒍𝒆 𝒃𝒐𝒏𝒅 𝒑𝒓𝒊𝒄𝒆)/(𝒔𝒕𝒓𝒂𝒊𝒈𝒉𝒕 𝒗𝒂𝒍𝒖𝒆))−𝟏"
   ]
  },
  {
   "cell_type": "code",
   "execution_count": 31,
   "metadata": {},
   "outputs": [],
   "source": [
    "# Function of premium over straight value\n",
    "def premium_over_straight_value(market_price_bond, straight_bond_price):\n",
    "    premium_over_straight_value = (market_price_bond / straight_bond_price) - 1\n",
    "    return premium_over_straight_value"
   ]
  },
  {
   "cell_type": "code",
   "execution_count": 32,
   "metadata": {},
   "outputs": [
    {
     "data": {
      "text/plain": [
       "0.19878523096595457"
      ]
     },
     "execution_count": 32,
     "metadata": {},
     "output_type": "execute_result"
    }
   ],
   "source": [
    "# Example\n",
    "# Given by questions\n",
    "straight_bond_price = 750.76\n",
    "market_price_bond = 900\n",
    "\n",
    "premium_over_straight_value = premium_over_straight_value(market_price_bond, straight_bond_price)\n",
    "premium_over_straight_value"
   ]
  },
  {
   "cell_type": "markdown",
   "metadata": {},
   "source": [
    "## Option measures: Delta\n",
    "A convertible bond's delta is the sensitivity of its price to changes in the underlying stock's price. More specifically, delta is the ratio of the change in the convertible’s value to the change in the price of the underlying shares.\n",
    "\n",
    "There are two important points to know about delta:\n",
    "- Delta is only an approximation of the change in the value of a convertible bond for a small change in the stock price\n",
    "- An option’s delta changes over time\n",
    "\n",
    "\n",
    "Delta can be used to estimate the effect of a change in the stock price on the convertible bond's value as follows:\n",
    "\n",
    "approximate change in a convertible bond' s value (USD) = change in stock price per share × conversion ratio × delta"
   ]
  },
  {
   "cell_type": "code",
   "execution_count": 33,
   "metadata": {},
   "outputs": [],
   "source": [
    "# Function of approximate change in a convertible bond's value\n",
    "def apx_change_conversion_value(change_stock_price_per_share, conversion_ratio, delta):\n",
    "    apx_change_conversion_value = change_stock_price_per_share * conversion_ratio * delta\n",
    "    return apx_change_conversion_value"
   ]
  },
  {
   "cell_type": "code",
   "execution_count": 34,
   "metadata": {},
   "outputs": [
    {
     "data": {
      "text/plain": [
       "6.0"
      ]
     },
     "execution_count": 34,
     "metadata": {},
     "output_type": "execute_result"
    }
   ],
   "source": [
    "# Example\n",
    "# Given by questions\n",
    "conversion_ratio = 100\n",
    "delta = 0.6\n",
    "change_stock_price_per_share = 0.1\n",
    "\n",
    "apx_change_conversion_value = apx_change_conversion_value(change_stock_price_per_share, conversion_ratio, delta)\n",
    "apx_change_conversion_value"
   ]
  },
  {
   "cell_type": "markdown",
   "metadata": {},
   "source": [
    "This means you must short 60 (delta * conversion_ratio) shares to have a market neutral position (when combined with a convertible bond)"
   ]
  },
  {
   "cell_type": "markdown",
   "metadata": {},
   "source": [
    "## Valuation"
   ]
  },
  {
   "cell_type": "markdown",
   "metadata": {},
   "source": []
  },
  {
   "cell_type": "markdown",
   "metadata": {},
   "source": [
    "## Convertible bond arbitrage"
   ]
  },
  {
   "cell_type": "markdown",
   "metadata": {},
   "source": [
    "The payoff characteristics of convertible bonds allow the creation of different positions that can benefit from the mispricing of a convertible bond\n",
    "Capitalizing on the perceived mispricing of a convertible bond is referred to as convertible bond arbitrage:\n",
    "First, find convertible bonds that are mispriced according to the portfolio manager’s convertible bond pricing model.  (Hence, this is heavily dependent on this valuation model.)\n",
    "Second, take a position in the convertible bond, the underlying common stock, and any derivative instruments needed to hedge risks"
   ]
  },
  {
   "cell_type": "markdown",
   "metadata": {},
   "source": [
    "Attributes of Issues for Use in a Convertible Bond Arbitrage Strategy <br>\n",
    "For the convertible bond itself, the following attributes are desirable in a convertible bond arbitrage: \n",
    "- (1) good liquidity\n",
    "- (2) low conversion premium\n",
    "- (3) high convexity\n",
    "- (4) low implied volatility\n",
    "\n",
    "For the underlying common stock, the following attributes are desirable: \n",
    "- (1) high expected price volatility\n",
    "- (2) can be easily borrowed (for shorting)\n",
    "- (3) pay little or no dividends."
   ]
  },
  {
   "cell_type": "markdown",
   "metadata": {},
   "source": [
    "Cash Flow Arbitrage Strategy: <br>\n",
    "- Find a convertible bond with a cash flow yield higher than the dividend yield on the underlying stock (favorable income differential per share)\n",
    "- Purchase the convertible bond.  \n",
    "- Short enough shares of the underlying stock that the entire portfolio is delta neutral.\n",
    "- Earn the spread between the coupon yield and the dividend yield. \n",
    "- Changes in the stock price are offset by the long position in the convertible and short position in the stock."
   ]
  },
  {
   "cell_type": "markdown",
   "metadata": {},
   "source": [
    "Cash Flow Arbitrage Strategy: \n",
    "- Using our numerical example from earlier, you could purchase the convertible bond for 900 USD and sell short 60 shares for 480 USD\n",
    "- Receive 10 USD in positive income differential per year\n",
    "- If the share price rises, gains on convertible bond offset by losses on short position\n",
    "- If the share price falls, value of convertible bond falls by less than gain on short position in shares (because convertible bond value is bounded by value of straight bond)"
   ]
  },
  {
   "cell_type": "markdown",
   "metadata": {},
   "source": [
    "## Contingent convertible bonds (CoCo bonds)\n",
    "The ideas are:\n",
    "- Prevent bank runs / financial crisis\n",
    "- Bank issues CoCo bonds.  These are the lowest priority debt securities (rank just after equity in priority structure).\n",
    "- If bank hits a “trigger” CoCo bonds are converted into equity or wiped out, without any need for formal bankruptcy proceedings\n",
    "- CoCo bond owner has no right to convert bond into shares.  Conversion is contingent on financial distress by issuer, and this is determined by formula or by regulators.\n",
    "- For some CoCo bonds, instead of conversion bank has option to skip coupon payments when in distress\n",
    "- In the event a bank becomes distressed, CoCo bonds provide a mechanism to automatically decrease bank debt and (possibly) increase bank equity\n",
    "- CoCo bonds have a relatively high coupon rates and yield-to-maturity to compensate investors for higher risk\n",
    "- More info: https://www.bis.org/publ/qtrpdf/r_qt1309f.pdf"
   ]
  },
  {
   "cell_type": "markdown",
   "metadata": {},
   "source": [
    "Trigger:\n",
    "- Mechanical: \n",
    "  - Accounting based: CoCo provisions automatically triggered if bank’s capital reserve ratio falls below a certain level\n",
    "  - Market based: CoCo provisions automatically triggered if bank’s market cap to assets ratio falls below a certain level\n",
    "- Discretionary: bank regulator can use their discretion to determine whether CoCo bond provisions should be triggered"
   ]
  },
  {
   "cell_type": "markdown",
   "metadata": {},
   "source": [
    "Loss absorption mechanism:\n",
    "- Coupon deferred / eliminated\n",
    "- Conversion to equity:  Bond converted to common shares.  Can have a fixed conversion ratio or a conversion ratio that changes with market conditions. \n",
    "- Principal loss absorption: Bond’s principal is reduced or completely wiped out.  Some have the possibility of temporary write-offs.\n"
   ]
  },
  {
   "cell_type": "markdown",
   "metadata": {},
   "source": [
    "Tier 1 CoCo bonds:\n",
    "- Least senior bond issued by bank\n",
    "- Perpetual, with a minimum of 5 years before can first be called after issuance\n",
    "- Coupon can be suspended even if “trigger” not hit.  Coupons are non-cumulative (if miss a coupon payment because of financial distress the coupon is never paid).\n",
    "\n",
    "Tier 2 CoCo bonds:\n",
    "- Minimum of 5 years to maturity or first call period\n",
    "- Senior to Tier 1 CoCo bonds, but junior to everything else\n",
    "- Coupon payment cannot be deferred or canceled \n"
   ]
  },
  {
   "cell_type": "markdown",
   "metadata": {},
   "source": [
    "## Practice Problem"
   ]
  },
  {
   "cell_type": "markdown",
   "metadata": {},
   "source": [
    "### Q1 Convertible Bond Ratios\n",
    "It is May 2014.  XXX Energy Co. issued a convertible bond with the following characteristics.  The bond pays a coupon rate of 2.5% (paid semi-annually), matures in May 2037, has a par value of USD 1,000, and can be converted into 20 shares of XXX Energy Co. Shares of XXX Energy Co. are currently trading at a price of USD 25.91, and the company pays a dividend of USD 0.35 per year.  The convertible bond currently has a YTM of 2.38％.  Similar non-convertible bonds issued by XXX have a YTM of 4.7％. \n",
    "\n",
    "1. What is the conversion price for this bond?\n",
    "2. What is the conversion value of this bond?\n",
    "3. What is the implied straight value of this bond?  Ignore partial periods and treat the bond as though it has exactly 23 years until maturity.\n",
    "4. If the market price of this bond is USD 845.50, what is the market conversion price?\n",
    "5. What is the market conversion premium per share?\n",
    "6. What is the favorable income differential per share?\n",
    "7. What is the premium over straight value?\n"
   ]
  }
 ],
 "metadata": {
  "kernelspec": {
   "display_name": "Python 3",
   "language": "python",
   "name": "python3"
  },
  "language_info": {
   "codemirror_mode": {
    "name": "ipython",
    "version": 3
   },
   "file_extension": ".py",
   "mimetype": "text/x-python",
   "name": "python",
   "nbconvert_exporter": "python",
   "pygments_lexer": "ipython3",
   "version": "3.7.6"
  },
  "latex_envs": {
   "LaTeX_envs_menu_present": true,
   "autoclose": false,
   "autocomplete": true,
   "bibliofile": "biblio.bib",
   "cite_by": "apalike",
   "current_citInitial": 1,
   "eqLabelWithNumbers": true,
   "eqNumInitial": 1,
   "hotkeys": {
    "equation": "Ctrl-E",
    "itemize": "Ctrl-I"
   },
   "labels_anchors": false,
   "latex_user_defs": false,
   "report_style_numbering": false,
   "user_envs_cfg": false
  },
  "toc": {
   "base_numbering": 1,
   "nav_menu": {},
   "number_sections": true,
   "sideBar": true,
   "skip_h1_title": false,
   "title_cell": "Table of Contents",
   "title_sidebar": "Contents",
   "toc_cell": false,
   "toc_position": {
    "height": "calc(100% - 180px)",
    "left": "10px",
    "top": "150px",
    "width": "756.333px"
   },
   "toc_section_display": true,
   "toc_window_display": false
  }
 },
 "nbformat": 4,
 "nbformat_minor": 2
}
