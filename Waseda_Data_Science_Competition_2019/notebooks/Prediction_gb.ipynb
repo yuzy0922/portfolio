{
 "cells": [
  {
   "cell_type": "code",
   "execution_count": null,
   "metadata": {},
   "outputs": [],
   "source": [
    "# ライブラリのインポート\n",
    "import numpy as np\n",
    "import pandas as pd\n",
    "import matplotlib.pyplot as plt\n",
    "import seaborn as sns\n",
    "import pickle\n",
    "%matplotlib inline\n",
    "\n",
    "from sklearn.model_selection import train_test_split\n",
    "from sklearn.metrics import accuracy_score, f1_score\n",
    "from sklearn.metrics import mean_squared_error, mean_absolute_error\n",
    "\n",
    "from sklearn.tree import DecisionTreeClassifier, DecisionTreeRegressor\n",
    "from sklearn.ensemble import RandomForestClassifier, RandomForestRegressor\n",
    "from sklearn.ensemble import AdaBoostClassifier, AdaBoostRegressor\n",
    "from sklearn.ensemble import GradientBoostingClassifier, GradientBoostingRegressor\n",
    "\n",
    "\n",
    "# 警告文を非表示に\n",
    "import warnings\n",
    "warnings.filterwarnings('ignore')\n",
    "#カラム内の文字数。デフォルトは50だった\n",
    "pd.set_option(\"display.max_colwidth\", 100)\n",
    "#行数\n",
    "pd.set_option(\"display.max_rows\", 500)\n",
    "#列数\n",
    "pd.set_option(\"display.max_columns\", 500)"
   ]
  },
  {
   "cell_type": "code",
   "execution_count": null,
   "metadata": {},
   "outputs": [],
   "source": [
    "# データのインポート\n",
    "Data2013 = pd.read_excel(\"Data2013.xlsx\")\n",
    "Data2016 = pd.read_excel(\"Data2016.xlsx\")\n",
    "Data2019 = pd.read_excel(\"Data2019.xlsx\")"
   ]
  },
  {
   "cell_type": "markdown",
   "metadata": {},
   "source": [
    "# 2013年　前処理"
   ]
  },
  {
   "cell_type": "markdown",
   "metadata": {},
   "source": [
    "## 新たな変数を追加する"
   ]
  },
  {
   "cell_type": "markdown",
   "metadata": {},
   "source": [
    "### 情勢報道（朝日・読売・日経）"
   ]
  },
  {
   "cell_type": "code",
   "execution_count": null,
   "metadata": {},
   "outputs": [],
   "source": [
    "news2013 = pd.read_excel(\"news2013.xlsx\")\n",
    "news2013 = news2013[[\"candidate_J\", \"3news_avg\", \"asahi\", \"nikkei\", \"yomiuri\"]]\n",
    "Data2013 = pd.merge(Data2013, news2013, on='candidate_J', how='left')"
   ]
  },
  {
   "cell_type": "markdown",
   "metadata": {},
   "source": [
    "### scandal ダミー"
   ]
  },
  {
   "cell_type": "code",
   "execution_count": null,
   "metadata": {},
   "outputs": [],
   "source": [
    "# 現職候補者に関しては、任期中に不祥事を起こしたら1、起こしてなかったら0を入れる\n",
    "# wikipediaで確認する\n",
    "\n",
    "scandal2013 = pd.read_excel(\"scandal2013.xlsx\")\n",
    "scandal2013.columns\n",
    "\n",
    "Data2013 = pd.merge(Data2013, scandal2013, on='candidate_J', how='left')\n",
    "Data2013 = Data2013.drop([\"district_y\", \"incumbent_y\"], axis=1)\n",
    "Data2013 = Data2013.rename(columns={\"district_x\": \"district\", \"incumbent_x\": \"incumbent\"})"
   ]
  },
  {
   "cell_type": "markdown",
   "metadata": {},
   "source": [
    "### 所属政党＊地方議会所属政党ダミー"
   ]
  },
  {
   "cell_type": "code",
   "execution_count": null,
   "metadata": {},
   "outputs": [],
   "source": [
    "# 地方議会の政党議席率を選挙区ごとに整理したデータセットを用意する\n",
    "# http://www.soumu.go.jp/senkyo/senkyo_s/data/syozoku/ichiran.html\n",
    "local2013 = pd.read_excel(\"local2013.xlsx\")\n",
    "local2013.columns\n",
    "\n",
    "# カラム名を変える\n",
    "local2013 = local2013.rename(columns={\"district_code\": \"district_code\", \"district\": \"district\", \n",
    "                             \"ldp\": \"local_ldp\", \"ldp_rate\": \"local_ldp_rate\", \n",
    "                             \"dpj\": \"local_dpj\", \"dpj_rate\": \"local_dpj_rate\",\n",
    "                             \"kyosan\": \"local_jcp\", \"kyosan_rate\": \"local_jcp_rate\",\n",
    "                             \"komei\": \"local_kom\", \"komei_rate\": \"local_kom_rate\",\n",
    "                             \"shamin\": \"local_syamin\", \"shamin_rate\": \"local_syamin_rate\",\n",
    "                             \"ishin\": \"local_ishin\", \"ishin_rate\": \"local_ishin_rate\"        })\n",
    "\n",
    "# 使うカラムを選ぶ\n",
    "local2013 = local2013[[\"district\", \"local_ldp_rate\", \"local_dpj_rate\", \"local_jcp_rate\", \"local_kom_rate\",\n",
    "                       \"local_syamin_rate\", \"local_ishin_rate\"]]\n",
    "\n",
    "# データセットをmergeする\n",
    "Data2013 = pd.merge(Data2013, local2013, on='district', how='left')\n",
    "\n",
    "# 選挙区の政党議席率と候補者の所属政党を掛け合わせる\n",
    "# イメージとしては、選挙区で優勢な政党であるほどこのカラムの値は大きくなる\n",
    "# 例：候補者の所属政党が自民党の場合、当選に有利なはずだが選挙区で自民党が優勢かどうかでその有利さは変わるはず\n",
    "Data2013[\"ldp_local_rate\"] = Data2013[\"ldp\"]*Data2013[\"local_ldp_rate\"]\n",
    "Data2013[\"dpj_local_rate\"] = Data2013[\"dpj\"]*Data2013[\"local_dpj_rate\"]\n",
    "Data2013[\"jcp_local_rate\"] = Data2013[\"jcp\"]*Data2013[\"local_jcp_rate\"]\n",
    "Data2013[\"kom_local_rate\"] = Data2013[\"kom\"]*Data2013[\"local_kom_rate\"]\n",
    "Data2013[\"syamin_local_rate\"] = Data2013[\"syamin\"]*Data2013[\"local_syamin_rate\"]\n",
    "Data2013[\"ishin_local_rate\"] = Data2013[\"ishin\"]*Data2013[\"local_ishin_rate\"]\n",
    "Data2013[\"party_local_advantage\"] = Data2013[\"ldp_local_rate\"]+Data2013[\"dpj_local_rate\"]+Data2013[\"jcp_local_rate\"]+Data2013[\"kom_local_rate\"]+Data2013[\"syamin_local_rate\"]+Data2013[\"ishin_local_rate\"] "
   ]
  },
  {
   "cell_type": "markdown",
   "metadata": {},
   "source": [
    "### 所属政党＊衆院選所属政党ダミー"
   ]
  },
  {
   "cell_type": "code",
   "execution_count": null,
   "metadata": {},
   "outputs": [],
   "source": [
    "HR2013 = pd.read_excel(\"HR_12_VS.xlsx\", index=False)\n",
    "HR2013.columns\n",
    "\n",
    "# カラム名を変える\n",
    "HR2013 = HR2013.rename(columns={ \n",
    "                             \"ldp_vs\": \"HR_ldp_rate\", \"dpj_vs\": \"HR_dpj_rate\", \n",
    "                             \"komei_vs\": \"HR_kom_rate\", \"jcp_vs\": \"HR_jcp_rate\",\n",
    "                             \"sdp_vs\": \"HR_syamin_rate\", \"ishin_vs\": \"HR_ishin_rate\"})\n",
    "\n",
    "# 使うカラムを選ぶ\n",
    "HR2013 = HR2013[[\"district\", \"HR_ldp_rate\", \"HR_dpj_rate\", \"HR_kom_rate\", \n",
    "                 \"HR_jcp_rate\", \"HR_syamin_rate\", \"HR_ishin_rate\"]]\n",
    "\n",
    "# データセットをmergeする\n",
    "Data2013 = pd.merge(Data2013, HR2013, on='district', how='left')\n",
    "\n",
    "# 選挙区の政党議席率と候補者の所属政党を掛け合わせる\n",
    "# イメージとしては、選挙区で優勢な政党であるほどこのカラムの値は大きくなる\n",
    "# 例：候補者の所属政党が自民党の場合、当選に有利なはずだが選挙区で自民党が優勢かどうかでその有利さは変わるはず\n",
    "Data2013[\"ldp_HR_rate\"] = Data2013[\"ldp\"]*Data2013[\"HR_ldp_rate\"]\n",
    "Data2013[\"dpj_HR_rate\"] = Data2013[\"dpj\"]*Data2013[\"HR_dpj_rate\"]\n",
    "Data2013[\"jcp_HR_rate\"] = Data2013[\"jcp\"]*Data2013[\"HR_jcp_rate\"]\n",
    "Data2013[\"kom_HR_rate\"] = Data2013[\"kom\"]*Data2013[\"HR_kom_rate\"]\n",
    "Data2013[\"syamin_HR_rate\"] = Data2013[\"syamin\"]*Data2013[\"HR_syamin_rate\"]\n",
    "Data2013[\"ishin_HR_rate\"] = Data2013[\"ishin\"]*Data2013[\"HR_ishin_rate\"]\n",
    "Data2013[\"party_HR_advantage\"] = Data2013[\"ldp_HR_rate\"]+Data2013[\"dpj_HR_rate\"]+Data2013[\"jcp_HR_rate\"]+Data2013[\"kom_HR_rate\"]+Data2013[\"syamin_HR_rate\"]+Data2013[\"ishin_HR_rate\"] \n"
   ]
  },
  {
   "cell_type": "markdown",
   "metadata": {},
   "source": [
    "### 所属政党＊世論調査所属政党ダミー"
   ]
  },
  {
   "cell_type": "code",
   "execution_count": null,
   "metadata": {},
   "outputs": [],
   "source": []
  },
  {
   "cell_type": "code",
   "execution_count": null,
   "metadata": {},
   "outputs": [],
   "source": []
  },
  {
   "cell_type": "markdown",
   "metadata": {},
   "source": [
    "### 与党ダミー"
   ]
  },
  {
   "cell_type": "code",
   "execution_count": null,
   "metadata": {},
   "outputs": [],
   "source": [
    "Data2013[\"ruling\"] = 1\n",
    "Data2013[\"ruling\"] = Data2013[\"ruling\"].where((Data2013[\"ldp\"] ==1)|(Data2013[\"kom\"]==1), 0)"
   ]
  },
  {
   "cell_type": "markdown",
   "metadata": {},
   "source": [
    "### 与党＊地方議会与党比率ダミー"
   ]
  },
  {
   "cell_type": "code",
   "execution_count": null,
   "metadata": {},
   "outputs": [],
   "source": [
    "Data2013[\"local_ruling_rate\"] = Data2013[\"local_ldp_rate\"] + Data2013[\"local_kom_rate\"]\n",
    "Data2013[\"ruling_local_rate\"] = Data2013[\"ruling\"]*Data2013[\"local_ruling_rate\"]*0.01"
   ]
  },
  {
   "cell_type": "markdown",
   "metadata": {},
   "source": [
    "### 与党＊沖縄ダミー"
   ]
  },
  {
   "cell_type": "code",
   "execution_count": null,
   "metadata": {},
   "outputs": [],
   "source": [
    "Data2013[\"okinawa\"] = 1\n",
    "Data2013[\"okinawa\"] = Data2013[\"okinawa\"].where((Data2013[\"district\"] ==\"沖縄\"), 0)\n",
    "Data2013[\"ruling_okinawa\"] = Data2013[\"ruling\"]*Data2013[\"okinawa\"]"
   ]
  },
  {
   "cell_type": "markdown",
   "metadata": {},
   "source": [
    "### 与党＊天気ダミー"
   ]
  },
  {
   "cell_type": "code",
   "execution_count": null,
   "metadata": {},
   "outputs": [],
   "source": [
    "weather = pd.read_excel(\"weather.xlsx\")\n",
    "weather =pd.DataFrame(weather)\n",
    "weather2013 = weather.T[[\"district\", 2013]]\n",
    "weather2013 = weather2013.rename(columns={2013: \"weather\"})\n",
    "\n",
    "# データセットをmergeする\n",
    "Data2013 = pd.merge(Data2013, weather2013, on='district', how='left')\n",
    "\n",
    "Data2013[\"ruling_weather\"] = Data2013[\"ruling\"]*Data2013[\"weather\"]"
   ]
  },
  {
   "cell_type": "markdown",
   "metadata": {},
   "source": [
    "### 世襲ダミー"
   ]
  },
  {
   "cell_type": "code",
   "execution_count": null,
   "metadata": {},
   "outputs": [],
   "source": [
    "hereditary2013 = pd.read_excel(\"hereditary2013.xlsx\")\n",
    "hereditary2013 = hereditary2013.fillna(0)\n",
    "hereditary2013 = hereditary2013[[\"candidate_J\", \"hereditary\"]]\n",
    "Data2013 = pd.merge(Data2013, hereditary2013, on='candidate_J', how='left')"
   ]
  },
  {
   "cell_type": "code",
   "execution_count": null,
   "metadata": {},
   "outputs": [],
   "source": [
    "Data2013.to_pickle(\"Data2013.pickle\")"
   ]
  },
  {
   "cell_type": "markdown",
   "metadata": {},
   "source": [
    "# 2016年　前処理"
   ]
  },
  {
   "cell_type": "markdown",
   "metadata": {},
   "source": [
    "## 新たな変数を追加する"
   ]
  },
  {
   "cell_type": "markdown",
   "metadata": {},
   "source": [
    "### 情勢報道（朝日・読売・日経）"
   ]
  },
  {
   "cell_type": "code",
   "execution_count": null,
   "metadata": {},
   "outputs": [],
   "source": [
    "news2016 = pd.read_excel(\"news2016.xlsx\")\n",
    "news2016 = news2016[[\"candidate_J\", \"3news_avg\", \"asahi\", \"nikkei\", \"yomiuri\"]]\n",
    "Data2016 = pd.merge(Data2016, news2016, on='candidate_J', how='left')"
   ]
  },
  {
   "cell_type": "markdown",
   "metadata": {},
   "source": [
    "### scandal ダミー"
   ]
  },
  {
   "cell_type": "code",
   "execution_count": null,
   "metadata": {},
   "outputs": [],
   "source": [
    "# 現職候補者に関しては、任期中に不祥事を起こしたら1、起こしてなかったら0を入れる\n",
    "# wikipediaで確認する\n",
    "\n",
    "scandal2016 = pd.read_excel(\"scandal2016.xlsx\")\n",
    "scandal2016.columns\n",
    "\n",
    "Data2016 = pd.merge(Data2016, scandal2016, on='candidate_J', how='left')\n",
    "Data2016 = Data2016.drop([\"district_y\", \"incumbent_y\"], axis=1)\n",
    "Data2016 = Data2016.rename(columns={\"district_x\": \"district\", \"incumbent_x\": \"incumbent\"})"
   ]
  },
  {
   "cell_type": "markdown",
   "metadata": {},
   "source": [
    "### 所属政党＊地方議会所属政党ダミー"
   ]
  },
  {
   "cell_type": "code",
   "execution_count": null,
   "metadata": {},
   "outputs": [],
   "source": [
    "# 地方議会の政党議席率を選挙区ごとに整理したデータセットを用意する\n",
    "# http://www.soumu.go.jp/senkyo/senkyo_s/data/syozoku/ichiran.html\n",
    "local2016 = pd.read_excel(\"local2016.xlsx\")\n",
    "local2016.columns\n",
    "\n",
    "# カラム名を変える\n",
    "local2016 = local2016.rename(columns={\"district_code\": \"district_code\", \"district\": \"district\", \n",
    "                             \"ldp\": \"local_ldp\", \"ldp_rate\": \"local_ldp_rate\", \n",
    "                             \"dpj\": \"local_dpj\", \"dpj_rate\": \"local_dpj_rate\",\n",
    "                             \"kyosan\": \"local_jcp\", \"kyosan_rate\": \"local_jcp_rate\",\n",
    "                             \"komei\": \"local_kom\", \"komei_rate\": \"local_kom_rate\",\n",
    "                             \"shamin\": \"local_syamin\", \"shamin_rate\": \"local_syamin_rate\",\n",
    "                             \"ishin\": \"local_ishin\", \"ishin_rate\": \"local_ishin_rate\"        })\n",
    "\n",
    "# 使うカラムを選ぶ\n",
    "local2016 = local2016[[\"district\", \"local_ldp_rate\", \"local_dpj_rate\", \"local_jcp_rate\", \"local_kom_rate\",\n",
    "                       \"local_syamin_rate\", \"local_ishin_rate\"]]\n",
    "\n",
    "# データセットをmergeする\n",
    "Data2016 = pd.merge(Data2016, local2016, on='district', how='left')\n",
    "\n",
    "# 選挙区の政党議席率と候補者の所属政党を掛け合わせる\n",
    "# イメージとしては、選挙区で優勢な政党であるほどこのカラムの値は大きくなる\n",
    "# 例：候補者の所属政党が自民党の場合、当選に有利なはずだが選挙区で自民党が優勢かどうかでその有利さは変わるはず\n",
    "Data2016[\"ldp_local_rate\"] = Data2016[\"ldp\"]*Data2016[\"local_ldp_rate\"]\n",
    "Data2016[\"dpj_local_rate\"] = Data2016[\"dpj\"]*Data2016[\"local_dpj_rate\"]\n",
    "Data2016[\"jcp_local_rate\"] = Data2016[\"jcp\"]*Data2016[\"local_jcp_rate\"]\n",
    "Data2016[\"kom_local_rate\"] = Data2016[\"kom\"]*Data2016[\"local_kom_rate\"]\n",
    "Data2016[\"syamin_local_rate\"] = Data2016[\"syamin\"]*Data2016[\"local_syamin_rate\"]\n",
    "Data2016[\"ishin_local_rate\"] = Data2016[\"ishin\"]*Data2016[\"local_ishin_rate\"]\n",
    "Data2016[\"party_local_advantage\"] = Data2016[\"ldp_local_rate\"]+Data2016[\"dpj_local_rate\"]+Data2016[\"jcp_local_rate\"]+Data2016[\"kom_local_rate\"]+Data2016[\"syamin_local_rate\"]+Data2016[\"ishin_local_rate\"] "
   ]
  },
  {
   "cell_type": "markdown",
   "metadata": {},
   "source": [
    "### 所属政党＊衆院選所属政党ダミー"
   ]
  },
  {
   "cell_type": "code",
   "execution_count": null,
   "metadata": {},
   "outputs": [],
   "source": [
    "HR2016 = pd.read_excel(\"HR_14_VS.xlsx\", index=False)\n",
    "HR2016.columns\n",
    "\n",
    "# カラム名を変える\n",
    "HR2016 = HR2016.rename(columns={ \n",
    "                             \"ldp_vs\": \"HR_ldp_rate\", \"dpj_vs\": \"HR_dpj_rate\", \n",
    "                             \"komei_vs\": \"HR_kom_rate\", \"jcp_vs\": \"HR_jcp_rate\",\n",
    "                             \"sdp_vs\": \"HR_syamin_rate\", \"ishin_vs\": \"HR_ishin_rate\"})\n",
    "\n",
    "# 使うカラムを選ぶ\n",
    "HR2016 = HR2016[[\"district\", \"HR_ldp_rate\", \"HR_dpj_rate\", \"HR_kom_rate\", \n",
    "                 \"HR_jcp_rate\", \"HR_syamin_rate\", \"HR_ishin_rate\"]]\n",
    "\n",
    "# データセットをmergeする\n",
    "Data2016 = pd.merge(Data2016, HR2016, on='district', how='left')\n",
    "\n",
    "# 選挙区の政党議席率と候補者の所属政党を掛け合わせる\n",
    "# イメージとしては、選挙区で優勢な政党であるほどこのカラムの値は大きくなる\n",
    "# 例：候補者の所属政党が自民党の場合、当選に有利なはずだが選挙区で自民党が優勢かどうかでその有利さは変わるはず\n",
    "Data2016[\"ldp_HR_rate\"] = Data2016[\"ldp\"]*Data2016[\"HR_ldp_rate\"]\n",
    "Data2016[\"dpj_HR_rate\"] = Data2016[\"dpj\"]*Data2016[\"HR_dpj_rate\"]\n",
    "Data2016[\"jcp_HR_rate\"] = Data2016[\"jcp\"]*Data2016[\"HR_jcp_rate\"]\n",
    "Data2016[\"kom_HR_rate\"] = Data2016[\"kom\"]*Data2016[\"HR_kom_rate\"]\n",
    "Data2016[\"syamin_HR_rate\"] = Data2016[\"syamin\"]*Data2016[\"HR_syamin_rate\"]\n",
    "Data2016[\"ishin_HR_rate\"] = Data2016[\"ishin\"]*Data2016[\"HR_ishin_rate\"]\n",
    "Data2016[\"party_HR_advantage\"] = Data2016[\"ldp_HR_rate\"]+Data2016[\"dpj_HR_rate\"]+Data2016[\"jcp_HR_rate\"]+Data2016[\"kom_HR_rate\"]+Data2016[\"syamin_HR_rate\"]+Data2016[\"ishin_HR_rate\"] \n"
   ]
  },
  {
   "cell_type": "markdown",
   "metadata": {},
   "source": [
    "### 所属政党＊世論調査所属政党ダミー"
   ]
  },
  {
   "cell_type": "code",
   "execution_count": null,
   "metadata": {},
   "outputs": [],
   "source": []
  },
  {
   "cell_type": "markdown",
   "metadata": {},
   "source": [
    "### 与党ダミー"
   ]
  },
  {
   "cell_type": "code",
   "execution_count": null,
   "metadata": {},
   "outputs": [],
   "source": [
    "Data2016[\"ruling\"] = 1\n",
    "Data2016[\"ruling\"] = Data2016[\"ruling\"].where((Data2016[\"ldp\"] ==1)|(Data2016[\"kom\"]==1), 0)"
   ]
  },
  {
   "cell_type": "markdown",
   "metadata": {},
   "source": [
    "### 与党＊地方議会与党比率ダミー"
   ]
  },
  {
   "cell_type": "code",
   "execution_count": null,
   "metadata": {},
   "outputs": [],
   "source": [
    "Data2016[\"local_ruling_rate\"] = Data2016[\"local_ldp_rate\"] + Data2016[\"local_kom_rate\"]\n",
    "Data2016[\"ruling_local_rate\"] = Data2016[\"ruling\"]*Data2016[\"local_ruling_rate\"]*0.01"
   ]
  },
  {
   "cell_type": "markdown",
   "metadata": {},
   "source": [
    "### 与党＊衆議院与党比率ダミー"
   ]
  },
  {
   "cell_type": "code",
   "execution_count": null,
   "metadata": {},
   "outputs": [],
   "source": [
    "HR2016 = pd.read_excel(\"HR_14_VS.xlsx\", index=False)\n",
    "HR2016 = HR2016.rename({\"komei_vs\": \"kom_vs\"}, axis=1)\n",
    "HR2016[\"ruling_vs\"] = HR2016[\"ldp_vs\"] + HR2016[\"kom_vs\"]\n",
    "HR2016 = HR2016[[\"district\", \"ruling_vs\"]]\n",
    "\n",
    "# データセットをmergeする\n",
    "Data2016 = pd.merge(Data2016, HR2016, on='district', how='left')\n",
    "\n",
    "Data2016[\"ruling_HR_vs\"] = Data2016[\"ruling\"]*Data2016[\"ruling_vs\"]*0.01"
   ]
  },
  {
   "cell_type": "markdown",
   "metadata": {},
   "source": [
    "### 与党＊沖縄ダミー"
   ]
  },
  {
   "cell_type": "code",
   "execution_count": null,
   "metadata": {},
   "outputs": [],
   "source": [
    "Data2016[\"okinawa\"] = 1\n",
    "Data2016[\"okinawa\"] = Data2016[\"okinawa\"].where((Data2016[\"district\"] ==\"沖縄\"), 0)\n",
    "Data2016[\"ruling_okinawa\"] = Data2016[\"ruling\"]*Data2016[\"okinawa\"]"
   ]
  },
  {
   "cell_type": "markdown",
   "metadata": {},
   "source": [
    "### 世襲ダミー"
   ]
  },
  {
   "cell_type": "code",
   "execution_count": null,
   "metadata": {},
   "outputs": [],
   "source": [
    "hereditary2016 = pd.read_excel(\"hereditary2016.xlsx\")\n",
    "hereditary2016 = hereditary2016.fillna(0)\n",
    "hereditary2016 = hereditary2016[[\"candidate_J\", \"hereditary\"]]\n",
    "Data2016 = pd.merge(Data2016, hereditary2016, on='candidate_J', how='left')"
   ]
  },
  {
   "cell_type": "markdown",
   "metadata": {},
   "source": [
    "### 与党＊天気ダミー"
   ]
  },
  {
   "cell_type": "code",
   "execution_count": null,
   "metadata": {},
   "outputs": [],
   "source": [
    "weather = pd.read_excel(\"weather.xlsx\")\n",
    "weather =pd.DataFrame(weather)\n",
    "weather2016 = weather.T[[\"district\", 2016]]\n",
    "weather2016 = weather2016.rename(columns={2016: \"weather\"})\n",
    "\n",
    "# データセットをmergeする\n",
    "Data2016 = pd.merge(Data2016, weather2016, on='district', how='left')\n",
    "\n",
    "Data2016[\"ruling_weather\"] = Data2016[\"ruling\"]*Data2016[\"weather\"]"
   ]
  },
  {
   "cell_type": "code",
   "execution_count": null,
   "metadata": {},
   "outputs": [],
   "source": [
    "Data2016"
   ]
  },
  {
   "cell_type": "code",
   "execution_count": null,
   "metadata": {},
   "outputs": [],
   "source": [
    "Data2016.to_pickle(\"Data2016.pickle\")"
   ]
  },
  {
   "cell_type": "markdown",
   "metadata": {},
   "source": [
    "# 2019年　前処理"
   ]
  },
  {
   "cell_type": "markdown",
   "metadata": {},
   "source": [
    "## 新たな変数を追加する"
   ]
  },
  {
   "cell_type": "markdown",
   "metadata": {},
   "source": [
    "### 情勢報道（朝日・読売・日経）"
   ]
  },
  {
   "cell_type": "code",
   "execution_count": null,
   "metadata": {},
   "outputs": [],
   "source": [
    "news2019 = pd.read_excel(\"news2019.xlsx\")\n",
    "news2019 = news2019[[\"candidate_J\", \"3news_avg\", \"asahi\", \"nikkei\", \"yomiuri\"]]\n",
    "Data2019 = pd.merge(Data2019, news2019, on='candidate_J', how='left')"
   ]
  },
  {
   "cell_type": "markdown",
   "metadata": {},
   "source": [
    "### femaleダミー"
   ]
  },
  {
   "cell_type": "code",
   "execution_count": null,
   "metadata": {},
   "outputs": [],
   "source": [
    "female2019 = pd.read_excel(\"female2019.xlsx\")\n",
    "Data2019 = pd.merge(Data2019, female2019, on='candidate_J', how='left')"
   ]
  },
  {
   "cell_type": "code",
   "execution_count": null,
   "metadata": {},
   "outputs": [],
   "source": [
    "Data2019"
   ]
  },
  {
   "cell_type": "markdown",
   "metadata": {},
   "source": [
    "### スキャンダルダミー"
   ]
  },
  {
   "cell_type": "code",
   "execution_count": null,
   "metadata": {},
   "outputs": [],
   "source": [
    "# 現職候補者に関しては、任期中に不祥事を起こしたら1、起こしてなかったら0を入れる\n",
    "# wikipediaで確認する\n",
    "\n",
    "scandal2019 = pd.read_excel(\"scandal2019.xlsx\")\n",
    "scandal2019.columns\n",
    "\n",
    "Data2019 = pd.merge(Data2019, scandal2019, on='candidate_J', how='left')\n",
    "Data2019 = Data2019.drop([\"district_y\", \"incumbent_y\"], axis=1)\n",
    "Data2019 = Data2019.rename(columns={\"district_x\": \"district\", \"incumbent_x\": \"incumbent\"})"
   ]
  },
  {
   "cell_type": "markdown",
   "metadata": {},
   "source": [
    "### 所属政党＊地方議会所属政党ダミー"
   ]
  },
  {
   "cell_type": "code",
   "execution_count": null,
   "metadata": {},
   "outputs": [],
   "source": [
    "# 地方議会の政党議席率を選挙区ごとに整理したデータセットを用意する\n",
    "# http://www.soumu.go.jp/senkyo/senkyo_s/data/syozoku/ichiran.html\n",
    "local2019 = pd.read_excel(\"local2019.xlsx\")\n",
    "local2019.columns\n",
    "\n",
    "# カラム名を変える\n",
    "local2019 = local2019.rename(columns={\"district_code\": \"district_code\", \"district\": \"district\", \n",
    "                             \"ldp\": \"local_ldp\", \"ldp_rate\": \"local_ldp_rate\", \n",
    "                             \"rikken\": \"local_dpj\", \"rikken_rate\": \"local_dpj_rate\",\n",
    "                             \"kyosan\": \"local_jcp\", \"kyosan_rate\": \"local_jcp_rate\",\n",
    "                             \"komei\": \"local_kom\", \"komei_rate\": \"local_kom_rate\",\n",
    "                             \"shamin\": \"local_syamin\", \"shamin_rate\": \"local_syamin_rate\",\n",
    "                             \"nihon_ishin\": \"local_ishin\", \"nihon_ishin_rate\": \"local_ishin_rate\"        })\n",
    "\n",
    "# 使うカラムを選ぶ\n",
    "local2019 = local2019[[\"district\", \"local_ldp_rate\", \"local_dpj_rate\", \"local_jcp_rate\", \"local_kom_rate\",\n",
    "                       \"local_syamin_rate\", \"local_ishin_rate\"]]\n",
    "\n",
    "# データセットをmergeする\n",
    "Data2019 = pd.merge(Data2019, local2019, on='district', how='left')\n",
    "\n",
    "# 選挙区の政党議席率と候補者の所属政党を掛け合わせる\n",
    "# イメージとしては、選挙区で優勢な政党であるほどこのカラムの値は大きくなる\n",
    "# 例：候補者の所属政党が自民党の場合、当選に有利なはずだが選挙区で自民党が優勢かどうかでその有利さは変わるはず\n",
    "Data2019[\"ldp_local_rate\"] = Data2019[\"ldp\"]*Data2019[\"local_ldp_rate\"]\n",
    "Data2019[\"dpj_local_rate\"] = Data2019[\"dpj\"]*Data2019[\"local_dpj_rate\"]\n",
    "Data2019[\"jcp_local_rate\"] = Data2019[\"jcp\"]*Data2019[\"local_jcp_rate\"]\n",
    "Data2019[\"kom_local_rate\"] = Data2019[\"kom\"]*Data2019[\"local_kom_rate\"]\n",
    "Data2019[\"syamin_local_rate\"] = Data2019[\"syamin\"]*Data2019[\"local_syamin_rate\"]\n",
    "Data2019[\"ishin_local_rate\"] = Data2019[\"ishin\"]*Data2019[\"local_ishin_rate\"]\n",
    "Data2019[\"party_local_advantage\"] = Data2019[\"ldp_local_rate\"]+Data2019[\"dpj_local_rate\"]+Data2019[\"jcp_local_rate\"]+Data2019[\"kom_local_rate\"]+Data2019[\"syamin_local_rate\"]+Data2019[\"ishin_local_rate\"] "
   ]
  },
  {
   "cell_type": "markdown",
   "metadata": {},
   "source": [
    "### 所属政党＊衆院選所属政党ダミー"
   ]
  },
  {
   "cell_type": "code",
   "execution_count": null,
   "metadata": {},
   "outputs": [],
   "source": [
    "HR2019 = pd.read_excel(\"HR_17_VS.xlsx\", index=False)\n",
    "HR2019.columns\n",
    "\n",
    "# カラム名を変える\n",
    "HR2019 = HR2019.rename(columns={ \n",
    "                             \"ldp_vs\": \"HR_ldp_rate\", \"cdp_vs\": \"HR_dpj_rate\", \n",
    "                             \"komei_vs\": \"HR_kom_rate\", \"jcp_vs\": \"HR_jcp_rate\",\n",
    "                             \"sdp_vs\": \"HR_syamin_rate\", \"ishin_vs\": \"HR_ishin_rate\"})\n",
    "\n",
    "# 使うカラムを選ぶ\n",
    "HR2019 = HR2019[[\"district\", \"HR_ldp_rate\", \"HR_dpj_rate\", \"HR_kom_rate\", \n",
    "                 \"HR_jcp_rate\", \"HR_syamin_rate\", \"HR_ishin_rate\"]]\n",
    "\n",
    "# データセットをmergeする\n",
    "Data2019 = pd.merge(Data2019, HR2019, on='district', how='left')\n",
    "\n",
    "# 選挙区の政党議席率と候補者の所属政党を掛け合わせる\n",
    "# イメージとしては、選挙区で優勢な政党であるほどこのカラムの値は大きくなる\n",
    "# 例：候補者の所属政党が自民党の場合、当選に有利なはずだが選挙区で自民党が優勢かどうかでその有利さは変わるはず\n",
    "Data2019[\"ldp_HR_rate\"] = Data2019[\"ldp\"]*Data2019[\"HR_ldp_rate\"]\n",
    "Data2019[\"dpj_HR_rate\"] = Data2019[\"dpj\"]*Data2019[\"HR_dpj_rate\"]\n",
    "Data2019[\"jcp_HR_rate\"] = Data2019[\"jcp\"]*Data2019[\"HR_jcp_rate\"]\n",
    "Data2019[\"kom_HR_rate\"] = Data2019[\"kom\"]*Data2019[\"HR_kom_rate\"]\n",
    "Data2019[\"syamin_HR_rate\"] = Data2019[\"syamin\"]*Data2019[\"HR_syamin_rate\"]\n",
    "Data2019[\"ishin_HR_rate\"] = Data2019[\"ishin\"]*Data2019[\"HR_ishin_rate\"]\n",
    "Data2019[\"party_HR_advantage\"] = Data2019[\"ldp_HR_rate\"]+Data2019[\"dpj_HR_rate\"]+Data2019[\"jcp_HR_rate\"]+Data2019[\"kom_HR_rate\"]+Data2019[\"syamin_HR_rate\"]+Data2019[\"ishin_HR_rate\"] \n"
   ]
  },
  {
   "cell_type": "markdown",
   "metadata": {},
   "source": [
    "### 所属政党＊世論調査所属政党ダミー"
   ]
  },
  {
   "cell_type": "code",
   "execution_count": null,
   "metadata": {},
   "outputs": [],
   "source": []
  },
  {
   "cell_type": "code",
   "execution_count": null,
   "metadata": {},
   "outputs": [],
   "source": []
  },
  {
   "cell_type": "markdown",
   "metadata": {},
   "source": [
    "### 与党ダミー"
   ]
  },
  {
   "cell_type": "code",
   "execution_count": null,
   "metadata": {},
   "outputs": [],
   "source": [
    "Data2019[\"ruling\"] = 1\n",
    "Data2019[\"ruling\"] = Data2019[\"ruling\"].where((Data2019[\"ldp\"] ==1)|(Data2019[\"kom\"]==1), 0)"
   ]
  },
  {
   "cell_type": "markdown",
   "metadata": {},
   "source": [
    "### 与党＊地方議会与党比率ダミー"
   ]
  },
  {
   "cell_type": "code",
   "execution_count": null,
   "metadata": {},
   "outputs": [],
   "source": [
    "Data2019[\"local_ruling_rate\"] = Data2019[\"local_ldp_rate\"] + Data2019[\"local_kom_rate\"]\n",
    "Data2019[\"ruling_local_rate\"] = Data2019[\"ruling\"]*Data2019[\"local_ruling_rate\"]*0.01"
   ]
  },
  {
   "cell_type": "markdown",
   "metadata": {},
   "source": [
    "### 与党＊衆議院与党比率ダミー"
   ]
  },
  {
   "cell_type": "code",
   "execution_count": null,
   "metadata": {},
   "outputs": [],
   "source": [
    "HR2019 = pd.read_excel(\"HR_17_VS.xlsx\", index=False)\n",
    "HR2019 = HR2019.rename({\"komei_vs\": \"kom_vs\"}, axis=1)\n",
    "HR2019[\"ruling_vs\"] = HR2019[\"ldp_vs\"] + HR2019[\"kom_vs\"]\n",
    "HR2019 = HR2019[[\"district\", \"ruling_vs\"]]\n",
    "\n",
    "# データセットをmergeする\n",
    "Data2019 = pd.merge(Data2019, HR2019, on='district', how='left')\n",
    "\n",
    "Data2019[\"ruling_HR_vs\"] = Data2019[\"ruling\"]*Data2019[\"ruling_vs\"]*0.01"
   ]
  },
  {
   "cell_type": "markdown",
   "metadata": {},
   "source": [
    "### 与党＊沖縄ダミー"
   ]
  },
  {
   "cell_type": "code",
   "execution_count": null,
   "metadata": {},
   "outputs": [],
   "source": [
    "Data2019[\"okinawa\"] = 1\n",
    "Data2019[\"okinawa\"] = Data2019[\"okinawa\"].where((Data2019[\"district\"] ==\"沖縄\"), 0)\n",
    "Data2019[\"ruling_okinawa\"] = Data2019[\"ruling\"]*Data2019[\"okinawa\"]"
   ]
  },
  {
   "cell_type": "markdown",
   "metadata": {},
   "source": [
    "### 世襲ダミー"
   ]
  },
  {
   "cell_type": "code",
   "execution_count": null,
   "metadata": {},
   "outputs": [],
   "source": [
    "hereditary2019 = pd.read_excel(\"hereditary2019.xlsx\")\n",
    "hereditary2019 = hereditary2019.fillna(0)\n",
    "hereditary2019 = hereditary2019[[\"candidate_J\", \"hereditary\"]]\n",
    "Data2019 = pd.merge(Data2019, hereditary2019, on='candidate_J', how='left')"
   ]
  },
  {
   "cell_type": "markdown",
   "metadata": {},
   "source": [
    "### 天気ダミー"
   ]
  },
  {
   "cell_type": "code",
   "execution_count": null,
   "metadata": {},
   "outputs": [],
   "source": []
  },
  {
   "cell_type": "code",
   "execution_count": null,
   "metadata": {},
   "outputs": [],
   "source": [
    "Data2019.to_pickle(\"Data2019.pickle\")"
   ]
  },
  {
   "cell_type": "markdown",
   "metadata": {},
   "source": [
    "# 2013・2016年　モデル生成"
   ]
  },
  {
   "cell_type": "code",
   "execution_count": null,
   "metadata": {},
   "outputs": [],
   "source": [
    "# ライブラリのインポート\n",
    "import numpy as np\n",
    "import pandas as pd\n",
    "import matplotlib.pyplot as plt\n",
    "import seaborn as sns\n",
    "import pickle\n",
    "%matplotlib inline\n",
    "\n",
    "from sklearn.model_selection import train_test_split\n",
    "from sklearn.metrics import accuracy_score, f1_score\n",
    "from sklearn.metrics import mean_squared_error, mean_absolute_error\n",
    "\n",
    "from sklearn.tree import DecisionTreeClassifier, DecisionTreeRegressor\n",
    "from sklearn.ensemble import RandomForestClassifier, RandomForestRegressor\n",
    "from sklearn.ensemble import AdaBoostClassifier, AdaBoostRegressor\n",
    "from sklearn.ensemble import GradientBoostingClassifier, GradientBoostingRegressor\n",
    "\n",
    "\n",
    "# 警告文を非表示に\n",
    "import warnings\n",
    "warnings.filterwarnings('ignore')\n",
    "#カラム内の文字数。デフォルトは50だった\n",
    "pd.set_option(\"display.max_colwidth\", 100)\n",
    "#行数\n",
    "pd.set_option(\"display.max_rows\", 500)\n",
    "#列数\n",
    "pd.set_option(\"display.max_columns\", 500)"
   ]
  },
  {
   "cell_type": "code",
   "execution_count": null,
   "metadata": {},
   "outputs": [],
   "source": [
    "# データセットのインポート\n",
    "\n",
    "Data2013 = pd.read_pickle(\"Data2013.pickle\")\n",
    "Data2016 = pd.read_pickle(\"Data2016.pickle\")\n",
    "\n",
    "Data2013[\"year\"] = 2013\n",
    "Data2016[\"year\"] = 2016\n",
    "Data_train = pd.concat([Data2013, Data2016])"
   ]
  },
  {
   "cell_type": "code",
   "execution_count": null,
   "metadata": {},
   "outputs": [],
   "source": [
    "df = Data_train[[\"wl\", \"elected_count\", \"incumbent\", \"3news_avg\", \"female\", \"hereditary\",\n",
    "                 \"party_local_advantage\", \"party_HR_advantage\", \"age\", \"newcomer\"]]"
   ]
  },
  {
   "cell_type": "code",
   "execution_count": null,
   "metadata": {},
   "outputs": [],
   "source": [
    "# 乱数の種を設定\n",
    "np.random.seed(0) # 訓練データとテストデータに分ける際に, データの再現性を得られるようにする\n",
    "\n",
    "# 特徴量と目的変数に分ける\n",
    "X = df.drop(labels=[\"wl\"], axis = 1)\n",
    "y = df[\"wl\"]\n",
    "\n",
    "# 特徴量名を取り出しておく\n",
    "feature_x = X.columns\n",
    "feature_y = y.name\n",
    "\n",
    "# 学習データと評価データに分ける\n",
    "X_train, X_test, y_train, y_test = \\\n",
    "        train_test_split(X, y, test_size=0.2, random_state=0)\n",
    "\n",
    "print(\"shape of X and y for training: \", X_train.shape, y_train.shape)\n",
    "print(\"shape of X and y for teswlng: \", X_test.shape, y_test.shape)"
   ]
  },
  {
   "cell_type": "code",
   "execution_count": null,
   "metadata": {},
   "outputs": [],
   "source": [
    "# y_train.sum()/y_train.count()"
   ]
  },
  {
   "cell_type": "code",
   "execution_count": null,
   "metadata": {},
   "outputs": [],
   "source": [
    "# y_test.sum()/y_test.count()"
   ]
  },
  {
   "cell_type": "code",
   "execution_count": null,
   "metadata": {},
   "outputs": [],
   "source": [
    "# #Grid_Searchする\n",
    "# #必要なライブラリのインポート\n",
    "# from sklearn.model_selection import GridSearchCV\n",
    "\n",
    "# params = {\n",
    "#        'n_estimators'      : [10,25,50,75,100, 500],\n",
    "#        'random_state'      : [0],\n",
    "#       # 'n_jobs'            : [-1],\n",
    "#       # 'min_samples_split' : [2,5,10, 15, 20,25, 30],\n",
    "#        'max_depth'         : [5, 10, 15,20,25,30],\n",
    "#        'max_leaf_nodes'    : [3, 5, 10, 16, 20]\n",
    "# }\n",
    "# GBC_grid = GridSearchCV(estimator=GradientBoostingClassifier(random_state=0), param_grid=params, \\\n",
    "#                        scoring=\"f1\", cv = 10)\n",
    "# GBC_grid.fit(X_train, y_train.ravel())\n",
    "# print(GBC_grid.best_estimator_)\n",
    "\n",
    "# y_pred = GBC_grid.predict(X_test)\n",
    "# print(accuracy_score(y_test, y_pred))\n",
    "\n",
    "# # recallもためしてみます"
   ]
  },
  {
   "cell_type": "code",
   "execution_count": null,
   "metadata": {},
   "outputs": [],
   "source": [
    "#print(clf_grid.score(X_train, y_train))\n",
    "#print(clf_grid.score(X_test, y_test))"
   ]
  },
  {
   "cell_type": "code",
   "execution_count": null,
   "metadata": {},
   "outputs": [],
   "source": [
    "  # ランダムフォレストによる学習\n",
    "clf = GradientBoostingClassifier(criterion='friedman_mse', init=None,\n",
    "              learning_rate=0.1, loss='deviance', max_depth=5,\n",
    "              max_features=None, max_leaf_nodes=16,\n",
    "              min_impurity_decrease=0.0, min_impurity_split=None,\n",
    "              min_samples_leaf=1, min_samples_split=2,\n",
    "              min_weight_fraction_leaf=0.0, n_estimators=100,\n",
    "              presort='auto', random_state=0, subsample=1.0, verbose=0,\n",
    "              warm_start=False)\n",
    "clf.fit(X_train, y_train)\n"
   ]
  },
  {
   "cell_type": "code",
   "execution_count": null,
   "metadata": {},
   "outputs": [],
   "source": [
    "# 変数重要度\n",
    "pd.Series(data=clf.feature_importances_, \n",
    "                 index=feature_x).sort_values(ascending=False)"
   ]
  },
  {
   "cell_type": "code",
   "execution_count": null,
   "metadata": {},
   "outputs": [],
   "source": [
    "# 予測\n",
    "mat_prob = clf.predict_proba(X_test) # 予測確率\n",
    "y_pred = clf.predict(X_test) # 予測クラス"
   ]
  },
  {
   "cell_type": "code",
   "execution_count": null,
   "metadata": {
    "scrolled": true
   },
   "outputs": [],
   "source": [
    "# 予測確率\n",
    "mat_prob"
   ]
  },
  {
   "cell_type": "code",
   "execution_count": null,
   "metadata": {},
   "outputs": [],
   "source": [
    "# 正解率, F1の確認\n",
    "acc = accuracy_score(y_test, y_pred)\n",
    "f = f1_score(y_test, y_pred)\n",
    "\n",
    "print(\"accuracy:\", acc)\n",
    "print(\"f1:\", f)"
   ]
  },
  {
   "cell_type": "code",
   "execution_count": null,
   "metadata": {},
   "outputs": [],
   "source": [
    "from sklearn.metrics import confusion_matrix\n",
    "import seaborn as sns\n",
    "sns.heatmap(confusion_matrix(y_test, y_pred), annot=True, fmt='d')\n",
    "\n",
    "# サンプリングをしなおして不均衡を薄める\n",
    "# ランダムフォレスト\n",
    "# class_weightを入れて不均衡を薄める\n",
    "# y_predとy_testを見比べて特定して原因を考える"
   ]
  },
  {
   "cell_type": "code",
   "execution_count": null,
   "metadata": {},
   "outputs": [],
   "source": [
    "# Cross Validation in X_train\n",
    "\n",
    "from sklearn.model_selection import cross_val_score\n",
    "# 交差検証\n",
    "scores = cross_val_score(clf, X_train, y_train, cv=10)\n",
    "# 各分割におけるスコア\n",
    "print('Cross-Validation scores: {}'.format(scores))\n",
    "# スコアの平均値\n",
    "import numpy as np\n",
    "print('Average score: {}'.format(np.mean(scores)))"
   ]
  },
  {
   "cell_type": "code",
   "execution_count": null,
   "metadata": {},
   "outputs": [],
   "source": [
    "# Cross Validation in X_test\n",
    "\n",
    "from sklearn.model_selection import cross_val_score\n",
    "# rf_clf = GradientBoostingClassifier(bootstrap=True, class_weight=None, criterion='gini',\n",
    "#             max_depth=10, max_features='auto', max_leaf_nodes=20,\n",
    "#             min_impurity_decrease=0.0, min_impurity_split=None,\n",
    "#             min_samples_leaf=1, min_samples_split=2,\n",
    "#             min_weight_fraction_leaf=0.0, n_estimators=75, n_jobs=1,\n",
    "#             oob_score=False, random_state=0, verbose=0, warm_start=False)\n",
    "\n",
    "# 交差検証\n",
    "scores = cross_val_score(clf, X_test, y_test, cv=10)\n",
    "# 各分割におけるスコア\n",
    "print('Cross-Validation scores: {}'.format(scores))\n",
    "# スコアの平均値\n",
    "import numpy as np\n",
    "print('Average score: {}'.format(np.mean(scores)))"
   ]
  },
  {
   "cell_type": "code",
   "execution_count": null,
   "metadata": {
    "scrolled": true
   },
   "outputs": [],
   "source": [
    "# 回帰分析で有意を確認する。\n",
    "\n",
    "#　変数を選ぶ\n",
    "df = Data_train[[\"wl\", \"elected_count\", \"incumbent\", \"3news_avg\", \"hereditary\", \n",
    "                 \"party_local_advantage\", \"party_HR_advantage\", \"age\", \"female\", \"newcomer\"]]\n",
    "\n",
    "# 見てみる\n",
    "df.info()\n",
    "\n",
    "# 説明変数と被説明変数を設定する\n",
    "y = df[\"wl\"]\n",
    "X = df.drop(\"wl\", axis=1)\n",
    "\n",
    "# ライブラリのインポート\n",
    "import statsmodels.formula.api as sm\n",
    "\n",
    "# モデル作成\n",
    "model = sm.Logit(y, X)\n",
    "result = model.fit()\n",
    "\n",
    "# 分析結果を見る\n",
    "result.summary()"
   ]
  },
  {
   "cell_type": "code",
   "execution_count": null,
   "metadata": {},
   "outputs": [],
   "source": [
    "Data2013[[\"wl\", \"asahi\", \"nikkei\", \"yomiuri\", \"3news_avg\"]].corr()"
   ]
  },
  {
   "cell_type": "markdown",
   "metadata": {},
   "source": [
    "# 2019年　予測の実行"
   ]
  },
  {
   "cell_type": "code",
   "execution_count": null,
   "metadata": {},
   "outputs": [],
   "source": [
    "# データのインポート\n",
    "Data2019 = pd.read_pickle(\"Data2019.pickle\")"
   ]
  },
  {
   "cell_type": "code",
   "execution_count": null,
   "metadata": {},
   "outputs": [],
   "source": [
    "Data_test = Data2019[[\"elected_count\", \"incumbent\", \"3news_avg\", \"female\", \"hereditary\",\n",
    "                 \"party_local_advantage\", \"party_HR_advantage\", \"age\", \"newcomer\"]]"
   ]
  },
  {
   "cell_type": "code",
   "execution_count": null,
   "metadata": {},
   "outputs": [],
   "source": [
    "df2_X = Data_test"
   ]
  },
  {
   "cell_type": "code",
   "execution_count": null,
   "metadata": {},
   "outputs": [],
   "source": [
    "Data2019"
   ]
  },
  {
   "cell_type": "code",
   "execution_count": null,
   "metadata": {},
   "outputs": [],
   "source": [
    "# ランダムフォレストによる予測\n",
    "rf_prob = clf.predict_proba(df2_X) # 予測確率"
   ]
  },
  {
   "cell_type": "code",
   "execution_count": null,
   "metadata": {},
   "outputs": [],
   "source": [
    "# ランダムフォレストの予測確率\n",
    "rf_prob"
   ]
  },
  {
   "cell_type": "code",
   "execution_count": null,
   "metadata": {},
   "outputs": [],
   "source": [
    "rf_prob = pd.DataFrame(rf_prob)\n",
    "rf_prob = rf_prob.rename({0: \"lose_rate\", 1: \"win_rate\"}, axis=1)"
   ]
  },
  {
   "cell_type": "code",
   "execution_count": null,
   "metadata": {},
   "outputs": [],
   "source": [
    "# 横に連結する\n",
    "Prediction = pd.concat([Data2019, rf_prob], axis=1)"
   ]
  },
  {
   "cell_type": "markdown",
   "metadata": {},
   "source": [
    "# 提出用ファイルの作成"
   ]
  },
  {
   "cell_type": "code",
   "execution_count": null,
   "metadata": {
    "scrolled": true
   },
   "outputs": [],
   "source": [
    "Prediction[\"win_rate\"].value_counts()"
   ]
  },
  {
   "cell_type": "code",
   "execution_count": null,
   "metadata": {},
   "outputs": [],
   "source": [
    "prefecture  = Prediction['district'].unique()\n",
    "prefecture"
   ]
  },
  {
   "cell_type": "code",
   "execution_count": null,
   "metadata": {},
   "outputs": [],
   "source": [
    "Prediction.info()"
   ]
  },
  {
   "cell_type": "code",
   "execution_count": null,
   "metadata": {},
   "outputs": [],
   "source": [
    "Prediction.info()"
   ]
  },
  {
   "cell_type": "code",
   "execution_count": null,
   "metadata": {
    "scrolled": true
   },
   "outputs": [],
   "source": [
    "# Prediction = Prediction.assign(outcome = 0)\n",
    "\n",
    "# for i in prefecture:\n",
    "#     temp =  Prediction[Prediction.district ==  i]\n",
    "#     temp = temp.sort_values(by='win_rate', ascending=False)\n",
    "#     magnitude_of_temp = temp.iloc[1,[1]].values\n",
    "            \n",
    "#     count = 0\n",
    "#     for index, row in temp.iterrows():\n",
    "#         num = temp['num'][index] \n",
    "#         if count < magnitude_of_temp[0]:\n",
    "#             Prediction['outcome'].where(Prediction['num'] != num, 1, inplace=True)\n",
    "#         count = count +1\n",
    "    \n",
    "# Prediction = Prediction.sort_values(\"num\")"
   ]
  },
  {
   "cell_type": "code",
   "execution_count": null,
   "metadata": {},
   "outputs": [],
   "source": [
    "Prediction = Prediction.assign(outcome = 0)\n",
    "\n",
    "for i in prefecture:\n",
    "    temp =  Prediction[Prediction.district ==  i]\n",
    "    temp = temp.sort_values(by='win_rate', ascending=False)\n",
    "    magnitude_of_temp = temp[\"magnitude\"]\n",
    "    magnitude_of_temp =  magnitude_of_temp.iloc[1]\n",
    "            \n",
    "    count = 0\n",
    "    for index, row in temp.iterrows():\n",
    "        num = temp['num'][index] \n",
    "        if count < magnitude_of_temp:\n",
    "            Prediction['outcome'].where(Prediction['num'] != num, 1, inplace=True)\n",
    "        count = count +1\n",
    "Prediction = Prediction.sort_values(\"num\")"
   ]
  },
  {
   "cell_type": "code",
   "execution_count": null,
   "metadata": {},
   "outputs": [],
   "source": [
    "Prediction_submit = Prediction[[\"num\", \"outcome\"]]"
   ]
  },
  {
   "cell_type": "code",
   "execution_count": null,
   "metadata": {},
   "outputs": [],
   "source": [
    "submit = pd.read_csv(\"candidates_default.csv\")\n",
    "submit[\"outcome\"] = Prediction_submit[\"outcome\"]"
   ]
  },
  {
   "cell_type": "code",
   "execution_count": null,
   "metadata": {},
   "outputs": [],
   "source": [
    "# 74になっているべき\n",
    "submit[\"outcome\"].sum()"
   ]
  },
  {
   "cell_type": "code",
   "execution_count": null,
   "metadata": {},
   "outputs": [],
   "source": [
    "submit.to_csv(\"candidates_gb.csv\", index=False)"
   ]
  },
  {
   "cell_type": "markdown",
   "metadata": {},
   "source": [
    "http://dswaseda.appspot.com/login"
   ]
  },
  {
   "cell_type": "code",
   "execution_count": null,
   "metadata": {
    "scrolled": true
   },
   "outputs": [],
   "source": [
    "#Data_train[\"elected_count\"].value_counts()/2"
   ]
  },
  {
   "cell_type": "code",
   "execution_count": null,
   "metadata": {},
   "outputs": [],
   "source": [
    "#Data_test[\"elected_count\"].value_counts()"
   ]
  },
  {
   "cell_type": "code",
   "execution_count": null,
   "metadata": {},
   "outputs": [],
   "source": [
    "#Data2016[(Data2016.elected_count>0)&(Data2016.status==\"新\")]"
   ]
  },
  {
   "cell_type": "code",
   "execution_count": null,
   "metadata": {},
   "outputs": [],
   "source": [
    "#Data2013.status.value_counts()"
   ]
  },
  {
   "cell_type": "code",
   "execution_count": null,
   "metadata": {},
   "outputs": [],
   "source": [
    "#Data2016.status.value_counts()"
   ]
  },
  {
   "cell_type": "code",
   "execution_count": null,
   "metadata": {},
   "outputs": [],
   "source": [
    "#Data2019.status.value_counts()"
   ]
  },
  {
   "cell_type": "code",
   "execution_count": null,
   "metadata": {},
   "outputs": [],
   "source": [
    "#Data2013[(Data2013.wl==1)][\"elected_count\"].value_counts()"
   ]
  },
  {
   "cell_type": "code",
   "execution_count": null,
   "metadata": {},
   "outputs": [],
   "source": [
    "# Data2016[(Data2016.incumbent==0)&(Data2016.wl==1)]"
   ]
  },
  {
   "cell_type": "code",
   "execution_count": null,
   "metadata": {},
   "outputs": [],
   "source": [
    "# \n",
    "# https://togetter.com/li/997652\n",
    "# https://note.mu/miraisyakai/n/n3817778b5092"
   ]
  }
 ],
 "metadata": {
  "kernelspec": {
   "display_name": "Python 3",
   "language": "python",
   "name": "python3"
  },
  "language_info": {
   "codemirror_mode": {
    "name": "ipython",
    "version": 3
   },
   "file_extension": ".py",
   "mimetype": "text/x-python",
   "name": "python",
   "nbconvert_exporter": "python",
   "pygments_lexer": "ipython3",
   "version": "3.7.3"
  },
  "latex_envs": {
   "LaTeX_envs_menu_present": true,
   "autoclose": false,
   "autocomplete": true,
   "bibliofile": "biblio.bib",
   "cite_by": "apalike",
   "current_citInitial": 1,
   "eqLabelWithNumbers": true,
   "eqNumInitial": 1,
   "hotkeys": {
    "equation": "Ctrl-E",
    "itemize": "Ctrl-I"
   },
   "labels_anchors": false,
   "latex_user_defs": false,
   "report_style_numbering": false,
   "user_envs_cfg": false
  },
  "toc": {
   "base_numbering": 1,
   "nav_menu": {},
   "number_sections": true,
   "sideBar": true,
   "skip_h1_title": false,
   "title_cell": "Table of Contents",
   "title_sidebar": "Contents",
   "toc_cell": false,
   "toc_position": {},
   "toc_section_display": true,
   "toc_window_display": false
  }
 },
 "nbformat": 4,
 "nbformat_minor": 2
}
