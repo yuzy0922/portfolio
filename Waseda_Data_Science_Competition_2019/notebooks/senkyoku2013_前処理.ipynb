{
 "cells": [
  {
   "cell_type": "markdown",
   "metadata": {},
   "source": [
    "# 選挙区候補者の前処理を行う"
   ]
  },
  {
   "cell_type": "markdown",
   "metadata": {},
   "source": [
    "## ライブラリのインポート"
   ]
  },
  {
   "cell_type": "code",
   "execution_count": 1,
   "metadata": {},
   "outputs": [],
   "source": [
    "import numpy as np\n",
    "import pandas as pd\n",
    "import matplotlib.pyplot as plt\n",
    "import seaborn as sns\n",
    "%matplotlib inline\n",
    "\n",
    "from sklearn.model_selection import train_test_split\n",
    "from sklearn.metrics import accuracy_score, f1_score\n",
    "from sklearn.metrics import mean_squared_error, mean_absolute_error\n",
    "\n",
    "from sklearn.tree import DecisionTreeClassifier, DecisionTreeRegressor\n",
    "from sklearn.ensemble import RandomForestClassifier, RandomForestRegressor\n",
    "from sklearn.ensemble import AdaBoostClassifier, AdaBoostRegressor\n",
    "from sklearn.ensemble import GradientBoostingClassifier, GradientBoostingRegressor\n",
    "\n",
    "# 警告文を非表示に\n",
    "import warnings\n",
    "warnings.filterwarnings('ignore')\n",
    "#カラム内の文字数。デフォルトは50だった\n",
    "pd.set_option(\"display.max_colwidth\", 100)\n",
    "#行数\n",
    "pd.set_option(\"display.max_rows\", 100)"
   ]
  },
  {
   "cell_type": "markdown",
   "metadata": {},
   "source": [
    "## データのインポート"
   ]
  },
  {
   "cell_type": "code",
   "execution_count": 2,
   "metadata": {},
   "outputs": [],
   "source": [
    "kouhosha_senkyoku_2013 = pd.read_excel(\"kouhosha_senkyoku_2013.xlsx\")"
   ]
  },
  {
   "cell_type": "markdown",
   "metadata": {},
   "source": [
    "## データの確認"
   ]
  },
  {
   "cell_type": "code",
   "execution_count": 3,
   "metadata": {},
   "outputs": [
    {
     "data": {
      "text/html": [
       "<div>\n",
       "<style scoped>\n",
       "    .dataframe tbody tr th:only-of-type {\n",
       "        vertical-align: middle;\n",
       "    }\n",
       "\n",
       "    .dataframe tbody tr th {\n",
       "        vertical-align: top;\n",
       "    }\n",
       "\n",
       "    .dataframe thead th {\n",
       "        text-align: right;\n",
       "    }\n",
       "</style>\n",
       "<table border=\"1\" class=\"dataframe\">\n",
       "  <thead>\n",
       "    <tr style=\"text-align: right;\">\n",
       "      <th></th>\n",
       "      <th>選挙種別</th>\n",
       "      <th>都道府県</th>\n",
       "      <th>選挙区</th>\n",
       "      <th>氏名</th>\n",
       "      <th>ふりがな</th>\n",
       "      <th>新旧</th>\n",
       "      <th>年齢</th>\n",
       "      <th>性別</th>\n",
       "      <th>政党</th>\n",
       "      <th>推略</th>\n",
       "      <th>...</th>\n",
       "      <th>当選情報</th>\n",
       "      <th>当選回数</th>\n",
       "      <th>Twitter</th>\n",
       "      <th>Facebook</th>\n",
       "      <th>HP1</th>\n",
       "      <th>HP2</th>\n",
       "      <th>YouTube</th>\n",
       "      <th>ニコニコ動画</th>\n",
       "      <th>その他１</th>\n",
       "      <th>その他２</th>\n",
       "    </tr>\n",
       "  </thead>\n",
       "  <tbody>\n",
       "    <tr>\n",
       "      <th>0</th>\n",
       "      <td>参院選挙区</td>\n",
       "      <td>北海道</td>\n",
       "      <td>北海道</td>\n",
       "      <td>小川＝勝也</td>\n",
       "      <td>お・がわ＝かつ・や</td>\n",
       "      <td>現</td>\n",
       "      <td>50</td>\n",
       "      <td>男</td>\n",
       "      <td>民主</td>\n",
       "      <td>NaN</td>\n",
       "      <td>...</td>\n",
       "      <td>T</td>\n",
       "      <td>4</td>\n",
       "      <td>@katsusikanai</td>\n",
       "      <td>https://www.facebook.com/katsusikanai</td>\n",
       "      <td>http://www.ogawa-k.net/</td>\n",
       "      <td>NaN</td>\n",
       "      <td>http://www.youtube.com/user/KatsuyaOgawaOffice</td>\n",
       "      <td>NaN</td>\n",
       "      <td>NaN</td>\n",
       "      <td>NaN</td>\n",
       "    </tr>\n",
       "    <tr>\n",
       "      <th>1</th>\n",
       "      <td>参院選挙区</td>\n",
       "      <td>北海道</td>\n",
       "      <td>北海道</td>\n",
       "      <td>森山＝佳則</td>\n",
       "      <td>もり・やま＝よし・のり</td>\n",
       "      <td>新</td>\n",
       "      <td>46</td>\n",
       "      <td>男</td>\n",
       "      <td>幸福</td>\n",
       "      <td>NaN</td>\n",
       "      <td>...</td>\n",
       "      <td>NaN</td>\n",
       "      <td>0</td>\n",
       "      <td>@YosshiiMoriyama</td>\n",
       "      <td>https://www.facebook.com/moriyama.hokkaido</td>\n",
       "      <td>https://sites.google.com/site/kofukumoriyama/home</td>\n",
       "      <td>http://moriyama-yoshinori-hrp.blogspot.jp/</td>\n",
       "      <td>https://www.youtube.com/user/ChannelMoriyama7</td>\n",
       "      <td>NaN</td>\n",
       "      <td>NaN</td>\n",
       "      <td>NaN</td>\n",
       "    </tr>\n",
       "    <tr>\n",
       "      <th>2</th>\n",
       "      <td>参院選挙区</td>\n",
       "      <td>北海道</td>\n",
       "      <td>北海道</td>\n",
       "      <td>伊達＝忠一</td>\n",
       "      <td>だ・て＝ちゅう・いち</td>\n",
       "      <td>現</td>\n",
       "      <td>74</td>\n",
       "      <td>男</td>\n",
       "      <td>自民</td>\n",
       "      <td>公明</td>\n",
       "      <td>...</td>\n",
       "      <td>T</td>\n",
       "      <td>3</td>\n",
       "      <td>NaN</td>\n",
       "      <td>http://www.facebook.com/datechu.jp</td>\n",
       "      <td>http://www.datechu.jp/</td>\n",
       "      <td>NaN</td>\n",
       "      <td>NaN</td>\n",
       "      <td>NaN</td>\n",
       "      <td>NaN</td>\n",
       "      <td>NaN</td>\n",
       "    </tr>\n",
       "    <tr>\n",
       "      <th>3</th>\n",
       "      <td>参院選挙区</td>\n",
       "      <td>北海道</td>\n",
       "      <td>北海道</td>\n",
       "      <td>森＝英士</td>\n",
       "      <td>もり＝つね・と</td>\n",
       "      <td>新</td>\n",
       "      <td>35</td>\n",
       "      <td>男</td>\n",
       "      <td>共産</td>\n",
       "      <td>NaN</td>\n",
       "      <td>...</td>\n",
       "      <td>NaN</td>\n",
       "      <td>0</td>\n",
       "      <td>NaN</td>\n",
       "      <td>http://www.facebook.com/tsuneto.mori</td>\n",
       "      <td>http://www.jcphkdbl.gr.jp</td>\n",
       "      <td>http://morimori.blog-mmo.com/</td>\n",
       "      <td>NaN</td>\n",
       "      <td>NaN</td>\n",
       "      <td>NaN</td>\n",
       "      <td>NaN</td>\n",
       "    </tr>\n",
       "    <tr>\n",
       "      <th>4</th>\n",
       "      <td>参院選挙区</td>\n",
       "      <td>北海道</td>\n",
       "      <td>北海道</td>\n",
       "      <td>安住＝太伸</td>\n",
       "      <td>あ・ずみ＝たか・のぶ</td>\n",
       "      <td>新</td>\n",
       "      <td>43</td>\n",
       "      <td>男</td>\n",
       "      <td>みん</td>\n",
       "      <td>NaN</td>\n",
       "      <td>...</td>\n",
       "      <td>NaN</td>\n",
       "      <td>0</td>\n",
       "      <td>@azumitakanobu</td>\n",
       "      <td>https://www.facebook.com/takanobu.azumi</td>\n",
       "      <td>http://www.az3.net/</td>\n",
       "      <td>NaN</td>\n",
       "      <td>http://www.youtube.com/user/yourpartyhokkaido</td>\n",
       "      <td>NaN</td>\n",
       "      <td>NaN</td>\n",
       "      <td>NaN</td>\n",
       "    </tr>\n",
       "  </tbody>\n",
       "</table>\n",
       "<p>5 rows × 23 columns</p>\n",
       "</div>"
      ],
      "text/plain": [
       "    選挙種別 都道府県  選挙区     氏名         ふりがな 新旧  年齢 性別  政党   推略 ...  当選情報 当選回数  \\\n",
       "0  参院選挙区  北海道  北海道  小川＝勝也    お・がわ＝かつ・や  現  50  男  民主  NaN ...     T    4   \n",
       "1  参院選挙区  北海道  北海道  森山＝佳則  もり・やま＝よし・のり  新  46  男  幸福  NaN ...   NaN    0   \n",
       "2  参院選挙区  北海道  北海道  伊達＝忠一   だ・て＝ちゅう・いち  現  74  男  自民   公明 ...     T    3   \n",
       "3  参院選挙区  北海道  北海道   森＝英士      もり＝つね・と  新  35  男  共産  NaN ...   NaN    0   \n",
       "4  参院選挙区  北海道  北海道  安住＝太伸   あ・ずみ＝たか・のぶ  新  43  男  みん  NaN ...   NaN    0   \n",
       "\n",
       "            Twitter                                    Facebook  \\\n",
       "0     @katsusikanai       https://www.facebook.com/katsusikanai   \n",
       "1  @YosshiiMoriyama  https://www.facebook.com/moriyama.hokkaido   \n",
       "2               NaN          http://www.facebook.com/datechu.jp   \n",
       "3               NaN        http://www.facebook.com/tsuneto.mori   \n",
       "4    @azumitakanobu     https://www.facebook.com/takanobu.azumi   \n",
       "\n",
       "                                                 HP1  \\\n",
       "0                            http://www.ogawa-k.net/   \n",
       "1  https://sites.google.com/site/kofukumoriyama/home   \n",
       "2                             http://www.datechu.jp/   \n",
       "3                          http://www.jcphkdbl.gr.jp   \n",
       "4                                http://www.az3.net/   \n",
       "\n",
       "                                          HP2  \\\n",
       "0                                         NaN   \n",
       "1  http://moriyama-yoshinori-hrp.blogspot.jp/   \n",
       "2                                         NaN   \n",
       "3               http://morimori.blog-mmo.com/   \n",
       "4                                         NaN   \n",
       "\n",
       "                                          YouTube ニコニコ動画 その他１ その他２  \n",
       "0  http://www.youtube.com/user/KatsuyaOgawaOffice    NaN  NaN  NaN  \n",
       "1   https://www.youtube.com/user/ChannelMoriyama7    NaN  NaN  NaN  \n",
       "2                                             NaN    NaN  NaN  NaN  \n",
       "3                                             NaN    NaN  NaN  NaN  \n",
       "4   http://www.youtube.com/user/yourpartyhokkaido    NaN  NaN  NaN  \n",
       "\n",
       "[5 rows x 23 columns]"
      ]
     },
     "execution_count": 3,
     "metadata": {},
     "output_type": "execute_result"
    }
   ],
   "source": [
    "kouhosha_senkyoku_2013.head()"
   ]
  },
  {
   "cell_type": "code",
   "execution_count": 4,
   "metadata": {},
   "outputs": [
    {
     "name": "stdout",
     "output_type": "stream",
     "text": [
      "<class 'pandas.core.frame.DataFrame'>\n",
      "RangeIndex: 271 entries, 0 to 270\n",
      "Data columns (total 23 columns):\n",
      "選挙種別        271 non-null object\n",
      "都道府県        271 non-null object\n",
      "選挙区         271 non-null object\n",
      "氏名          271 non-null object\n",
      "ふりがな        271 non-null object\n",
      "新旧          271 non-null object\n",
      "年齢          271 non-null int64\n",
      "性別          271 non-null object\n",
      "政党          271 non-null object\n",
      "推略          60 non-null object\n",
      "現職          271 non-null object\n",
      "１３字略歴       271 non-null object\n",
      "３２字略歴       271 non-null object\n",
      "当選情報        73 non-null object\n",
      "当選回数        271 non-null int64\n",
      "Twitter     182 non-null object\n",
      "Facebook    225 non-null object\n",
      "HP1         254 non-null object\n",
      "HP2         79 non-null object\n",
      "YouTube     86 non-null object\n",
      "ニコニコ動画      5 non-null object\n",
      "その他１        22 non-null object\n",
      "その他２        2 non-null object\n",
      "dtypes: int64(2), object(21)\n",
      "memory usage: 48.8+ KB\n"
     ]
    }
   ],
   "source": [
    "kouhosha_senkyoku_2013.info()"
   ]
  },
  {
   "cell_type": "markdown",
   "metadata": {},
   "source": [
    "## 前処理を行う"
   ]
  },
  {
   "cell_type": "code",
   "execution_count": 5,
   "metadata": {},
   "outputs": [],
   "source": [
    "# カラム名を変える\n",
    "kouhosha_senkyoku_2013 = kouhosha_senkyoku_2013.rename({\"選挙種別\": \"category\", \"都道府県\": \"todohuken\",\n",
    "                                                        \"選挙区\": \"district\", \"氏名\": \"candidate_J\", \n",
    "                                                        \"ふりがな\": \"hurigana\", \"新旧\": \"status\", \n",
    "                                                        \"年齢\": \"age\", \"性別\": \"sex\", \"政党\": \"party\",\n",
    "                                                        \"推略\": \"suisen\", \"現職\": \"genshoku\",\n",
    "                                                        \"当選情報\": \"wl\", \"当選回数\": \"elected_count\",\n",
    "                                                        \"Twitter\": \"twitter\", \"Facebook\": \"facebook\",\n",
    "                                                        \"HP1\": \"hp1\", \"HP2\": \"hp2\", \"YouTube\": \"youtube\",\n",
    "                                                        \"ニコニコ動画\": \"niconico\", \n",
    "                                                        \"その他１\": \"others1\", \"その他２\": \"others2\"}, axis=1)\n",
    "\n",
    "# 使うカラムを選ぶ\n",
    "kouhosha_senkyoku_2013 = kouhosha_senkyoku_2013[[\"district\", \"candidate_J\", \"status\", \"age\", \"sex\", \"party\", \n",
    "                                                 \"suisen\", \"genshoku\", \"wl\", \"elected_count\", \"twitter\",\n",
    "                                                 \"facebook\", \"hp1\", \"hp2\", \"youtube\", \"niconico\",\n",
    "                                                 \"others1\", \"others2\"]]"
   ]
  },
  {
   "cell_type": "code",
   "execution_count": 6,
   "metadata": {},
   "outputs": [
    {
     "name": "stdout",
     "output_type": "stream",
     "text": [
      "<class 'pandas.core.frame.DataFrame'>\n",
      "RangeIndex: 271 entries, 0 to 270\n",
      "Data columns (total 18 columns):\n",
      "district         271 non-null object\n",
      "candidate_J      271 non-null object\n",
      "status           271 non-null object\n",
      "age              271 non-null int64\n",
      "sex              271 non-null object\n",
      "party            271 non-null object\n",
      "suisen           60 non-null object\n",
      "genshoku         271 non-null object\n",
      "wl               73 non-null object\n",
      "elected_count    271 non-null int64\n",
      "twitter          182 non-null object\n",
      "facebook         225 non-null object\n",
      "hp1              254 non-null object\n",
      "hp2              79 non-null object\n",
      "youtube          86 non-null object\n",
      "niconico         5 non-null object\n",
      "others1          22 non-null object\n",
      "others2          2 non-null object\n",
      "dtypes: int64(2), object(16)\n",
      "memory usage: 38.2+ KB\n"
     ]
    }
   ],
   "source": [
    "kouhosha_senkyoku_2013.info()"
   ]
  },
  {
   "cell_type": "markdown",
   "metadata": {},
   "source": [
    "Memo:\n",
    "・足りないカラムはgrad, hereditary\n",
    "・ダミー変数化する必要がある。\n",
    "・2010年以前のデータに関してはcsvファイルがないので手作業が必要そうである。"
   ]
  },
  {
   "cell_type": "markdown",
   "metadata": {},
   "source": [
    "## ダミー変数化する"
   ]
  },
  {
   "cell_type": "code",
   "execution_count": 7,
   "metadata": {},
   "outputs": [
    {
     "data": {
      "text/plain": [
       "array(['現', '新', '元'], dtype=object)"
      ]
     },
     "execution_count": 7,
     "metadata": {},
     "output_type": "execute_result"
    }
   ],
   "source": [
    "kouhosha_senkyoku_2013[\"status\"].unique()"
   ]
  },
  {
   "cell_type": "code",
   "execution_count": 8,
   "metadata": {},
   "outputs": [],
   "source": [
    "# ダミー変数化\n",
    "status_dummy = pd.get_dummies(kouhosha_senkyoku_2013[\"status\"])\n",
    "sex_dummy = pd.get_dummies(kouhosha_senkyoku_2013[\"sex\"])\n",
    "party_dummy = pd.get_dummies(kouhosha_senkyoku_2013[\"party\"])\n",
    "suisen_dummy = pd.get_dummies(kouhosha_senkyoku_2013[\"suisen\"])\n",
    "genshoku_dummy = pd.get_dummies(kouhosha_senkyoku_2013[\"genshoku\"])\n",
    "wl_dummy = pd.get_dummies(kouhosha_senkyoku_2013[\"wl\"])"
   ]
  },
  {
   "cell_type": "code",
   "execution_count": 9,
   "metadata": {},
   "outputs": [],
   "source": [
    "# カラム名を変える\n",
    "status_dummy = status_dummy.rename(columns={\"元\": \"previous\", \"新\": \"newcomer\", \"現\": \"incumbent\"})\n",
    "sex_dummy = sex_dummy.rename(columns={\"女\": \"female\"})\n",
    "sex_dummy = sex_dummy.drop(\"男\", axis=1)\n",
    "party_dummy = party_dummy[[\"自民\", \"民主\", \"共産\", \"公明\", \"維新\", \"社民\"]]\n",
    "party_dummy = party_dummy.rename(columns={\"自民\": \"ldp\", \"民主\": \"dpj\", \"共産\": \"jcp\", \"公明\": \"kom\", \"維新\": \"ishin\", \"社民\": \"syamin\"})\n",
    "suisen_dummy = suisen_dummy[[\"自民\", \"民主\", \"公明\"]]\n",
    "suisen_dummy = suisen_dummy.rename(columns={\"自民\": \"suisen_ldp\", \"民主\": \"suisen_dpj\", \"公明\": \"suisen_kom\"})\n",
    "genshoku_dummy = genshoku_dummy[[\"参院選挙区\", \"参院比例区\", \"県議\"]]\n",
    "genshoku_dummy = genshoku_dummy.rename(columns={\"参院選挙区\": \"councillors_senkyoku\", \"参院比例区\": \"councillors_hireiku\", \"県議\": \"kengi\"})\n",
    "wl_dummy = wl_dummy.rename(columns={\"T\": \"wl\"})\n",
    "kouhosha_senkyoku_2013 = kouhosha_senkyoku_2013.drop(\"wl\", axis=1)"
   ]
  },
  {
   "cell_type": "code",
   "execution_count": 10,
   "metadata": {},
   "outputs": [],
   "source": [
    "# 横に連結する\n",
    "Data = pd.concat([kouhosha_senkyoku_2013, status_dummy,sex_dummy, party_dummy, suisen_dummy,\n",
    "                   genshoku_dummy, wl_dummy], axis=1)"
   ]
  },
  {
   "cell_type": "code",
   "execution_count": 11,
   "metadata": {},
   "outputs": [],
   "source": [
    "# SNSダミー"
   ]
  },
  {
   "cell_type": "code",
   "execution_count": 12,
   "metadata": {},
   "outputs": [],
   "source": [
    "# twitter, facebook, youtubeを全てやっている候補者に1を、そうでない候補者には0をあてる\n",
    "Data[\"twitter_dummy\"] = Data[\"twitter\"]\n",
    "Data[\"twitter_dummy\"] = Data[\"twitter_dummy\"].fillna(0)\n",
    "Data[\"twitter_dummy\"] = Data['twitter_dummy'].mask(Data['twitter_dummy'] != 0, 1)\n",
    "\n",
    "Data[\"facebook_dummy\"] = Data[\"facebook\"]\n",
    "Data[\"facebook_dummy\"] = Data[\"facebook_dummy\"].fillna(0)\n",
    "Data[\"facebook_dummy\"] = Data['facebook_dummy'].mask(Data['facebook_dummy'] != 0, 1)\n",
    "\n",
    "Data[\"youtube_dummy\"] = Data[\"youtube\"]\n",
    "Data[\"youtube_dummy\"] = Data[\"youtube_dummy\"].fillna(0)\n",
    "Data[\"youtube_dummy\"] = Data['youtube_dummy'].mask(Data['youtube_dummy'] != 0, 1)\n",
    "\n",
    "Data[\"SNS\"] = Data[\"youtube_dummy\"]*Data[\"twitter_dummy\"]*Data[\"facebook_dummy\"]"
   ]
  },
  {
   "cell_type": "code",
   "execution_count": 13,
   "metadata": {},
   "outputs": [
    {
     "name": "stdout",
     "output_type": "stream",
     "text": [
      "<class 'pandas.core.frame.DataFrame'>\n",
      "RangeIndex: 271 entries, 0 to 270\n",
      "Data columns (total 38 columns):\n",
      "district                271 non-null object\n",
      "candidate_J             271 non-null object\n",
      "status                  271 non-null object\n",
      "age                     271 non-null int64\n",
      "sex                     271 non-null object\n",
      "party                   271 non-null object\n",
      "suisen                  60 non-null object\n",
      "genshoku                271 non-null object\n",
      "elected_count           271 non-null int64\n",
      "twitter                 182 non-null object\n",
      "facebook                225 non-null object\n",
      "hp1                     254 non-null object\n",
      "hp2                     79 non-null object\n",
      "youtube                 86 non-null object\n",
      "niconico                5 non-null object\n",
      "others1                 22 non-null object\n",
      "others2                 2 non-null object\n",
      "previous                271 non-null uint8\n",
      "newcomer                271 non-null uint8\n",
      "incumbent               271 non-null uint8\n",
      "female                  271 non-null uint8\n",
      "ldp                     271 non-null uint8\n",
      "dpj                     271 non-null uint8\n",
      "jcp                     271 non-null uint8\n",
      "kom                     271 non-null uint8\n",
      "ishin                   271 non-null uint8\n",
      "syamin                  271 non-null uint8\n",
      "suisen_ldp              271 non-null uint8\n",
      "suisen_dpj              271 non-null uint8\n",
      "suisen_kom              271 non-null uint8\n",
      "councillors_senkyoku    271 non-null uint8\n",
      "councillors_hireiku     271 non-null uint8\n",
      "kengi                   271 non-null uint8\n",
      "wl                      271 non-null uint8\n",
      "twitter_dummy           271 non-null object\n",
      "facebook_dummy          271 non-null object\n",
      "youtube_dummy           271 non-null object\n",
      "SNS                     271 non-null object\n",
      "dtypes: int64(2), object(19), uint8(17)\n",
      "memory usage: 49.0+ KB\n"
     ]
    }
   ],
   "source": [
    "Data.info()"
   ]
  },
  {
   "cell_type": "code",
   "execution_count": 14,
   "metadata": {},
   "outputs": [],
   "source": [
    "## ダミー変数化する前のカラムを捨てる\n",
    "#Data = Data.drop([\"status\", \"sex\", \"party\", \"suisen\", \"genshoku\"], axis=1)"
   ]
  },
  {
   "cell_type": "markdown",
   "metadata": {},
   "source": [
    "## 当選回数を整合的にする"
   ]
  },
  {
   "cell_type": "code",
   "execution_count": 15,
   "metadata": {},
   "outputs": [],
   "source": [
    "Data[\"elected_count_adjusted\"] = Data[\"elected_count\"]-1\n",
    "Data[\"elected_count\"] = Data[\"elected_count_adjusted\"].where(Data[\"wl\"]==1, Data[\"elected_count\"])"
   ]
  },
  {
   "cell_type": "code",
   "execution_count": 16,
   "metadata": {},
   "outputs": [],
   "source": [
    "Data.to_excel(\"Data2013.xlsx\", index=False)"
   ]
  },
  {
   "cell_type": "code",
   "execution_count": null,
   "metadata": {},
   "outputs": [],
   "source": []
  }
 ],
 "metadata": {
  "kernelspec": {
   "display_name": "Python 3",
   "language": "python",
   "name": "python3"
  },
  "language_info": {
   "codemirror_mode": {
    "name": "ipython",
    "version": 3
   },
   "file_extension": ".py",
   "mimetype": "text/x-python",
   "name": "python",
   "nbconvert_exporter": "python",
   "pygments_lexer": "ipython3",
   "version": "3.6.5"
  }
 },
 "nbformat": 4,
 "nbformat_minor": 2
}
